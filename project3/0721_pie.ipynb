{
 "cells": [
  {
   "cell_type": "code",
   "execution_count": 1,
   "metadata": {},
   "outputs": [],
   "source": [
    "import pandas as pd\n",
    "import matplotlib.pyplot as plt\n",
    "import seaborn as sns"
   ]
  },
  {
   "cell_type": "code",
   "execution_count": 2,
   "metadata": {},
   "outputs": [
    {
     "name": "stderr",
     "output_type": "stream",
     "text": [
      "C:\\Users\\user\\AppData\\Local\\Temp\\ipykernel_17052\\3263264252.py:3: MatplotlibDeprecationWarning: \n",
      "The get_fontconfig_fonts function was deprecated in Matplotlib 3.5 and will be removed two minor releases later.\n",
      "  fm.get_fontconfig_fonts()\n"
     ]
    }
   ],
   "source": [
    "import matplotlib\n",
    "import matplotlib.font_manager as fm\n",
    "fm.get_fontconfig_fonts()\n",
    "# font_location = '/usr/share/fonts/truetype/nanum/NanumGothicOTF.ttf'\n",
    "font_location = 'C:/Windows/Fonts/NanumGothic.ttf' # For Windows\n",
    "font_name = fm.FontProperties(fname=font_location).get_name()\n",
    "matplotlib.rc('font', family=font_name)"
   ]
  },
  {
   "cell_type": "code",
   "execution_count": 3,
   "metadata": {},
   "outputs": [],
   "source": [
    "sanbul = pd.read_excel('C:\\project22\\sanbul.xls'\n",
    "                       , sheet_name = \"Sheet1\")\n",
    "\n",
    "# 열 이름이 되야할 데이터 추출\n",
    "index_fix = sanbul.loc[1]\n",
    "\n",
    "# 열이름 변경\n",
    "sanbul.columns = index_fix\n",
    "\n",
    "# 필요없는 행 제거\n",
    "sanbul = sanbul.drop([0, 1])\n",
    "\n",
    "# 년 월 일 합치기?\n",
    "# 날짜 데이터와 형태 같게 만들기 yyyy-mm-dd\n",
    "sanbul['tm'] = sanbul['발생일시_년'] + '-' + sanbul['발생일시_월'] + '-' + sanbul['발생일시_일']\n",
    "\n",
    "# 발생장소_시도 = 강원, 경북, 울진만 추출\n",
    "\n",
    "condition = (sanbul.발생장소_시도 == '경북') |(sanbul.발생장소_시도 == '강원')\n",
    "sanbul_region = sanbul[condition]"
   ]
  },
  {
   "cell_type": "code",
   "execution_count": 4,
   "metadata": {},
   "outputs": [
    {
     "data": {
      "text/plain": [
       "Index(['발생일시_년', '발생일시_월', '발생일시_일', '발생일시_시간', '발생일시_요일', '진화종료시간_년',\n",
       "       '진화종료시간_월', '진화종료시간_일', '진화종료시간_시간', '발생장소_관서', '발생장소_시도', '발생장소_시군구',\n",
       "       '발생장소_읍면', '발생장소_동리', '발생원인_구분', '발생원인_세부원인', '발생원인_기타', '피해면적_합계',\n",
       "       'tm'],\n",
       "      dtype='object', name=1)"
      ]
     },
     "execution_count": 4,
     "metadata": {},
     "output_type": "execute_result"
    }
   ],
   "source": [
    "sanbul_region.columns"
   ]
  },
  {
   "cell_type": "code",
   "execution_count": 5,
   "metadata": {},
   "outputs": [],
   "source": [
    "sanbul_ca_list = set(sanbul_region['발생원인_구분'])\n",
    "sanbul_ca_list = list(sanbul_ca_list)"
   ]
  },
  {
   "cell_type": "code",
   "execution_count": 6,
   "metadata": {},
   "outputs": [
    {
     "data": {
      "text/plain": [
       "['담', '건', '입', '기', '쓰']"
      ]
     },
     "execution_count": 6,
     "metadata": {},
     "output_type": "execute_result"
    }
   ],
   "source": [
    "sanbul_ca_list"
   ]
  },
  {
   "cell_type": "code",
   "execution_count": 7,
   "metadata": {},
   "outputs": [],
   "source": [
    "data = sanbul_region.groupby('발생원인_구분').count()\n",
    "data.reset_index(inplace=True, drop = True)"
   ]
  },
  {
   "cell_type": "code",
   "execution_count": 8,
   "metadata": {},
   "outputs": [
    {
     "data": {
      "text/plain": [
       "0     84\n",
       "1    674\n",
       "2     67\n",
       "3    174\n",
       "4    523\n",
       "Name: tm, dtype: int64"
      ]
     },
     "execution_count": 8,
     "metadata": {},
     "output_type": "execute_result"
    }
   ],
   "source": [
    "data['tm']"
   ]
  },
  {
   "cell_type": "code",
   "execution_count": 9,
   "metadata": {},
   "outputs": [
    {
     "data": {
      "text/plain": [
       "([<matplotlib.patches.Wedge at 0x26658f37670>,\n",
       "  <matplotlib.patches.Wedge at 0x26658f45d30>,\n",
       "  <matplotlib.patches.Wedge at 0x26658f5e490>,\n",
       "  <matplotlib.patches.Wedge at 0x26658f5ebb0>,\n",
       "  <matplotlib.patches.Wedge at 0x26658c1d310>],\n",
       " [Text(1.0835068580908644, 0.18977062067154493, '담'),\n",
       "  Text(-0.18305755153453485, 1.0846612064724086, '건'),\n",
       "  Text(-1.091291990247388, -0.13813685975109927, '입'),\n",
       "  Text(-0.8931107728349788, -0.6421472941982294, '기'),\n",
       "  Text(0.5189117888624846, -0.9699126534794442, '쓰')],\n",
       " [Text(0.5910037407768352, 0.1035112476390245, '5.5%'),\n",
       "  Text(-0.09984957356429174, 0.5916333853485864, '44.3%'),\n",
       "  Text(-0.5952501764985753, -0.07534737804605414, '4.4%'),\n",
       "  Text(-0.48715133063726107, -0.3502621604717614, '11.4%'),\n",
       "  Text(0.28304279392499154, -0.5290432655342422, '34.4%')])"
      ]
     },
     "execution_count": 9,
     "metadata": {},
     "output_type": "execute_result"
    },
    {
     "name": "stderr",
     "output_type": "stream",
     "text": [
      "c:\\Users\\user\\AppData\\Local\\Programs\\Python\\Python38\\lib\\site-packages\\IPython\\core\\pylabtools.py:151: UserWarning: Glyph 45812 (\\N{HANGUL SYLLABLE DAM}) missing from current font.\n",
      "  fig.canvas.print_figure(bytes_io, **kw)\n",
      "c:\\Users\\user\\AppData\\Local\\Programs\\Python\\Python38\\lib\\site-packages\\IPython\\core\\pylabtools.py:151: UserWarning: Glyph 44148 (\\N{HANGUL SYLLABLE GEON}) missing from current font.\n",
      "  fig.canvas.print_figure(bytes_io, **kw)\n",
      "c:\\Users\\user\\AppData\\Local\\Programs\\Python\\Python38\\lib\\site-packages\\IPython\\core\\pylabtools.py:151: UserWarning: Glyph 51077 (\\N{HANGUL SYLLABLE IB}) missing from current font.\n",
      "  fig.canvas.print_figure(bytes_io, **kw)\n",
      "c:\\Users\\user\\AppData\\Local\\Programs\\Python\\Python38\\lib\\site-packages\\IPython\\core\\pylabtools.py:151: UserWarning: Glyph 44592 (\\N{HANGUL SYLLABLE GI}) missing from current font.\n",
      "  fig.canvas.print_figure(bytes_io, **kw)\n",
      "c:\\Users\\user\\AppData\\Local\\Programs\\Python\\Python38\\lib\\site-packages\\IPython\\core\\pylabtools.py:151: UserWarning: Glyph 50416 (\\N{HANGUL SYLLABLE SSEU}) missing from current font.\n",
      "  fig.canvas.print_figure(bytes_io, **kw)\n"
     ]
    },
    {
     "data": {
      "image/png": "[encoded data removed]",
      "text/plain": [
       "<Figure size 432x288 with 1 Axes>"
      ]
     },
     "metadata": {},
     "output_type": "display_data"
    }
   ],
   "source": [
    "data = sanbul_region.groupby('발생원인_구분').count()\n",
    "data.reset_index(inplace=True,  drop = True)\n",
    "data = data['tm']\n",
    "# data.reset_index(inplace=True)\n",
    "\n",
    "color = sns.color_palette('tab10')\n",
    "labels = sanbul_ca_list\n",
    "sns.set_style('darkgrid')\n",
    "\n",
    "plt.pie(data, colors = color, labels= labels,autopct = '%1.1f%%')"
   ]
  },
  {
   "cell_type": "code",
   "execution_count": 10,
   "metadata": {},
   "outputs": [
    {
     "data": {
      "text/plain": [
       "0     84\n",
       "1    674\n",
       "2     67\n",
       "3    174\n",
       "4    523\n",
       "Name: tm, dtype: int64"
      ]
     },
     "execution_count": 10,
     "metadata": {},
     "output_type": "execute_result"
    }
   ],
   "source": [
    "data"
   ]
  }
 ],
 "metadata": {
  "kernelspec": {
   "display_name": "Python 3.8.10 64-bit",
   "language": "python",
   "name": "python3"
  },
  "language_info": {
   "codemirror_mode": {
    "name": "ipython",
    "version": 3
   },
   "file_extension": ".py",
   "mimetype": "text/x-python",
   "name": "python",
   "nbconvert_exporter": "python",
   "pygments_lexer": "ipython3",
   "version": "3.8.10"
  },
  "orig_nbformat": 4,
  "vscode": {
   "interpreter": {
    "hash": "6a926afa313b26ae1264fdcf81c726a97e69f6ba2ba780f6aa901948710f8d6e"
   }
  }
 },
 "nbformat": 4,
 "nbformat_minor": 2
}
