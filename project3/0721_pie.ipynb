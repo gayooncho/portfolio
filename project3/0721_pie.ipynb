{
 "cells": [
  {
   "cell_type": "code",
   "execution_count": 1,
   "metadata": {},
   "outputs": [],
   "source": [
    "import pandas as pd\n",
    "import matplotlib.pyplot as plt\n",
    "import seaborn as sns"
   ]
  },
  {
   "cell_type": "code",
   "execution_count": 2,
   "metadata": {},
   "outputs": [],
   "source": [
    "sanbul = pd.read_excel('C:\\project22\\sanbul.xls'\n",
    "                       , sheet_name = \"Sheet1\")\n",
    "\n",
    "# 열 이름이 되야할 데이터 추출\n",
    "index_fix = sanbul.loc[1]\n",
    "\n",
    "# 열이름 변경\n",
    "sanbul.columns = index_fix\n",
    "\n",
    "# 필요없는 행 제거\n",
    "sanbul = sanbul.drop([0, 1])\n",
    "\n",
    "# 년 월 일 합치기?\n",
    "# 날짜 데이터와 형태 같게 만들기 yyyy-mm-dd\n",
    "sanbul['tm'] = sanbul['발생일시_년'] + '-' + sanbul['발생일시_월'] + '-' + sanbul['발생일시_일']\n",
    "\n",
    "# 발생장소_시도 = 강원, 경북, 울진만 추출\n",
    "\n",
    "condition = (sanbul.발생장소_시도 == '경북') |(sanbul.발생장소_시도 == '강원')\n",
    "sanbul_region = sanbul[condition]"
   ]
  },
  {
   "cell_type": "code",
   "execution_count": 3,
   "metadata": {},
   "outputs": [
    {
     "data": {
      "text/plain": [
       "Index(['발생일시_년', '발생일시_월', '발생일시_일', '발생일시_시간', '발생일시_요일', '진화종료시간_년',\n",
       "       '진화종료시간_월', '진화종료시간_일', '진화종료시간_시간', '발생장소_관서', '발생장소_시도', '발생장소_시군구',\n",
       "       '발생장소_읍면', '발생장소_동리', '발생원인_구분', '발생원인_세부원인', '발생원인_기타', '피해면적_합계',\n",
       "       'tm'],\n",
       "      dtype='object', name=1)"
      ]
     },
     "execution_count": 3,
     "metadata": {},
     "output_type": "execute_result"
    }
   ],
   "source": [
    "sanbul_region.columns"
   ]
  },
  {
   "cell_type": "code",
   "execution_count": 4,
   "metadata": {},
   "outputs": [],
   "source": [
    "sanbul_ca_list = set(sanbul_region['발생원인_구분'])\n",
    "sanbul_ca_list = list(sanbul_ca_list)"
   ]
  },
  {
   "cell_type": "code",
   "execution_count": 5,
   "metadata": {},
   "outputs": [
    {
     "data": {
      "text/plain": [
       "['쓰', '건', '기', '담', '입']"
      ]
     },
     "execution_count": 5,
     "metadata": {},
     "output_type": "execute_result"
    }
   ],
   "source": [
    "sanbul_ca_list"
   ]
  },
  {
   "cell_type": "code",
   "execution_count": 9,
   "metadata": {},
   "outputs": [],
   "source": [
    "data = sanbul_region.groupby('발생원인_구분').count()\n",
    "data.reset_index(inplace=True)"
   ]
  },
  {
   "cell_type": "code",
   "execution_count": 13,
   "metadata": {},
   "outputs": [
    {
     "data": {
      "text/plain": [
       "0     84\n",
       "1    674\n",
       "2     67\n",
       "3    174\n",
       "4    523\n",
       "Name: tm, dtype: int64"
      ]
     },
     "execution_count": 13,
     "metadata": {},
     "output_type": "execute_result"
    }
   ],
   "source": [
    "data['tm']"
   ]
  },
  {
   "cell_type": "code",
   "execution_count": 18,
   "metadata": {},
   "outputs": [],
   "source": [
    "# data = sanbul_region.groupby('발생원인_구분').count()\n",
    "# data = data[['tm']]\n",
    "# data.reset_index(inplace=True)\n",
    "\n",
    "# color = sns.color_palette('dark')[0:6]\n",
    "# # labels = sanbul_ca_list\n",
    "\n",
    "# plt.pie(data, colors = color, autopct = '%1.1f%%')"
   ]
  }
 ],
 "metadata": {
  "kernelspec": {
   "display_name": "Python 3.8.10 64-bit",
   "language": "python",
   "name": "python3"
  },
  "language_info": {
   "codemirror_mode": {
    "name": "ipython",
    "version": 3
   },
   "file_extension": ".py",
   "mimetype": "text/x-python",
   "name": "python",
   "nbconvert_exporter": "python",
   "pygments_lexer": "ipython3",
   "version": "3.8.10"
  },
  "orig_nbformat": 4,
  "vscode": {
   "interpreter": {
    "hash": "6a926afa313b26ae1264fdcf81c726a97e69f6ba2ba780f6aa901948710f8d6e"
   }
  }
 },
 "nbformat": 4,
 "nbformat_minor": 2
}
