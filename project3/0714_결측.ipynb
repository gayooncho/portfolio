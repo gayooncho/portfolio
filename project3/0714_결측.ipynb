{
 "cells": [
  {
   "cell_type": "code",
   "execution_count": null,
   "metadata": {},
   "outputs": [],
   "source": [
    "import pandas as pd\n",
    "import numpy as np\n",
    "\n",
    "# 히트맵 그려보기\n",
    "# %amtplotlib inline\n",
    "import matplotlib.pyplot as plt\n",
    "import seaborn as sns"
   ]
  },
  {
   "cell_type": "code",
   "execution_count": 2,
   "metadata": {},
   "outputs": [
    {
     "name": "stderr",
     "output_type": "stream",
     "text": [
      "C:\\Users\\user\\AppData\\Local\\Temp\\ipykernel_6476\\1454446577.py:1: DtypeWarning: Columns (62) have mixed types. Specify dtype option on import or set low_memory=False.\n",
      "  wether = pd.read_csv('C:\\project22\\python\\wether_dataframe.csv', encoding = 'euc-kr')\n"
     ]
    }
   ],
   "source": [
    "wether = pd.read_csv('C:\\project22\\python\\wether_dataframe.csv', encoding = 'euc-kr')\n",
    "wether.drop(['Unnamed: 0', 'index', 'stnId'], axis = 1, inplace=True)\n",
    "\n",
    "wether_2 = pd.read_csv('C:\\project22\\python\\OBS_AWS_DD_20220714142558.csv', encoding = 'euc-kr')\n",
    "wether_2.drop(['지점'], axis=1, inplace=True)\n"
   ]
  },
  {
   "cell_type": "code",
   "execution_count": 3,
   "metadata": {},
   "outputs": [],
   "source": [
    "index_name = ['stnNm', 'tm', 'avgTa', 'minTa', 'minTaHrmt', 'maxTa', 'maxTaHrmt', 'sumRn', 'maxInsWs', 'maxInsWsHrmt', 'avgWs', 'maxInsWsWd']\n",
    "\n",
    "wether_2.columns = index_name"
   ]
  },
  {
   "cell_type": "code",
   "execution_count": 4,
   "metadata": {},
   "outputs": [],
   "source": [
    "wether_concat = pd.concat([wether, wether_2])"
   ]
  },
  {
   "cell_type": "code",
   "execution_count": 7,
   "metadata": {},
   "outputs": [],
   "source": [
    "wether_corr = wether_concat[['stnNm', 'tm','avgTa', 'minTa', 'maxTa', 'maxInsWs', 'maxInsWsWd', \n",
    "                              'maxWs', 'maxWsWd', 'hr24SumRws', 'avgTd', 'minRhm', 'avgRhm',\n",
    "                              'avgPv', 'avgPa', 'sumSsHr']]"
   ]
  },
  {
   "cell_type": "code",
   "execution_count": 8,
   "metadata": {},
   "outputs": [
    {
     "data": {
      "text/plain": [
       "stnNm             0\n",
       "tm                0\n",
       "avgTa           209\n",
       "minTa           159\n",
       "maxTa           167\n",
       "maxInsWs        191\n",
       "maxInsWsWd      193\n",
       "maxWs         34213\n",
       "maxWsWd       34209\n",
       "hr24SumRws    34248\n",
       "avgTd         34286\n",
       "minRhm        34223\n",
       "avgRhm        34301\n",
       "avgPv         34295\n",
       "avgPa         34258\n",
       "sumSsHr       34417\n",
       "dtype: int64"
      ]
     },
     "execution_count": 8,
     "metadata": {},
     "output_type": "execute_result"
    }
   ],
   "source": [
    "wether_corr.isnull().sum()"
   ]
  },
  {
   "cell_type": "code",
   "execution_count": null,
   "metadata": {},
   "outputs": [],
   "source": [
    "wether_corr"
   ]
  },
  {
   "cell_type": "code",
   "execution_count": 11,
   "metadata": {},
   "outputs": [],
   "source": [
    "# wether_corr.to_csv('./wether_corr.csv', encoding='euc-kr')"
   ]
  }
 ],
 "metadata": {
  "kernelspec": {
   "display_name": "Python 3.8.10 64-bit",
   "language": "python",
   "name": "python3"
  },
  "language_info": {
   "codemirror_mode": {
    "name": "ipython",
    "version": 3
   },
   "file_extension": ".py",
   "mimetype": "text/x-python",
   "name": "python",
   "nbconvert_exporter": "python",
   "pygments_lexer": "ipython3",
   "version": "3.8.10"
  },
  "orig_nbformat": 4,
  "vscode": {
   "interpreter": {
    "hash": "6a926afa313b26ae1264fdcf81c726a97e69f6ba2ba780f6aa901948710f8d6e"
   }
  }
 },
 "nbformat": 4,
 "nbformat_minor": 2
}
