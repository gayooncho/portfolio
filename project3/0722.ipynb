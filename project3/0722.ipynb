{
 "cells": [
  {
   "cell_type": "code",
   "execution_count": 1,
   "metadata": {},
   "outputs": [],
   "source": [
    "import pandas as pd\n",
    "import numpy as np\n",
    "\n",
    "# 히트맵 그려보기\n",
    "# %amtplotlib inline\n",
    "import matplotlib.pyplot as plt\n",
    "import seaborn as sns\n",
    "\n",
    "from matplotlib import font_manager, rc\n",
    "\n",
    "font_name = font_manager.FontProperties(fname=\"c:/Windows/Fonts/malgun.ttf\").get_name()\n",
    "rc('font', family=font_name)"
   ]
  },
  {
   "cell_type": "code",
   "execution_count": 2,
   "metadata": {},
   "outputs": [],
   "source": [
    "weather = pd.read_csv('C:/project22/raw_fire_weather_7yr.csv')"
   ]
  },
  {
   "cell_type": "code",
   "execution_count": 3,
   "metadata": {},
   "outputs": [],
   "source": [
    "# 실효습도 \n",
    "# (1-r)*(weather.loc['일평균상대습도'] + r*weather.loc[i-1,'일평균상대습도'] + r2*weather.loc[i-2,'일평균상대습도'] + r3*weather.loc[i-3,'일평균상대습도'] + r4*weather.loc[i-4,'일평균상대습도'])\n",
    "# weather.loc[i, '실효습도']= (1-r)*(weather.loc[i, '일평균상대습도'] + r*weather.loc[i-1,'일평균상대습도'] + r2*weather.loc[i-2,'일평균상대습도'] + r3*weather.loc[i-3,'일평균상대습도'] + r4*weather.loc[i-4,'일평균상대습도']) \n",
    "# weather.loc[i, '실효습도'] = (1-r)*(weather.loc[i, '일평균상대습도'] + r*weather.loc[i-1,'일평균상대습도'] + r2*weather.loc[i-2,'일평균상대습도'] + r3*weather.loc[i-3,'일평균상대습도'] + r4*weather.loc[i-4,'일평균상대습도']) \n",
    "\n",
    "r = 0.7\n",
    "r2 = 0.7*0.7\n",
    "r3 = 0.7*0.7*0.7\n",
    "r4 = 0.7*0.7*0.7*0.7\n",
    "\n",
    "for i in range(len(weather)):\n",
    "    if i == 0 :\n",
    "        weather.loc[i, '실효습도'] = (1-r)*(weather.loc[i, '일평균상대습도'])\n",
    "    elif i == 1:\n",
    "        weather.loc[i, '실효습도'] = (1-r)*(weather.loc[i, '일평균상대습도'] + r*weather.loc[i-1,'일평균상대습도'])\n",
    "    elif i == 2:\n",
    "        weather.loc[i, '실효습도'] = (1-r)*(weather.loc[i, '일평균상대습도'] + r*weather.loc[i-1,'일평균상대습도'] + r2*weather.loc[i-2,'일평균상대습도'] )\n",
    "    elif i == 3:\n",
    "        weather.loc[i, '실효습도'] = (1-r)*(weather.loc[i, '일평균상대습도'] + r*weather.loc[i-1,'일평균상대습도'] + r2*weather.loc[i-2,'일평균상대습도'] + r3*weather.loc[i-3,'일평균상대습도'])\n",
    "    else:\n",
    "        weather.loc[i, '실효습도'] = (1-r)*(weather.loc[i, '일평균상대습도'] + r*weather.loc[i-1,'일평균상대습도'] + r2*weather.loc[i-2,'일평균상대습도'] + r3*weather.loc[i-3,'일평균상대습도'] + r4*weather.loc[i-4,'일평균상대습도'])         "
   ]
  },
  {
   "cell_type": "code",
   "execution_count": 4,
   "metadata": {},
   "outputs": [],
   "source": [
    "weather_1 = weather"
   ]
  },
  {
   "cell_type": "code",
   "execution_count": 5,
   "metadata": {},
   "outputs": [
    {
     "data": {
      "text/plain": [
       "0       13.620000\n",
       "1       21.294000\n",
       "2       27.953700\n",
       "3       32.707590\n",
       "4       39.199113\n",
       "          ...    \n",
       "5497    61.035544\n",
       "5498    54.307305\n",
       "5499    46.709639\n",
       "5500    42.977073\n",
       "5501    41.372461\n",
       "Name: 실효습도, Length: 5502, dtype: float64"
      ]
     },
     "execution_count": 5,
     "metadata": {},
     "output_type": "execute_result"
    }
   ],
   "source": [
    "weather['실효습도']"
   ]
  },
  {
   "cell_type": "code",
   "execution_count": 6,
   "metadata": {},
   "outputs": [],
   "source": [
    "sanbul = weather[weather['산불발생여부'] == 1]"
   ]
  },
  {
   "cell_type": "code",
   "execution_count": 7,
   "metadata": {},
   "outputs": [
    {
     "data": {
      "text/html": [
       "<div>\n",
       "<style scoped>\n",
       "    .dataframe tbody tr th:only-of-type {\n",
       "        vertical-align: middle;\n",
       "    }\n",
       "\n",
       "    .dataframe tbody tr th {\n",
       "        vertical-align: top;\n",
       "    }\n",
       "\n",
       "    .dataframe thead th {\n",
       "        text-align: right;\n",
       "    }\n",
       "</style>\n",
       "<table border=\"1\" class=\"dataframe\">\n",
       "  <thead>\n",
       "    <tr style=\"text-align: right;\">\n",
       "      <th></th>\n",
       "      <th>산불발생여부</th>\n",
       "      <th>관측일</th>\n",
       "      <th>평균기온</th>\n",
       "      <th>일최고기온</th>\n",
       "      <th>일최고기온시각</th>\n",
       "      <th>일최저기온</th>\n",
       "      <th>일최저기온시각</th>\n",
       "      <th>일평균현지기압</th>\n",
       "      <th>일최고현지기압</th>\n",
       "      <th>일최고현지기압시각</th>\n",
       "      <th>...</th>\n",
       "      <th>최다운량</th>\n",
       "      <th>최다운량시각</th>\n",
       "      <th>일합계일조시간</th>\n",
       "      <th>일합계일사량</th>\n",
       "      <th>일평균지면온도</th>\n",
       "      <th>진화종료시간_년</th>\n",
       "      <th>진화종료시간_월</th>\n",
       "      <th>진화종료시간_일</th>\n",
       "      <th>피해면적_합계</th>\n",
       "      <th>실효습도</th>\n",
       "    </tr>\n",
       "  </thead>\n",
       "  <tbody>\n",
       "    <tr>\n",
       "      <th>count</th>\n",
       "      <td>1265.0</td>\n",
       "      <td>1.265000e+03</td>\n",
       "      <td>1265.000000</td>\n",
       "      <td>1265.000000</td>\n",
       "      <td>1265.000000</td>\n",
       "      <td>1265.000000</td>\n",
       "      <td>1265.000000</td>\n",
       "      <td>1265.000000</td>\n",
       "      <td>1265.000000</td>\n",
       "      <td>1265.000000</td>\n",
       "      <td>...</td>\n",
       "      <td>1265.000000</td>\n",
       "      <td>1265.000000</td>\n",
       "      <td>1265.000000</td>\n",
       "      <td>1265.000000</td>\n",
       "      <td>1265.000000</td>\n",
       "      <td>1265.000000</td>\n",
       "      <td>1265.000000</td>\n",
       "      <td>1265.000000</td>\n",
       "      <td>1265.000000</td>\n",
       "      <td>1265.000000</td>\n",
       "    </tr>\n",
       "    <tr>\n",
       "      <th>mean</th>\n",
       "      <td>1.0</td>\n",
       "      <td>2.017055e+07</td>\n",
       "      <td>10.509975</td>\n",
       "      <td>17.434505</td>\n",
       "      <td>1394.951153</td>\n",
       "      <td>3.798957</td>\n",
       "      <td>802.729797</td>\n",
       "      <td>997.746692</td>\n",
       "      <td>1000.471560</td>\n",
       "      <td>1083.896218</td>\n",
       "      <td>...</td>\n",
       "      <td>6.980708</td>\n",
       "      <td>910.909240</td>\n",
       "      <td>8.824314</td>\n",
       "      <td>17.425954</td>\n",
       "      <td>13.219809</td>\n",
       "      <td>2017.006324</td>\n",
       "      <td>4.735968</td>\n",
       "      <td>15.394466</td>\n",
       "      <td>6.374190</td>\n",
       "      <td>43.368299</td>\n",
       "    </tr>\n",
       "    <tr>\n",
       "      <th>std</th>\n",
       "      <td>0.0</td>\n",
       "      <td>2.009846e+04</td>\n",
       "      <td>8.597552</td>\n",
       "      <td>9.196822</td>\n",
       "      <td>158.001676</td>\n",
       "      <td>8.192960</td>\n",
       "      <td>483.414243</td>\n",
       "      <td>8.618840</td>\n",
       "      <td>8.633773</td>\n",
       "      <td>744.364079</td>\n",
       "      <td>...</td>\n",
       "      <td>2.790961</td>\n",
       "      <td>515.237048</td>\n",
       "      <td>2.530541</td>\n",
       "      <td>6.140050</td>\n",
       "      <td>10.621245</td>\n",
       "      <td>2.007886</td>\n",
       "      <td>2.920602</td>\n",
       "      <td>8.976506</td>\n",
       "      <td>79.242905</td>\n",
       "      <td>9.574232</td>\n",
       "    </tr>\n",
       "    <tr>\n",
       "      <th>min</th>\n",
       "      <td>1.0</td>\n",
       "      <td>2.014010e+07</td>\n",
       "      <td>-11.354000</td>\n",
       "      <td>-7.531000</td>\n",
       "      <td>25.308000</td>\n",
       "      <td>-15.662000</td>\n",
       "      <td>41.643000</td>\n",
       "      <td>974.850000</td>\n",
       "      <td>976.977000</td>\n",
       "      <td>1.000000</td>\n",
       "      <td>...</td>\n",
       "      <td>0.000000</td>\n",
       "      <td>0.000000</td>\n",
       "      <td>0.000000</td>\n",
       "      <td>1.064000</td>\n",
       "      <td>-7.223000</td>\n",
       "      <td>2014.000000</td>\n",
       "      <td>1.000000</td>\n",
       "      <td>1.000000</td>\n",
       "      <td>0.010000</td>\n",
       "      <td>22.837647</td>\n",
       "    </tr>\n",
       "    <tr>\n",
       "      <th>25%</th>\n",
       "      <td>1.0</td>\n",
       "      <td>2.015060e+07</td>\n",
       "      <td>3.264000</td>\n",
       "      <td>9.829000</td>\n",
       "      <td>1368.000000</td>\n",
       "      <td>-2.936000</td>\n",
       "      <td>513.357000</td>\n",
       "      <td>991.392000</td>\n",
       "      <td>994.315000</td>\n",
       "      <td>592.643000</td>\n",
       "      <td>...</td>\n",
       "      <td>5.250000</td>\n",
       "      <td>500.000000</td>\n",
       "      <td>7.543000</td>\n",
       "      <td>12.035000</td>\n",
       "      <td>4.100000</td>\n",
       "      <td>2015.000000</td>\n",
       "      <td>3.000000</td>\n",
       "      <td>7.000000</td>\n",
       "      <td>0.030000</td>\n",
       "      <td>35.851929</td>\n",
       "    </tr>\n",
       "    <tr>\n",
       "      <th>50%</th>\n",
       "      <td>1.0</td>\n",
       "      <td>2.017051e+07</td>\n",
       "      <td>10.821000</td>\n",
       "      <td>18.215000</td>\n",
       "      <td>1424.462000</td>\n",
       "      <td>3.238000</td>\n",
       "      <td>620.357000</td>\n",
       "      <td>997.614000</td>\n",
       "      <td>1000.186000</td>\n",
       "      <td>890.571000</td>\n",
       "      <td>...</td>\n",
       "      <td>7.833000</td>\n",
       "      <td>866.667000</td>\n",
       "      <td>9.257000</td>\n",
       "      <td>17.928000</td>\n",
       "      <td>12.992000</td>\n",
       "      <td>2017.000000</td>\n",
       "      <td>4.000000</td>\n",
       "      <td>15.000000</td>\n",
       "      <td>0.100000</td>\n",
       "      <td>42.362955</td>\n",
       "    </tr>\n",
       "    <tr>\n",
       "      <th>75%</th>\n",
       "      <td>1.0</td>\n",
       "      <td>2.019031e+07</td>\n",
       "      <td>17.515000</td>\n",
       "      <td>24.869000</td>\n",
       "      <td>1473.286000</td>\n",
       "      <td>9.757000</td>\n",
       "      <td>902.071000</td>\n",
       "      <td>1004.557000</td>\n",
       "      <td>1007.229000</td>\n",
       "      <td>1889.846000</td>\n",
       "      <td>...</td>\n",
       "      <td>9.214000</td>\n",
       "      <td>1307.143000</td>\n",
       "      <td>10.729000</td>\n",
       "      <td>22.692000</td>\n",
       "      <td>21.457000</td>\n",
       "      <td>2019.000000</td>\n",
       "      <td>6.000000</td>\n",
       "      <td>23.000000</td>\n",
       "      <td>0.300000</td>\n",
       "      <td>50.504849</td>\n",
       "    </tr>\n",
       "    <tr>\n",
       "      <th>max</th>\n",
       "      <td>1.0</td>\n",
       "      <td>2.020122e+07</td>\n",
       "      <td>31.279000</td>\n",
       "      <td>37.864000</td>\n",
       "      <td>1899.071000</td>\n",
       "      <td>26.007000</td>\n",
       "      <td>2357.308000</td>\n",
       "      <td>1020.050000</td>\n",
       "      <td>1022.371000</td>\n",
       "      <td>2355.286000</td>\n",
       "      <td>...</td>\n",
       "      <td>10.000000</td>\n",
       "      <td>2100.000000</td>\n",
       "      <td>13.008000</td>\n",
       "      <td>29.237000</td>\n",
       "      <td>40.436000</td>\n",
       "      <td>2020.000000</td>\n",
       "      <td>12.000000</td>\n",
       "      <td>31.000000</td>\n",
       "      <td>1944.000000</td>\n",
       "      <td>70.837375</td>\n",
       "    </tr>\n",
       "  </tbody>\n",
       "</table>\n",
       "<p>8 rows × 45 columns</p>\n",
       "</div>"
      ],
      "text/plain": [
       "       산불발생여부           관측일         평균기온        일최고기온      일최고기온시각  \\\n",
       "count  1265.0  1.265000e+03  1265.000000  1265.000000  1265.000000   \n",
       "mean      1.0  2.017055e+07    10.509975    17.434505  1394.951153   \n",
       "std       0.0  2.009846e+04     8.597552     9.196822   158.001676   \n",
       "min       1.0  2.014010e+07   -11.354000    -7.531000    25.308000   \n",
       "25%       1.0  2.015060e+07     3.264000     9.829000  1368.000000   \n",
       "50%       1.0  2.017051e+07    10.821000    18.215000  1424.462000   \n",
       "75%       1.0  2.019031e+07    17.515000    24.869000  1473.286000   \n",
       "max       1.0  2.020122e+07    31.279000    37.864000  1899.071000   \n",
       "\n",
       "             일최저기온      일최저기온시각      일평균현지기압      일최고현지기압    일최고현지기압시각  ...  \\\n",
       "count  1265.000000  1265.000000  1265.000000  1265.000000  1265.000000  ...   \n",
       "mean      3.798957   802.729797   997.746692  1000.471560  1083.896218  ...   \n",
       "std       8.192960   483.414243     8.618840     8.633773   744.364079  ...   \n",
       "min     -15.662000    41.643000   974.850000   976.977000     1.000000  ...   \n",
       "25%      -2.936000   513.357000   991.392000   994.315000   592.643000  ...   \n",
       "50%       3.238000   620.357000   997.614000  1000.186000   890.571000  ...   \n",
       "75%       9.757000   902.071000  1004.557000  1007.229000  1889.846000  ...   \n",
       "max      26.007000  2357.308000  1020.050000  1022.371000  2355.286000  ...   \n",
       "\n",
       "              최다운량       최다운량시각      일합계일조시간       일합계일사량      일평균지면온도  \\\n",
       "count  1265.000000  1265.000000  1265.000000  1265.000000  1265.000000   \n",
       "mean      6.980708   910.909240     8.824314    17.425954    13.219809   \n",
       "std       2.790961   515.237048     2.530541     6.140050    10.621245   \n",
       "min       0.000000     0.000000     0.000000     1.064000    -7.223000   \n",
       "25%       5.250000   500.000000     7.543000    12.035000     4.100000   \n",
       "50%       7.833000   866.667000     9.257000    17.928000    12.992000   \n",
       "75%       9.214000  1307.143000    10.729000    22.692000    21.457000   \n",
       "max      10.000000  2100.000000    13.008000    29.237000    40.436000   \n",
       "\n",
       "          진화종료시간_년     진화종료시간_월     진화종료시간_일      피해면적_합계         실효습도  \n",
       "count  1265.000000  1265.000000  1265.000000  1265.000000  1265.000000  \n",
       "mean   2017.006324     4.735968    15.394466     6.374190    43.368299  \n",
       "std       2.007886     2.920602     8.976506    79.242905     9.574232  \n",
       "min    2014.000000     1.000000     1.000000     0.010000    22.837647  \n",
       "25%    2015.000000     3.000000     7.000000     0.030000    35.851929  \n",
       "50%    2017.000000     4.000000    15.000000     0.100000    42.362955  \n",
       "75%    2019.000000     6.000000    23.000000     0.300000    50.504849  \n",
       "max    2020.000000    12.000000    31.000000  1944.000000    70.837375  \n",
       "\n",
       "[8 rows x 45 columns]"
      ]
     },
     "execution_count": 7,
     "metadata": {},
     "output_type": "execute_result"
    }
   ],
   "source": [
    "sanbul.describe()"
   ]
  },
  {
   "cell_type": "code",
   "execution_count": 8,
   "metadata": {},
   "outputs": [
    {
     "data": {
      "text/plain": [
       "<AxesSubplot:>"
      ]
     },
     "execution_count": 8,
     "metadata": {},
     "output_type": "execute_result"
    },
    {
     "data": {
      "image/png": "[encoded data removed]",
      "text/plain": [
       "<Figure size 432x288 with 1 Axes>"
      ]
     },
     "metadata": {
      "needs_background": "light"
     },
     "output_type": "display_data"
    }
   ],
   "source": [
    "weather['산불발생여부'].value_counts().plot(kind = \"bar\")"
   ]
  },
  {
   "cell_type": "code",
   "execution_count": 9,
   "metadata": {},
   "outputs": [],
   "source": [
    "# weather['산불발생여부'].value_counts().plot(kind = \"pie\")"
   ]
  },
  {
   "cell_type": "code",
   "execution_count": 10,
   "metadata": {},
   "outputs": [],
   "source": [
    "# weather['피해면적_합계'].value_counts().plot(kind = \"bar\")"
   ]
  },
  {
   "cell_type": "code",
   "execution_count": 11,
   "metadata": {},
   "outputs": [],
   "source": [
    "# import warnings warnings.filterwarnings(\"ignore\") \n",
    "import pandas as pd \n",
    "import numpy as np \n",
    "import matplotlib.pyplot as plt \n",
    "from sklearn.preprocessing import LabelEncoder \n",
    "from sklearn import datasets, model_selection, linear_model, ensemble,neighbors \n",
    "from sklearn.metrics import mean_squared_error,accuracy_score \n",
    "from sklearn.model_selection import train_test_split \n",
    "from sklearn.svm import SVC \n",
    "from sklearn.ensemble import ExtraTreesClassifier \n",
    "from sklearn.ensemble import RandomForestClassifier \n",
    "\n",
    "from xgboost import plot_importance\n",
    "from xgboost import XGBClassifier"
   ]
  },
  {
   "cell_type": "code",
   "execution_count": 12,
   "metadata": {},
   "outputs": [
    {
     "data": {
      "text/plain": [
       "Index(['산불발생여부', '발생장소_시도', '관측일', '평균기온', '일최고기온', '일최고기온시각', '일최저기온',\n",
       "       '일최저기온시각', '일평균현지기압', '일최고현지기압', '일최고현지기압시각', '일최저현지기압', '일최저현지기압시각',\n",
       "       '일평균해면기압', '일최고해면기압', '일최고해면기압시각', '일최저해면기압', '일최저해면기압시각', '일평균상대습도',\n",
       "       '일최소상대습도', '일최소상대습도시각', '일평균수증기압', '일최고수증기압', '일최고수증기압시각', '일최저수증기압',\n",
       "       '일최저수증기압시각', '일평균풍속', '일최대풍속', '일최대풍속시각', '일최대풍속풍향', '일최대순간풍속',\n",
       "       '일최대순간풍속시각', '일최대순간풍속풍향', '풍정합', '일평균전운량', '일평균중하층운량', '최다운량', '최다운량시각',\n",
       "       '일합계일조시간', '일합계일사량', '일평균지면온도', '발생일시_시간', '발생일시_요일', '진화종료시간_년',\n",
       "       '진화종료시간_월', '진화종료시간_일', '진화종료시간_시간', '발생장소_관서', '발생장소_시군구', '발생장소_읍면',\n",
       "       '발생장소_동리', '발생원인_구분', '발생원인_세부원인', '발생원인_기타', '피해면적_합계', '실효습도'],\n",
       "      dtype='object')"
      ]
     },
     "execution_count": 12,
     "metadata": {},
     "output_type": "execute_result"
    }
   ],
   "source": [
    "weather.columns"
   ]
  },
  {
   "cell_type": "code",
   "execution_count": 13,
   "metadata": {},
   "outputs": [],
   "source": [
    "# list_a = list(weather['일평균현지기압'].describe())\n",
    "# # list_a[0]\n",
    "# list_a"
   ]
  },
  {
   "cell_type": "code",
   "execution_count": 14,
   "metadata": {},
   "outputs": [
    {
     "data": {
      "text/html": [
       "<div>\n",
       "<style scoped>\n",
       "    .dataframe tbody tr th:only-of-type {\n",
       "        vertical-align: middle;\n",
       "    }\n",
       "\n",
       "    .dataframe tbody tr th {\n",
       "        vertical-align: top;\n",
       "    }\n",
       "\n",
       "    .dataframe thead th {\n",
       "        text-align: right;\n",
       "    }\n",
       "</style>\n",
       "<table border=\"1\" class=\"dataframe\">\n",
       "  <thead>\n",
       "    <tr style=\"text-align: right;\">\n",
       "      <th></th>\n",
       "      <th>실효습도</th>\n",
       "    </tr>\n",
       "  </thead>\n",
       "  <tbody>\n",
       "    <tr>\n",
       "      <th>count</th>\n",
       "      <td>5502.000000</td>\n",
       "    </tr>\n",
       "    <tr>\n",
       "      <th>mean</th>\n",
       "      <td>53.637677</td>\n",
       "    </tr>\n",
       "    <tr>\n",
       "      <th>std</th>\n",
       "      <td>11.966594</td>\n",
       "    </tr>\n",
       "    <tr>\n",
       "      <th>min</th>\n",
       "      <td>13.620000</td>\n",
       "    </tr>\n",
       "    <tr>\n",
       "      <th>25%</th>\n",
       "      <td>44.134429</td>\n",
       "    </tr>\n",
       "    <tr>\n",
       "      <th>50%</th>\n",
       "      <td>55.137154</td>\n",
       "    </tr>\n",
       "    <tr>\n",
       "      <th>75%</th>\n",
       "      <td>63.295538</td>\n",
       "    </tr>\n",
       "    <tr>\n",
       "      <th>max</th>\n",
       "      <td>79.574661</td>\n",
       "    </tr>\n",
       "  </tbody>\n",
       "</table>\n",
       "</div>"
      ],
      "text/plain": [
       "              실효습도\n",
       "count  5502.000000\n",
       "mean     53.637677\n",
       "std      11.966594\n",
       "min      13.620000\n",
       "25%      44.134429\n",
       "50%      55.137154\n",
       "75%      63.295538\n",
       "max      79.574661"
      ]
     },
     "execution_count": 14,
     "metadata": {},
     "output_type": "execute_result"
    }
   ],
   "source": [
    "weather[['실효습도']].describe()"
   ]
  },
  {
   "cell_type": "code",
   "execution_count": 15,
   "metadata": {},
   "outputs": [
    {
     "data": {
      "text/plain": [
       "실효습도\n",
       "0    52.170714\n",
       "1    28.075253\n",
       "2    11.111111\n",
       "3     1.401542\n",
       "Name: 산불발생여부, dtype: float64"
      ]
     },
     "execution_count": 15,
     "metadata": {},
     "output_type": "execute_result"
    }
   ],
   "source": [
    "# 실효습도 범주화\n",
    "weather['실효습도'] = pd.cut(weather.실효습도, bins = [13, 44, 55, 63, 79], labels = [0, 1, 2, 3])\n",
    "# 실효습도와 산불 발생여부 %로 확인\n",
    "weather.groupby(['실효습도',])['산불발생여부'].mean()*100"
   ]
  },
  {
   "cell_type": "code",
   "execution_count": 16,
   "metadata": {},
   "outputs": [
    {
     "data": {
      "text/plain": [
       "<AxesSubplot:xlabel='실효습도'>"
      ]
     },
     "execution_count": 16,
     "metadata": {},
     "output_type": "execute_result"
    },
    {
     "data": {
      "image/png": "[encoded data removed]",
      "text/plain": [
       "<Figure size 432x288 with 1 Axes>"
      ]
     },
     "metadata": {
      "needs_background": "light"
     },
     "output_type": "display_data"
    }
   ],
   "source": [
    "# 실효습도와 산불발생여부 시각화\n",
    "weather.groupby(['실효습도',])['산불발생여부'].mean().plot(kind = 'bar')"
   ]
  },
  {
   "cell_type": "code",
   "execution_count": 17,
   "metadata": {},
   "outputs": [
    {
     "data": {
      "text/html": [
       "<div>\n",
       "<style scoped>\n",
       "    .dataframe tbody tr th:only-of-type {\n",
       "        vertical-align: middle;\n",
       "    }\n",
       "\n",
       "    .dataframe tbody tr th {\n",
       "        vertical-align: top;\n",
       "    }\n",
       "\n",
       "    .dataframe thead th {\n",
       "        text-align: right;\n",
       "    }\n",
       "</style>\n",
       "<table border=\"1\" class=\"dataframe\">\n",
       "  <thead>\n",
       "    <tr style=\"text-align: right;\">\n",
       "      <th></th>\n",
       "      <th>일최대순간풍속풍향</th>\n",
       "    </tr>\n",
       "  </thead>\n",
       "  <tbody>\n",
       "    <tr>\n",
       "      <th>count</th>\n",
       "      <td>5502.000000</td>\n",
       "    </tr>\n",
       "    <tr>\n",
       "      <th>mean</th>\n",
       "      <td>215.517342</td>\n",
       "    </tr>\n",
       "    <tr>\n",
       "      <th>std</th>\n",
       "      <td>54.659458</td>\n",
       "    </tr>\n",
       "    <tr>\n",
       "      <th>min</th>\n",
       "      <td>55.000000</td>\n",
       "    </tr>\n",
       "    <tr>\n",
       "      <th>25%</th>\n",
       "      <td>180.714000</td>\n",
       "    </tr>\n",
       "    <tr>\n",
       "      <th>50%</th>\n",
       "      <td>227.143000</td>\n",
       "    </tr>\n",
       "    <tr>\n",
       "      <th>75%</th>\n",
       "      <td>259.231000</td>\n",
       "    </tr>\n",
       "    <tr>\n",
       "      <th>max</th>\n",
       "      <td>320.714000</td>\n",
       "    </tr>\n",
       "  </tbody>\n",
       "</table>\n",
       "</div>"
      ],
      "text/plain": [
       "         일최대순간풍속풍향\n",
       "count  5502.000000\n",
       "mean    215.517342\n",
       "std      54.659458\n",
       "min      55.000000\n",
       "25%     180.714000\n",
       "50%     227.143000\n",
       "75%     259.231000\n",
       "max     320.714000"
      ]
     },
     "execution_count": 17,
     "metadata": {},
     "output_type": "execute_result"
    }
   ],
   "source": [
    "weather[['일최대순간풍속풍향']].describe()"
   ]
  },
  {
   "cell_type": "code",
   "execution_count": 18,
   "metadata": {},
   "outputs": [
    {
     "data": {
      "text/plain": [
       "일최대순간풍속풍향\n",
       "0    13.973799\n",
       "1    22.123894\n",
       "2    25.885756\n",
       "3    29.920692\n",
       "Name: 산불발생여부, dtype: float64"
      ]
     },
     "execution_count": 18,
     "metadata": {},
     "output_type": "execute_result"
    }
   ],
   "source": [
    "# 일최대순간풍속풍향와 산불발생여부\n",
    "\n",
    "# 일최대순간풍속풍향 범주화\n",
    "weather['일최대순간풍속풍향'] = pd.cut(weather.일최대순간풍속풍향, bins = [55, 180, 227, 259, 320], labels = [0, 1, 2, 3])\n",
    "# 일최대순간풍속풍향와 산불 발생여부 %로 확인\n",
    "weather.groupby(['일최대순간풍속풍향',])['산불발생여부'].mean()*100"
   ]
  },
  {
   "cell_type": "code",
   "execution_count": 19,
   "metadata": {},
   "outputs": [],
   "source": [
    "# df_ws = (weather[['일평균풍속']].describe())\n",
    "# df_ws.values[3][0]\n",
    "# 3 min\n",
    "# 4 25\n",
    "# 5 50\n",
    "# 6 75\n",
    "# 7 max\n"
   ]
  },
  {
   "cell_type": "code",
   "execution_count": 20,
   "metadata": {},
   "outputs": [],
   "source": [
    "# for i in range(len(weather.columns)):\n",
    "#     df_describe = weather[[i]].describe()\n",
    "#     for j in range(3,8):\n",
    "#         bin_var = df_ws.values[i][0]\n",
    "        "
   ]
  },
  {
   "cell_type": "code",
   "execution_count": 21,
   "metadata": {},
   "outputs": [
    {
     "data": {
      "text/plain": [
       "count    5502.000000\n",
       "mean      996.097859\n",
       "std         9.108520\n",
       "min       962.715000\n",
       "25%       989.732500\n",
       "50%       995.950000\n",
       "75%      1002.705250\n",
       "max      1020.050000\n",
       "Name: 일평균현지기압, dtype: float64"
      ]
     },
     "execution_count": 21,
     "metadata": {},
     "output_type": "execute_result"
    }
   ],
   "source": [
    "weather['일평균현지기압'].describe()"
   ]
  },
  {
   "cell_type": "code",
   "execution_count": 22,
   "metadata": {},
   "outputs": [
    {
     "data": {
      "text/plain": [
       "일평균현지기압\n",
       "0    15.961692\n",
       "1    22.792937\n",
       "2    23.576691\n",
       "3    28.363154\n",
       "Name: 산불발생여부, dtype: float64"
      ]
     },
     "execution_count": 22,
     "metadata": {},
     "output_type": "execute_result"
    }
   ],
   "source": [
    "# 일평균현지기압와 산불발생여부\n",
    "\n",
    "# 일평균현지기압 범주화\n",
    "weather['일평균현지기압'] = pd.cut(weather.일평균현지기압, bins = [962, 989, 995, 1002, 1020], labels = [0, 1, 2, 3])\n",
    "# 일평균현지기압와 산불 발생여부 %로 확인\n",
    "weather.groupby(['일평균현지기압',])['산불발생여부'].mean()*100"
   ]
  },
  {
   "cell_type": "code",
   "execution_count": 23,
   "metadata": {},
   "outputs": [
    {
     "data": {
      "text/plain": [
       "<AxesSubplot:xlabel='일평균현지기압'>"
      ]
     },
     "execution_count": 23,
     "metadata": {},
     "output_type": "execute_result"
    },
    {
     "data": {
      "image/png": "[encoded data removed]",
      "text/plain": [
       "<Figure size 432x288 with 1 Axes>"
      ]
     },
     "metadata": {
      "needs_background": "light"
     },
     "output_type": "display_data"
    }
   ],
   "source": [
    "# 일평균현지기압와 산불발생여부 시각화\n",
    "weather.groupby(['일평균현지기압',])['산불발생여부'].mean().plot(kind = 'bar')"
   ]
  },
  {
   "cell_type": "code",
   "execution_count": 24,
   "metadata": {},
   "outputs": [
    {
     "data": {
      "text/plain": [
       "<AxesSubplot:xlabel='일평균현지기압'>"
      ]
     },
     "execution_count": 24,
     "metadata": {},
     "output_type": "execute_result"
    },
    {
     "data": {
      "image/png": "[encoded data removed]",
      "text/plain": [
       "<Figure size 432x288 with 1 Axes>"
      ]
     },
     "metadata": {
      "needs_background": "light"
     },
     "output_type": "display_data"
    }
   ],
   "source": [
    "# 일평균현지기압와 산불발생여부 시각화\n",
    "weather.groupby(['일평균현지기압',])['산불발생여부'].mean().plot(kind = 'bar')\n",
    "# 습도가 낮을 수록 산불이 많이남"
   ]
  },
  {
   "cell_type": "code",
   "execution_count": 25,
   "metadata": {},
   "outputs": [
    {
     "data": {
      "text/plain": [
       "count    5502.000000\n",
       "mean        1.931043\n",
       "std         0.754891\n",
       "min         0.614000\n",
       "25%         1.385000\n",
       "50%         1.743000\n",
       "75%         2.321000\n",
       "max         6.231000\n",
       "Name: 일평균풍속, dtype: float64"
      ]
     },
     "execution_count": 25,
     "metadata": {},
     "output_type": "execute_result"
    }
   ],
   "source": [
    "weather['일평균풍속'].describe()"
   ]
  },
  {
   "cell_type": "code",
   "execution_count": 26,
   "metadata": {},
   "outputs": [
    {
     "data": {
      "text/plain": [
       "일평균풍속\n",
       "0    10.328638\n",
       "1    19.253438\n",
       "2    27.759197\n",
       "3    31.541726\n",
       "Name: 산불발생여부, dtype: float64"
      ]
     },
     "execution_count": 26,
     "metadata": {},
     "output_type": "execute_result"
    }
   ],
   "source": [
    "# 일평균풍속와 산불발생여부\n",
    "\n",
    "# 일평균풍속 범주화\n",
    "weather['일평균풍속'] = pd.cut(weather.일평균풍속, bins = [0.6, 1.3, 1.7, 2.3, 6.2], labels = [0, 1, 2, 3])\n",
    "# 일평균풍속와 산불 발생여부 %로 확인\n",
    "weather.groupby(['일평균풍속',])['산불발생여부'].mean()*100"
   ]
  },
  {
   "cell_type": "code",
   "execution_count": 27,
   "metadata": {},
   "outputs": [
    {
     "data": {
      "text/plain": [
       "<AxesSubplot:xlabel='일평균풍속'>"
      ]
     },
     "execution_count": 27,
     "metadata": {},
     "output_type": "execute_result"
    },
    {
     "data": {
      "image/png": "[encoded data removed]",
      "text/plain": [
       "<Figure size 432x288 with 1 Axes>"
      ]
     },
     "metadata": {
      "needs_background": "light"
     },
     "output_type": "display_data"
    }
   ],
   "source": [
    "# 일평균풍속와 산불발생여부 시각화\n",
    "weather.groupby(['일평균풍속',])['산불발생여부'].mean().plot(kind = 'bar')\n",
    "# 습도가 낮을 수록 산불이 많이남"
   ]
  },
  {
   "cell_type": "code",
   "execution_count": 28,
   "metadata": {},
   "outputs": [
    {
     "data": {
      "text/plain": [
       "count    5502.000000\n",
       "mean       39.529534\n",
       "std        17.583168\n",
       "min         6.786000\n",
       "25%        24.643000\n",
       "50%        38.143000\n",
       "75%        51.571000\n",
       "max        96.500000\n",
       "Name: 일최소상대습도, dtype: float64"
      ]
     },
     "execution_count": 28,
     "metadata": {},
     "output_type": "execute_result"
    }
   ],
   "source": [
    "# weather.groupby([])\n",
    "# 습도와 산불 발생여부 상관관계\n",
    "weather['일최소상대습도'].describe()"
   ]
  },
  {
   "cell_type": "code",
   "execution_count": 29,
   "metadata": {},
   "outputs": [
    {
     "data": {
      "text/plain": [
       "일최소상대습도\n",
       "0    53.430995\n",
       "1    26.141079\n",
       "2    12.556054\n",
       "3     1.830986\n",
       "Name: 산불발생여부, dtype: float64"
      ]
     },
     "execution_count": 29,
     "metadata": {},
     "output_type": "execute_result"
    }
   ],
   "source": [
    "# 일최소 상대습도와 산불발생여부\n",
    "\n",
    "# 일최소상대습도 범주화\n",
    "weather['일최소상대습도'] = pd.cut(weather.일최소상대습도, bins = [6, 24, 38, 51, 96], labels = [0, 1, 2, 3])\n",
    "# 일최소상대습도와 산불 발생여부 %로 확인\n",
    "weather.groupby(['일최소상대습도',])['산불발생여부'].mean()*100"
   ]
  },
  {
   "cell_type": "code",
   "execution_count": 30,
   "metadata": {},
   "outputs": [
    {
     "data": {
      "text/plain": [
       "<AxesSubplot:xlabel='일최소상대습도'>"
      ]
     },
     "execution_count": 30,
     "metadata": {},
     "output_type": "execute_result"
    },
    {
     "data": {
      "image/png": "[encoded data removed]",
      "text/plain": [
       "<Figure size 432x288 with 1 Axes>"
      ]
     },
     "metadata": {
      "needs_background": "light"
     },
     "output_type": "display_data"
    }
   ],
   "source": [
    "# 일최소상대습도와 산불발생여부 시각화\n",
    "weather.groupby(['일최소상대습도',])['산불발생여부'].mean().plot(kind = 'bar')\n",
    "# 습도가 낮을 수록 산불이 많이남"
   ]
  },
  {
   "cell_type": "code",
   "execution_count": 31,
   "metadata": {},
   "outputs": [
    {
     "data": {
      "text/plain": [
       "count    5502.000000\n",
       "mean       14.569210\n",
       "std        10.961562\n",
       "min        -9.038000\n",
       "25%         4.201750\n",
       "50%        14.866500\n",
       "75%        24.100000\n",
       "max        40.436000\n",
       "Name: 일평균지면온도, dtype: float64"
      ]
     },
     "execution_count": 31,
     "metadata": {},
     "output_type": "execute_result"
    }
   ],
   "source": [
    "# 일평균지면온도\n",
    "weather['일평균지면온도'].describe()"
   ]
  },
  {
   "cell_type": "code",
   "execution_count": 32,
   "metadata": {},
   "outputs": [
    {
     "data": {
      "text/plain": [
       "일평균지면온도\n",
       "0    23.276501\n",
       "1    29.952456\n",
       "2    22.266935\n",
       "3    17.167382\n",
       "Name: 산불발생여부, dtype: float64"
      ]
     },
     "execution_count": 32,
     "metadata": {},
     "output_type": "execute_result"
    }
   ],
   "source": [
    "# 일평균지면온도 범주화\n",
    "weather['일평균지면온도'] = pd.cut(weather.일평균지면온도, bins = [-9, 4, 14, 24, 40], labels = [0, 1, 2, 3])\n",
    "# 일평균지면온도와 산불 발생여부 %로 확인\n",
    "weather.groupby(['일평균지면온도',])['산불발생여부'].mean()*100"
   ]
  },
  {
   "cell_type": "code",
   "execution_count": 33,
   "metadata": {},
   "outputs": [
    {
     "data": {
      "text/plain": [
       "<AxesSubplot:xlabel='일평균지면온도'>"
      ]
     },
     "execution_count": 33,
     "metadata": {},
     "output_type": "execute_result"
    },
    {
     "data": {
      "image/png": "[encoded data removed]",
      "text/plain": [
       "<Figure size 432x288 with 1 Axes>"
      ]
     },
     "metadata": {
      "needs_background": "light"
     },
     "output_type": "display_data"
    }
   ],
   "source": [
    "# 일평균지면온도와 산불발생여부 시각화\n",
    "weather.groupby(['일평균지면온도',])['산불발생여부'].mean().plot(kind = 'bar')\n",
    "# 평균 지면온도와 큰 관련은 없음 다만 4~14사이 일때 가장 많이 발생하고 이후 산불발생 떨어짐"
   ]
  },
  {
   "cell_type": "code",
   "execution_count": 34,
   "metadata": {},
   "outputs": [
    {
     "data": {
      "text/plain": [
       "count    5502.000000\n",
       "mean       18.044650\n",
       "std         9.594198\n",
       "min        -9.493000\n",
       "25%         9.643000\n",
       "50%        19.555500\n",
       "75%        26.070500\n",
       "max        37.864000\n",
       "Name: 일최고기온, dtype: float64"
      ]
     },
     "execution_count": 34,
     "metadata": {},
     "output_type": "execute_result"
    }
   ],
   "source": [
    "weather['일최고기온'].describe()"
   ]
  },
  {
   "cell_type": "code",
   "execution_count": 35,
   "metadata": {},
   "outputs": [
    {
     "data": {
      "text/plain": [
       "일최고기온\n",
       "0    21.968504\n",
       "1    28.602305\n",
       "2    22.522523\n",
       "3    18.799142\n",
       "Name: 산불발생여부, dtype: float64"
      ]
     },
     "execution_count": 35,
     "metadata": {},
     "output_type": "execute_result"
    }
   ],
   "source": [
    "# 일최고기온 범주화\n",
    "weather['일최고기온'] = pd.cut(weather.일최고기온, bins = [-9, 9, 19, 26, 37], labels = [0, 1, 2, 3])\n",
    "# 일최고기온와 산불 발생여부 %로 확인\n",
    "weather.groupby(['일최고기온',])['산불발생여부'].mean()*100"
   ]
  },
  {
   "cell_type": "code",
   "execution_count": 36,
   "metadata": {},
   "outputs": [
    {
     "data": {
      "text/plain": [
       "<AxesSubplot:xlabel='일최고기온'>"
      ]
     },
     "execution_count": 36,
     "metadata": {},
     "output_type": "execute_result"
    },
    {
     "data": {
      "image/png": "[encoded data removed]",
      "text/plain": [
       "<Figure size 432x288 with 1 Axes>"
      ]
     },
     "metadata": {
      "needs_background": "light"
     },
     "output_type": "display_data"
    }
   ],
   "source": [
    "# 일최고기온와 산불발생여부 시각화\n",
    "weather.groupby(['일최고기온',])['산불발생여부'].mean().plot(kind = 'bar')\n",
    "# 최고온도와 큰 관련은 없음 다만 9~14사이 일때 가장 많이 발생하고 이후 산불발생 떨어짐"
   ]
  },
  {
   "cell_type": "code",
   "execution_count": 37,
   "metadata": {},
   "outputs": [],
   "source": [
    "# x_data_test = [x_data] \n",
    "# # combining train and test dataset for dataset in x_data_test: dataset['Title'] = dataset['Name'].str.extract(' ([A-Za-z]+)\\.', expand=False) x_data['Title'].value_counts()"
   ]
  },
  {
   "cell_type": "code",
   "execution_count": 38,
   "metadata": {},
   "outputs": [],
   "source": [
    "# weather['Sex']=LabelEncoder().fit(['female','male']).transform(weather['Sex'])"
   ]
  },
  {
   "cell_type": "code",
   "execution_count": 39,
   "metadata": {},
   "outputs": [
    {
     "data": {
      "text/plain": [
       "Index(['산불발생여부', '발생장소_시도', '관측일', '평균기온', '일최고기온', '일최고기온시각', '일최저기온',\n",
       "       '일최저기온시각', '일평균현지기압', '일최고현지기압', '일최고현지기압시각', '일최저현지기압', '일최저현지기압시각',\n",
       "       '일평균해면기압', '일최고해면기압', '일최고해면기압시각', '일최저해면기압', '일최저해면기압시각', '일평균상대습도',\n",
       "       '일최소상대습도', '일최소상대습도시각', '일평균수증기압', '일최고수증기압', '일최고수증기압시각', '일최저수증기압',\n",
       "       '일최저수증기압시각', '일평균풍속', '일최대풍속', '일최대풍속시각', '일최대풍속풍향', '일최대순간풍속',\n",
       "       '일최대순간풍속시각', '일최대순간풍속풍향', '풍정합', '일평균전운량', '일평균중하층운량', '최다운량', '최다운량시각',\n",
       "       '일합계일조시간', '일합계일사량', '일평균지면온도', '발생일시_시간', '발생일시_요일', '진화종료시간_년',\n",
       "       '진화종료시간_월', '진화종료시간_일', '진화종료시간_시간', '발생장소_관서', '발생장소_시군구', '발생장소_읍면',\n",
       "       '발생장소_동리', '발생원인_구분', '발생원인_세부원인', '발생원인_기타', '피해면적_합계', '실효습도'],\n",
       "      dtype='object')"
      ]
     },
     "execution_count": 39,
     "metadata": {},
     "output_type": "execute_result"
    }
   ],
   "source": [
    "weather.columns"
   ]
  },
  {
   "cell_type": "code",
   "execution_count": 40,
   "metadata": {},
   "outputs": [],
   "source": [
    "weather_model = weather_1.drop([ '발생장소_시도', '관측일', '일최고기온시각', '평균기온', '일최저기온', '일평균중하층운량', '일합계일조시간' , '일평균지면온도',\n",
    "       '일최저기온시각', '일최고현지기압시각', '일최저현지기압시각',\n",
    "        '일최고해면기압시각', '일최저해면기압시각',\n",
    "       '일최소상대습도시각', '일최고수증기압시각', '일최저수증기압',\n",
    "       '일최저수증기압시각','일최대풍속시각',\n",
    "       '일최대순간풍속시각','최다운량시각',\n",
    "       '발생일시_시간', '발생일시_요일', '진화종료시간_년',\n",
    "       '진화종료시간_월', '진화종료시간_일', '진화종료시간_시간', '발생장소_관서', '발생장소_시군구', '발생장소_읍면',\n",
    "       '발생장소_동리', '발생원인_구분', '발생원인_세부원인', '발생원인_기타', '피해면적_합계'], axis=1)"
   ]
  },
  {
   "cell_type": "code",
   "execution_count": 41,
   "metadata": {},
   "outputs": [],
   "source": [
    "# weather_model.loc[weather_model['일최고기온'] != weather['일최고기온']] = weather['일최고기온'].mean()\n",
    "weather_model = weather_model.fillna(method = 'ffill')"
   ]
  },
  {
   "cell_type": "code",
   "execution_count": 64,
   "metadata": {},
   "outputs": [
    {
     "data": {
      "text/html": [
       "<div>\n",
       "<style scoped>\n",
       "    .dataframe tbody tr th:only-of-type {\n",
       "        vertical-align: middle;\n",
       "    }\n",
       "\n",
       "    .dataframe tbody tr th {\n",
       "        vertical-align: top;\n",
       "    }\n",
       "\n",
       "    .dataframe thead th {\n",
       "        text-align: right;\n",
       "    }\n",
       "</style>\n",
       "<table border=\"1\" class=\"dataframe\">\n",
       "  <thead>\n",
       "    <tr style=\"text-align: right;\">\n",
       "      <th></th>\n",
       "      <th>산불발생여부</th>\n",
       "      <th>발생장소_시도</th>\n",
       "      <th>관측일</th>\n",
       "      <th>평균기온</th>\n",
       "      <th>일최고기온</th>\n",
       "      <th>일최고기온시각</th>\n",
       "      <th>일최저기온</th>\n",
       "      <th>일최저기온시각</th>\n",
       "      <th>일평균현지기압</th>\n",
       "      <th>일최고현지기압</th>\n",
       "      <th>...</th>\n",
       "      <th>진화종료시간_시간</th>\n",
       "      <th>발생장소_관서</th>\n",
       "      <th>발생장소_시군구</th>\n",
       "      <th>발생장소_읍면</th>\n",
       "      <th>발생장소_동리</th>\n",
       "      <th>발생원인_구분</th>\n",
       "      <th>발생원인_세부원인</th>\n",
       "      <th>발생원인_기타</th>\n",
       "      <th>피해면적_합계</th>\n",
       "      <th>실효습도</th>\n",
       "    </tr>\n",
       "  </thead>\n",
       "  <tbody>\n",
       "    <tr>\n",
       "      <th>0</th>\n",
       "      <td>0</td>\n",
       "      <td>강원</td>\n",
       "      <td>20140101</td>\n",
       "      <td>3.631</td>\n",
       "      <td>0</td>\n",
       "      <td>1403.385</td>\n",
       "      <td>-0.331</td>\n",
       "      <td>713.154</td>\n",
       "      <td>0</td>\n",
       "      <td>988.123</td>\n",
       "      <td>...</td>\n",
       "      <td>NaN</td>\n",
       "      <td>NaN</td>\n",
       "      <td>NaN</td>\n",
       "      <td>NaN</td>\n",
       "      <td>NaN</td>\n",
       "      <td>NaN</td>\n",
       "      <td>NaN</td>\n",
       "      <td>NaN</td>\n",
       "      <td>NaN</td>\n",
       "      <td>0</td>\n",
       "    </tr>\n",
       "    <tr>\n",
       "      <th>1</th>\n",
       "      <td>0</td>\n",
       "      <td>경북</td>\n",
       "      <td>20140101</td>\n",
       "      <td>4.907</td>\n",
       "      <td>0</td>\n",
       "      <td>1382.286</td>\n",
       "      <td>-0.264</td>\n",
       "      <td>764.500</td>\n",
       "      <td>2</td>\n",
       "      <td>1000.529</td>\n",
       "      <td>...</td>\n",
       "      <td>NaN</td>\n",
       "      <td>NaN</td>\n",
       "      <td>NaN</td>\n",
       "      <td>NaN</td>\n",
       "      <td>NaN</td>\n",
       "      <td>NaN</td>\n",
       "      <td>NaN</td>\n",
       "      <td>NaN</td>\n",
       "      <td>NaN</td>\n",
       "      <td>0</td>\n",
       "    </tr>\n",
       "    <tr>\n",
       "      <th>2</th>\n",
       "      <td>0</td>\n",
       "      <td>경북</td>\n",
       "      <td>20140102</td>\n",
       "      <td>2.379</td>\n",
       "      <td>0</td>\n",
       "      <td>1398.071</td>\n",
       "      <td>-2.579</td>\n",
       "      <td>1727.643</td>\n",
       "      <td>3</td>\n",
       "      <td>1006.907</td>\n",
       "      <td>...</td>\n",
       "      <td>NaN</td>\n",
       "      <td>NaN</td>\n",
       "      <td>NaN</td>\n",
       "      <td>NaN</td>\n",
       "      <td>NaN</td>\n",
       "      <td>NaN</td>\n",
       "      <td>NaN</td>\n",
       "      <td>NaN</td>\n",
       "      <td>NaN</td>\n",
       "      <td>0</td>\n",
       "    </tr>\n",
       "    <tr>\n",
       "      <th>3</th>\n",
       "      <td>0</td>\n",
       "      <td>강원</td>\n",
       "      <td>20140102</td>\n",
       "      <td>0.823</td>\n",
       "      <td>0</td>\n",
       "      <td>1390.615</td>\n",
       "      <td>-3.962</td>\n",
       "      <td>1452.231</td>\n",
       "      <td>1</td>\n",
       "      <td>994.338</td>\n",
       "      <td>...</td>\n",
       "      <td>NaN</td>\n",
       "      <td>NaN</td>\n",
       "      <td>NaN</td>\n",
       "      <td>NaN</td>\n",
       "      <td>NaN</td>\n",
       "      <td>NaN</td>\n",
       "      <td>NaN</td>\n",
       "      <td>NaN</td>\n",
       "      <td>NaN</td>\n",
       "      <td>0</td>\n",
       "    </tr>\n",
       "    <tr>\n",
       "      <th>4</th>\n",
       "      <td>0</td>\n",
       "      <td>강원</td>\n",
       "      <td>20140103</td>\n",
       "      <td>1.546</td>\n",
       "      <td>0</td>\n",
       "      <td>1374.154</td>\n",
       "      <td>-3.538</td>\n",
       "      <td>938.846</td>\n",
       "      <td>1</td>\n",
       "      <td>992.823</td>\n",
       "      <td>...</td>\n",
       "      <td>NaN</td>\n",
       "      <td>NaN</td>\n",
       "      <td>NaN</td>\n",
       "      <td>NaN</td>\n",
       "      <td>NaN</td>\n",
       "      <td>NaN</td>\n",
       "      <td>NaN</td>\n",
       "      <td>NaN</td>\n",
       "      <td>NaN</td>\n",
       "      <td>0</td>\n",
       "    </tr>\n",
       "    <tr>\n",
       "      <th>...</th>\n",
       "      <td>...</td>\n",
       "      <td>...</td>\n",
       "      <td>...</td>\n",
       "      <td>...</td>\n",
       "      <td>...</td>\n",
       "      <td>...</td>\n",
       "      <td>...</td>\n",
       "      <td>...</td>\n",
       "      <td>...</td>\n",
       "      <td>...</td>\n",
       "      <td>...</td>\n",
       "      <td>...</td>\n",
       "      <td>...</td>\n",
       "      <td>...</td>\n",
       "      <td>...</td>\n",
       "      <td>...</td>\n",
       "      <td>...</td>\n",
       "      <td>...</td>\n",
       "      <td>...</td>\n",
       "      <td>...</td>\n",
       "      <td>...</td>\n",
       "    </tr>\n",
       "    <tr>\n",
       "      <th>5497</th>\n",
       "      <td>0</td>\n",
       "      <td>강원</td>\n",
       "      <td>20201229</td>\n",
       "      <td>0.757</td>\n",
       "      <td>0</td>\n",
       "      <td>1291.286</td>\n",
       "      <td>-2.779</td>\n",
       "      <td>954.000</td>\n",
       "      <td>1</td>\n",
       "      <td>997.529</td>\n",
       "      <td>...</td>\n",
       "      <td>NaN</td>\n",
       "      <td>NaN</td>\n",
       "      <td>NaN</td>\n",
       "      <td>NaN</td>\n",
       "      <td>NaN</td>\n",
       "      <td>NaN</td>\n",
       "      <td>NaN</td>\n",
       "      <td>NaN</td>\n",
       "      <td>NaN</td>\n",
       "      <td>2</td>\n",
       "    </tr>\n",
       "    <tr>\n",
       "      <th>5498</th>\n",
       "      <td>0</td>\n",
       "      <td>경북</td>\n",
       "      <td>20201230</td>\n",
       "      <td>-6.479</td>\n",
       "      <td>0</td>\n",
       "      <td>3.929</td>\n",
       "      <td>-9.779</td>\n",
       "      <td>2339.143</td>\n",
       "      <td>3</td>\n",
       "      <td>1006.721</td>\n",
       "      <td>...</td>\n",
       "      <td>NaN</td>\n",
       "      <td>NaN</td>\n",
       "      <td>NaN</td>\n",
       "      <td>NaN</td>\n",
       "      <td>NaN</td>\n",
       "      <td>NaN</td>\n",
       "      <td>NaN</td>\n",
       "      <td>NaN</td>\n",
       "      <td>NaN</td>\n",
       "      <td>1</td>\n",
       "    </tr>\n",
       "    <tr>\n",
       "      <th>5499</th>\n",
       "      <td>0</td>\n",
       "      <td>강원</td>\n",
       "      <td>20201230</td>\n",
       "      <td>-8.864</td>\n",
       "      <td>0</td>\n",
       "      <td>1.000</td>\n",
       "      <td>-12.579</td>\n",
       "      <td>2317.571</td>\n",
       "      <td>1</td>\n",
       "      <td>996.386</td>\n",
       "      <td>...</td>\n",
       "      <td>NaN</td>\n",
       "      <td>NaN</td>\n",
       "      <td>NaN</td>\n",
       "      <td>NaN</td>\n",
       "      <td>NaN</td>\n",
       "      <td>NaN</td>\n",
       "      <td>NaN</td>\n",
       "      <td>NaN</td>\n",
       "      <td>NaN</td>\n",
       "      <td>1</td>\n",
       "    </tr>\n",
       "    <tr>\n",
       "      <th>5500</th>\n",
       "      <td>0</td>\n",
       "      <td>강원</td>\n",
       "      <td>20201231</td>\n",
       "      <td>-8.971</td>\n",
       "      <td>0</td>\n",
       "      <td>1477.143</td>\n",
       "      <td>-14.443</td>\n",
       "      <td>525.929</td>\n",
       "      <td>2</td>\n",
       "      <td>998.136</td>\n",
       "      <td>...</td>\n",
       "      <td>NaN</td>\n",
       "      <td>NaN</td>\n",
       "      <td>NaN</td>\n",
       "      <td>NaN</td>\n",
       "      <td>NaN</td>\n",
       "      <td>NaN</td>\n",
       "      <td>NaN</td>\n",
       "      <td>NaN</td>\n",
       "      <td>NaN</td>\n",
       "      <td>0</td>\n",
       "    </tr>\n",
       "    <tr>\n",
       "      <th>5501</th>\n",
       "      <td>0</td>\n",
       "      <td>경북</td>\n",
       "      <td>20201231</td>\n",
       "      <td>-6.564</td>\n",
       "      <td>0</td>\n",
       "      <td>1518.286</td>\n",
       "      <td>-12.121</td>\n",
       "      <td>583.214</td>\n",
       "      <td>3</td>\n",
       "      <td>1009.636</td>\n",
       "      <td>...</td>\n",
       "      <td>NaN</td>\n",
       "      <td>NaN</td>\n",
       "      <td>NaN</td>\n",
       "      <td>NaN</td>\n",
       "      <td>NaN</td>\n",
       "      <td>NaN</td>\n",
       "      <td>NaN</td>\n",
       "      <td>NaN</td>\n",
       "      <td>NaN</td>\n",
       "      <td>0</td>\n",
       "    </tr>\n",
       "  </tbody>\n",
       "</table>\n",
       "<p>5502 rows × 56 columns</p>\n",
       "</div>"
      ],
      "text/plain": [
       "      산불발생여부 발생장소_시도       관측일   평균기온 일최고기온   일최고기온시각   일최저기온   일최저기온시각  \\\n",
       "0          0      강원  20140101  3.631     0  1403.385  -0.331   713.154   \n",
       "1          0      경북  20140101  4.907     0  1382.286  -0.264   764.500   \n",
       "2          0      경북  20140102  2.379     0  1398.071  -2.579  1727.643   \n",
       "3          0      강원  20140102  0.823     0  1390.615  -3.962  1452.231   \n",
       "4          0      강원  20140103  1.546     0  1374.154  -3.538   938.846   \n",
       "...      ...     ...       ...    ...   ...       ...     ...       ...   \n",
       "5497       0      강원  20201229  0.757     0  1291.286  -2.779   954.000   \n",
       "5498       0      경북  20201230 -6.479     0     3.929  -9.779  2339.143   \n",
       "5499       0      강원  20201230 -8.864     0     1.000 -12.579  2317.571   \n",
       "5500       0      강원  20201231 -8.971     0  1477.143 -14.443   525.929   \n",
       "5501       0      경북  20201231 -6.564     0  1518.286 -12.121   583.214   \n",
       "\n",
       "     일평균현지기압   일최고현지기압  ...  진화종료시간_시간  발생장소_관서  발생장소_시군구  발생장소_읍면  발생장소_동리  \\\n",
       "0          0   988.123  ...        NaN      NaN       NaN      NaN      NaN   \n",
       "1          2  1000.529  ...        NaN      NaN       NaN      NaN      NaN   \n",
       "2          3  1006.907  ...        NaN      NaN       NaN      NaN      NaN   \n",
       "3          1   994.338  ...        NaN      NaN       NaN      NaN      NaN   \n",
       "4          1   992.823  ...        NaN      NaN       NaN      NaN      NaN   \n",
       "...      ...       ...  ...        ...      ...       ...      ...      ...   \n",
       "5497       1   997.529  ...        NaN      NaN       NaN      NaN      NaN   \n",
       "5498       3  1006.721  ...        NaN      NaN       NaN      NaN      NaN   \n",
       "5499       1   996.386  ...        NaN      NaN       NaN      NaN      NaN   \n",
       "5500       2   998.136  ...        NaN      NaN       NaN      NaN      NaN   \n",
       "5501       3  1009.636  ...        NaN      NaN       NaN      NaN      NaN   \n",
       "\n",
       "      발생원인_구분  발생원인_세부원인  발생원인_기타  피해면적_합계 실효습도  \n",
       "0         NaN        NaN      NaN      NaN    0  \n",
       "1         NaN        NaN      NaN      NaN    0  \n",
       "2         NaN        NaN      NaN      NaN    0  \n",
       "3         NaN        NaN      NaN      NaN    0  \n",
       "4         NaN        NaN      NaN      NaN    0  \n",
       "...       ...        ...      ...      ...  ...  \n",
       "5497      NaN        NaN      NaN      NaN    2  \n",
       "5498      NaN        NaN      NaN      NaN    1  \n",
       "5499      NaN        NaN      NaN      NaN    1  \n",
       "5500      NaN        NaN      NaN      NaN    0  \n",
       "5501      NaN        NaN      NaN      NaN    0  \n",
       "\n",
       "[5502 rows x 56 columns]"
      ]
     },
     "execution_count": 64,
     "metadata": {},
     "output_type": "execute_result"
    }
   ],
   "source": [
    "weather_1\n"
   ]
  },
  {
   "cell_type": "code",
   "execution_count": 42,
   "metadata": {},
   "outputs": [],
   "source": [
    "# weather_model.isnull().sum()"
   ]
  },
  {
   "cell_type": "code",
   "execution_count": 43,
   "metadata": {},
   "outputs": [],
   "source": [
    "# y에 산불 발생 유무, x에 변수\n",
    "y_data = weather_model[['산불발생여부']] \n",
    "x_data = weather_model.copy() \n",
    "del x_data['산불발생여부']"
   ]
  },
  {
   "cell_type": "code",
   "execution_count": 44,
   "metadata": {},
   "outputs": [],
   "source": [
    "# x_data_test = [x_data] \n",
    "# combining train and test dataset for dataset in x_data_test: dataset['Title'] = dataset['Name'].str.extract(' ([A-Za-z]+)\\.', expand=False) x_data['Title'].value_counts()\n"
   ]
  },
  {
   "cell_type": "code",
   "execution_count": 62,
   "metadata": {},
   "outputs": [
    {
     "data": {
      "text/plain": [
       "0       0\n",
       "1       0\n",
       "2       0\n",
       "3       0\n",
       "4       0\n",
       "       ..\n",
       "5497    0\n",
       "5498    0\n",
       "5499    0\n",
       "5500    0\n",
       "5501    0\n",
       "Name: 일최고기온, Length: 5502, dtype: category\n",
       "Categories (4, int64): [0 < 1 < 2 < 3]"
      ]
     },
     "execution_count": 62,
     "metadata": {},
     "output_type": "execute_result"
    }
   ],
   "source": [
    "weather_model['일최고기온']"
   ]
  },
  {
   "cell_type": "code",
   "execution_count": 46,
   "metadata": {},
   "outputs": [],
   "source": [
    "from sklearn.compose import ColumnTransformer \n",
    "from sklearn.preprocessing import StandardScaler \n",
    "from sklearn.preprocessing import RobustScaler \n",
    "\n",
    "# ct = ColumnTransformer([ ('age', StandardScaler(), ['Age']), \n",
    "#                         ('fare', RobustScaler(), ['Fare']) ], remainder='passthrough')"
   ]
  },
  {
   "cell_type": "code",
   "execution_count": 47,
   "metadata": {},
   "outputs": [],
   "source": [
    "x_train, x_test, y_train, y_test = model_selection.train_test_split(x_data, y_data, test_size=0.3, random_state=0)\n",
    "normalizer = StandardScaler()\n",
    "x_train = normalizer.fit_transform(x_train)\n",
    "x_test = normalizer.fit_transform(x_test)"
   ]
  },
  {
   "cell_type": "code",
   "execution_count": 48,
   "metadata": {},
   "outputs": [],
   "source": [
    "params = {'n_estimators': 1000, 'max_depth': 5, 'min_samples_split': 5, 'learning_rate': 0.01}\n",
    "\n",
    "#하이퍼 파라미터 \n",
    "svc_params = {'C': 1, 'gamma': 0.1, 'kernel': 'rbf'}"
   ]
  },
  {
   "cell_type": "code",
   "execution_count": 49,
   "metadata": {},
   "outputs": [],
   "source": [
    "# pip install vecstack"
   ]
  },
  {
   "cell_type": "code",
   "execution_count": 50,
   "metadata": {},
   "outputs": [],
   "source": [
    "from vecstack import StackingTransformer #Stacking (ExtraTreesClassifier, RandomForestClassifier, XGBClassifier)"
   ]
  },
  {
   "cell_type": "code",
   "execution_count": 51,
   "metadata": {},
   "outputs": [],
   "source": [
    "# 로지스틱 회귀\n",
    "logisticModel = linear_model.LogisticRegression()\n",
    "\n",
    "# KNN\n",
    "KnnModel = neighbors.KNeighborsClassifier()\n",
    "\n",
    "# GB\n",
    "GBModel = ensemble.GradientBoostingClassifier(**params)\n",
    "\n",
    "#XGBModel\n",
    "XGBModel = XGBClassifier(**params)\n",
    "\n",
    "# Randomforest\n",
    "RanModel = RandomForestClassifier(random_state=0, n_jobs = -1, n_estimators = 100, max_depth = 3)\n",
    "\n",
    "# ExtraTree\n",
    "ETModel = ExtraTreesClassifier(random_state=0, n_jobs = -1, n_estimators = 100, max_depth = 3)\n",
    "\n",
    "# SVC\n",
    "svc = SVC(**svc_params)\n",
    "\n",
    "estimators = [\n",
    "    ('ExtraTrees', ExtraTreesClassifier(random_state = 0, n_jobs = -1, n_estimators = 100, max_depth = 3)),\n",
    "    ('RandomForest', RandomForestClassifier(random_state= 0, n_jobs = -1, n_estimators = 100, max_depth = 3 )),\n",
    "    ('XGB', XGBClassifier(seed = 0, n_jobs = -1, learning_rate = 0.01, n_estimators = 1000, max_depth = 5))\n",
    "] "
   ]
  },
  {
   "cell_type": "code",
   "execution_count": 52,
   "metadata": {},
   "outputs": [],
   "source": [
    "# 모델 스테킹?\n",
    "stack = StackingTransformer(estimators,\n",
    "                            regression = False,\n",
    "                            metric = accuracy_score,\n",
    "                            n_folds = 4, stratified = True, shuffle = True,\n",
    "                            random_state = 0, verbose = 2)"
   ]
  },
  {
   "cell_type": "code",
   "execution_count": 53,
   "metadata": {},
   "outputs": [
    {
     "name": "stdout",
     "output_type": "stream",
     "text": [
      "[17:48:55] WARNING: C:/Users/Administrator/workspace/xgboost-win64_release_1.6.0/src/learner.cc:627: \n",
      "Parameters: { \"min_samples_split\" } might not be used.\n",
      "\n",
      "  This could be a false alarm, with some parameters getting used by language bindings but\n",
      "  then being mistakenly passed down to XGBoost core, or some parameter actually being used\n",
      "  but getting flagged wrongly here. Please open an issue if you find any such cases.\n",
      "\n",
      "\n",
      "[17:48:57] WARNING: C:/Users/Administrator/workspace/xgboost-win64_release_1.6.0/src/learner.cc:627: \n",
      "Parameters: { \"min_samples_split\" } might not be used.\n",
      "\n",
      "  This could be a false alarm, with some parameters getting used by language bindings but\n",
      "  then being mistakenly passed down to XGBoost core, or some parameter actually being used\n",
      "  but getting flagged wrongly here. Please open an issue if you find any such cases.\n",
      "\n",
      "\n",
      "[17:49:00] WARNING: C:/Users/Administrator/workspace/xgboost-win64_release_1.6.0/src/learner.cc:627: \n",
      "Parameters: { \"min_samples_split\" } might not be used.\n",
      "\n",
      "  This could be a false alarm, with some parameters getting used by language bindings but\n",
      "  then being mistakenly passed down to XGBoost core, or some parameter actually being used\n",
      "  but getting flagged wrongly here. Please open an issue if you find any such cases.\n",
      "\n",
      "\n",
      "[17:49:02] WARNING: C:/Users/Administrator/workspace/xgboost-win64_release_1.6.0/src/learner.cc:627: \n",
      "Parameters: { \"min_samples_split\" } might not be used.\n",
      "\n",
      "  This could be a false alarm, with some parameters getting used by language bindings but\n",
      "  then being mistakenly passed down to XGBoost core, or some parameter actually being used\n",
      "  but getting flagged wrongly here. Please open an issue if you find any such cases.\n",
      "\n",
      "\n",
      "[17:49:05] WARNING: C:/Users/Administrator/workspace/xgboost-win64_release_1.6.0/src/learner.cc:627: \n",
      "Parameters: { \"min_samples_split\" } might not be used.\n",
      "\n",
      "  This could be a false alarm, with some parameters getting used by language bindings but\n",
      "  then being mistakenly passed down to XGBoost core, or some parameter actually being used\n",
      "  but getting flagged wrongly here. Please open an issue if you find any such cases.\n",
      "\n",
      "\n"
     ]
    },
    {
     "name": "stderr",
     "output_type": "stream",
     "text": [
      "c:\\Users\\user\\AppData\\Local\\Programs\\Python\\Python38\\lib\\site-packages\\sklearn\\utils\\validation.py:1111: DataConversionWarning: A column-vector y was passed when a 1d array was expected. Please change the shape of y to (n_samples, ), for example using ravel().\n",
      "  y = column_or_1d(y, warn=True)\n",
      "c:\\Users\\user\\AppData\\Local\\Programs\\Python\\Python38\\lib\\site-packages\\sklearn\\utils\\validation.py:1111: DataConversionWarning: A column-vector y was passed when a 1d array was expected. Please change the shape of y to (n_samples, ), for example using ravel().\n",
      "  y = column_or_1d(y, warn=True)\n",
      "c:\\Users\\user\\AppData\\Local\\Programs\\Python\\Python38\\lib\\site-packages\\sklearn\\utils\\validation.py:1111: DataConversionWarning: A column-vector y was passed when a 1d array was expected. Please change the shape of y to (n_samples, ), for example using ravel().\n",
      "  y = column_or_1d(y, warn=True)\n",
      "c:\\Users\\user\\AppData\\Local\\Programs\\Python\\Python38\\lib\\site-packages\\sklearn\\utils\\validation.py:1111: DataConversionWarning: A column-vector y was passed when a 1d array was expected. Please change the shape of y to (n_samples, ), for example using ravel().\n",
      "  y = column_or_1d(y, warn=True)\n",
      "c:\\Users\\user\\AppData\\Local\\Programs\\Python\\Python38\\lib\\site-packages\\sklearn\\linear_model\\_logistic.py:444: ConvergenceWarning: lbfgs failed to converge (status=1):\n",
      "STOP: TOTAL NO. of ITERATIONS REACHED LIMIT.\n",
      "\n",
      "Increase the number of iterations (max_iter) or scale the data as shown in:\n",
      "    https://scikit-learn.org/stable/modules/preprocessing.html\n",
      "Please also refer to the documentation for alternative solver options:\n",
      "    https://scikit-learn.org/stable/modules/linear_model.html#logistic-regression\n",
      "  n_iter_i = _check_optimize_result(\n",
      "c:\\Users\\user\\AppData\\Local\\Programs\\Python\\Python38\\lib\\site-packages\\sklearn\\utils\\validation.py:1111: DataConversionWarning: A column-vector y was passed when a 1d array was expected. Please change the shape of y to (n_samples, ), for example using ravel().\n",
      "  y = column_or_1d(y, warn=True)\n",
      "c:\\Users\\user\\AppData\\Local\\Programs\\Python\\Python38\\lib\\site-packages\\sklearn\\neighbors\\_classification.py:200: DataConversionWarning: A column-vector y was passed when a 1d array was expected. Please change the shape of y to (n_samples,), for example using ravel().\n",
      "  return self._fit(X, y)\n",
      "c:\\Users\\user\\AppData\\Local\\Programs\\Python\\Python38\\lib\\site-packages\\sklearn\\neighbors\\_classification.py:200: DataConversionWarning: A column-vector y was passed when a 1d array was expected. Please change the shape of y to (n_samples,), for example using ravel().\n",
      "  return self._fit(X, y)\n",
      "c:\\Users\\user\\AppData\\Local\\Programs\\Python\\Python38\\lib\\site-packages\\sklearn\\neighbors\\_classification.py:200: DataConversionWarning: A column-vector y was passed when a 1d array was expected. Please change the shape of y to (n_samples,), for example using ravel().\n",
      "  return self._fit(X, y)\n",
      "c:\\Users\\user\\AppData\\Local\\Programs\\Python\\Python38\\lib\\site-packages\\sklearn\\neighbors\\_classification.py:200: DataConversionWarning: A column-vector y was passed when a 1d array was expected. Please change the shape of y to (n_samples,), for example using ravel().\n",
      "  return self._fit(X, y)\n",
      "c:\\Users\\user\\AppData\\Local\\Programs\\Python\\Python38\\lib\\site-packages\\sklearn\\neighbors\\_classification.py:200: DataConversionWarning: A column-vector y was passed when a 1d array was expected. Please change the shape of y to (n_samples,), for example using ravel().\n",
      "  return self._fit(X, y)\n",
      "c:\\Users\\user\\AppData\\Local\\Programs\\Python\\Python38\\lib\\site-packages\\sklearn\\ensemble\\_gb.py:570: DataConversionWarning: A column-vector y was passed when a 1d array was expected. Please change the shape of y to (n_samples, ), for example using ravel().\n",
      "  y = column_or_1d(y, warn=True)\n",
      "c:\\Users\\user\\AppData\\Local\\Programs\\Python\\Python38\\lib\\site-packages\\sklearn\\ensemble\\_gb.py:570: DataConversionWarning: A column-vector y was passed when a 1d array was expected. Please change the shape of y to (n_samples, ), for example using ravel().\n",
      "  y = column_or_1d(y, warn=True)\n",
      "c:\\Users\\user\\AppData\\Local\\Programs\\Python\\Python38\\lib\\site-packages\\sklearn\\ensemble\\_gb.py:570: DataConversionWarning: A column-vector y was passed when a 1d array was expected. Please change the shape of y to (n_samples, ), for example using ravel().\n",
      "  y = column_or_1d(y, warn=True)\n",
      "c:\\Users\\user\\AppData\\Local\\Programs\\Python\\Python38\\lib\\site-packages\\sklearn\\ensemble\\_gb.py:570: DataConversionWarning: A column-vector y was passed when a 1d array was expected. Please change the shape of y to (n_samples, ), for example using ravel().\n",
      "  y = column_or_1d(y, warn=True)\n",
      "c:\\Users\\user\\AppData\\Local\\Programs\\Python\\Python38\\lib\\site-packages\\sklearn\\ensemble\\_gb.py:570: DataConversionWarning: A column-vector y was passed when a 1d array was expected. Please change the shape of y to (n_samples, ), for example using ravel().\n",
      "  y = column_or_1d(y, warn=True)\n",
      "c:\\Users\\user\\AppData\\Local\\Programs\\Python\\Python38\\lib\\site-packages\\sklearn\\model_selection\\_validation.py:686: DataConversionWarning: A column-vector y was passed when a 1d array was expected. Please change the shape of y to (n_samples,), for example using ravel().\n",
      "  estimator.fit(X_train, y_train, **fit_params)\n",
      "c:\\Users\\user\\AppData\\Local\\Programs\\Python\\Python38\\lib\\site-packages\\sklearn\\model_selection\\_validation.py:686: DataConversionWarning: A column-vector y was passed when a 1d array was expected. Please change the shape of y to (n_samples,), for example using ravel().\n",
      "  estimator.fit(X_train, y_train, **fit_params)\n",
      "c:\\Users\\user\\AppData\\Local\\Programs\\Python\\Python38\\lib\\site-packages\\sklearn\\model_selection\\_validation.py:686: DataConversionWarning: A column-vector y was passed when a 1d array was expected. Please change the shape of y to (n_samples,), for example using ravel().\n",
      "  estimator.fit(X_train, y_train, **fit_params)\n",
      "c:\\Users\\user\\AppData\\Local\\Programs\\Python\\Python38\\lib\\site-packages\\sklearn\\model_selection\\_validation.py:686: DataConversionWarning: A column-vector y was passed when a 1d array was expected. Please change the shape of y to (n_samples,), for example using ravel().\n",
      "  estimator.fit(X_train, y_train, **fit_params)\n",
      "c:\\Users\\user\\AppData\\Local\\Programs\\Python\\Python38\\lib\\site-packages\\sklearn\\model_selection\\_validation.py:686: DataConversionWarning: A column-vector y was passed when a 1d array was expected. Please change the shape of y to (n_samples,), for example using ravel().\n",
      "  estimator.fit(X_train, y_train, **fit_params)\n",
      "c:\\Users\\user\\AppData\\Local\\Programs\\Python\\Python38\\lib\\site-packages\\sklearn\\utils\\validation.py:1111: DataConversionWarning: A column-vector y was passed when a 1d array was expected. Please change the shape of y to (n_samples, ), for example using ravel().\n",
      "  y = column_or_1d(y, warn=True)\n",
      "c:\\Users\\user\\AppData\\Local\\Programs\\Python\\Python38\\lib\\site-packages\\sklearn\\utils\\validation.py:1111: DataConversionWarning: A column-vector y was passed when a 1d array was expected. Please change the shape of y to (n_samples, ), for example using ravel().\n",
      "  y = column_or_1d(y, warn=True)\n",
      "c:\\Users\\user\\AppData\\Local\\Programs\\Python\\Python38\\lib\\site-packages\\sklearn\\utils\\validation.py:1111: DataConversionWarning: A column-vector y was passed when a 1d array was expected. Please change the shape of y to (n_samples, ), for example using ravel().\n",
      "  y = column_or_1d(y, warn=True)\n",
      "c:\\Users\\user\\AppData\\Local\\Programs\\Python\\Python38\\lib\\site-packages\\sklearn\\utils\\validation.py:1111: DataConversionWarning: A column-vector y was passed when a 1d array was expected. Please change the shape of y to (n_samples, ), for example using ravel().\n",
      "  y = column_or_1d(y, warn=True)\n",
      "c:\\Users\\user\\AppData\\Local\\Programs\\Python\\Python38\\lib\\site-packages\\sklearn\\utils\\validation.py:1111: DataConversionWarning: A column-vector y was passed when a 1d array was expected. Please change the shape of y to (n_samples, ), for example using ravel().\n",
      "  y = column_or_1d(y, warn=True)\n",
      "c:\\Users\\user\\AppData\\Local\\Programs\\Python\\Python38\\lib\\site-packages\\sklearn\\model_selection\\_validation.py:686: DataConversionWarning: A column-vector y was passed when a 1d array was expected. Please change the shape of y to (n_samples,), for example using ravel().\n",
      "  estimator.fit(X_train, y_train, **fit_params)\n",
      "c:\\Users\\user\\AppData\\Local\\Programs\\Python\\Python38\\lib\\site-packages\\sklearn\\model_selection\\_validation.py:686: DataConversionWarning: A column-vector y was passed when a 1d array was expected. Please change the shape of y to (n_samples,), for example using ravel().\n",
      "  estimator.fit(X_train, y_train, **fit_params)\n",
      "c:\\Users\\user\\AppData\\Local\\Programs\\Python\\Python38\\lib\\site-packages\\sklearn\\model_selection\\_validation.py:686: DataConversionWarning: A column-vector y was passed when a 1d array was expected. Please change the shape of y to (n_samples,), for example using ravel().\n",
      "  estimator.fit(X_train, y_train, **fit_params)\n",
      "c:\\Users\\user\\AppData\\Local\\Programs\\Python\\Python38\\lib\\site-packages\\sklearn\\model_selection\\_validation.py:686: DataConversionWarning: A column-vector y was passed when a 1d array was expected. Please change the shape of y to (n_samples,), for example using ravel().\n",
      "  estimator.fit(X_train, y_train, **fit_params)\n"
     ]
    },
    {
     "name": "stdout",
     "output_type": "stream",
     "text": [
      "logisticModel 검증 점수 :  [0.81712062 0.80779221 0.81428571 0.84155844 0.82077922]\n",
      "logisticModel 검증 평균 점수 : 0.8203072413967355 \n",
      "\n",
      "KnnModel 검증 점수 :  [0.79507134 0.77922078 0.80519481 0.80519481 0.82597403]\n",
      "KnnModel 검증 평균 점수 :  0.8021311503023565 \n",
      "\n",
      "GBModel 검증 점수 :  [0.83527886 0.81558442 0.82077922 0.84675325 0.84415584]\n",
      "GBModel 검증 평균 점수 : 0.8325103171795778 \n",
      "\n",
      "XGBModel교차 검증 점수 :  [0.83657588 0.81558442 0.81298701 0.84805195 0.84025974]\n",
      "XGBModel교차 검증 평균 점수 : 0.8306917984738996 \n",
      "\n",
      "RanModel 검증 점수 :  [0.80415045 0.7987013  0.81298701 0.82467532 0.81038961]\n",
      "RanModel 검증 평균 점수 : 0.8101807401418297 \n",
      "\n",
      "svc_score 검증 점수 :  [0.81971466 0.80649351 0.81298701 0.83636364 0.82077922]\n",
      "svc_score 검증 평균 점수 : 0.8192676065827816 \n",
      "\n",
      "ETModel_score 검증 점수 :  [0.77172503 0.79090909 0.76883117 0.78051948 0.78701299]\n",
      "ETModel_score 검증 평균 점수 : 0.7797995519396299 \n",
      "\n"
     ]
    },
    {
     "name": "stderr",
     "output_type": "stream",
     "text": [
      "c:\\Users\\user\\AppData\\Local\\Programs\\Python\\Python38\\lib\\site-packages\\sklearn\\model_selection\\_validation.py:686: DataConversionWarning: A column-vector y was passed when a 1d array was expected. Please change the shape of y to (n_samples,), for example using ravel().\n",
      "  estimator.fit(X_train, y_train, **fit_params)\n"
     ]
    }
   ],
   "source": [
    "# 교차검증으로 데이터 점검 : k-Fold cross validation\n",
    "from sklearn.model_selection import cross_val_score \n",
    "from sklearn.model_selection import KFold \n",
    "\n",
    "kfold = KFold(n_splits = 5,shuffle = True,random_state=0) \n",
    "XGBModel_score = cross_val_score(XGBModel, x_train, y_train, cv=kfold) \n",
    "logisticModel_score = cross_val_score(logisticModel, x_train, y_train, cv=kfold) \n",
    "KnnModel_score = cross_val_score(KnnModel, x_train, y_train, cv=kfold) \n",
    "GBModel_score = cross_val_score(GBModel, x_train, y_train, cv =kfold)\n",
    "RanModel_score = cross_val_score(RanModel, x_train, y_train, cv = kfold) \n",
    "svc_score = cross_val_score(svc, x_train, y_train, cv = kfold) \n",
    "ETModel_score = cross_val_score(ETModel, x_train, y_train, cv = kfold) \n",
    "\n",
    "print('logisticModel 검증 점수 : ', logisticModel_score) \n",
    "print(\"logisticModel 검증 평균 점수 :\",logisticModel_score.mean(),\"\\n\") \n",
    "print('KnnModel 검증 점수 : ', KnnModel_score) \n",
    "print(\"KnnModel 검증 평균 점수 : \",KnnModel_score.mean(),\"\\n\") \n",
    "print('GBModel 검증 점수 : ', GBModel_score) \n",
    "print(\"GBModel 검증 평균 점수 :\",GBModel_score.mean(),\"\\n\") \n",
    "print('XGBModel교차 검증 점수 : ', XGBModel_score) \n",
    "print(\"XGBModel교차 검증 평균 점수 :\",XGBModel_score.mean(),\"\\n\") \n",
    "print('RanModel 검증 점수 : ', RanModel_score) \n",
    "print(\"RanModel 검증 평균 점수 :\",RanModel_score.mean(),\"\\n\") \n",
    "print('svc_score 검증 점수 : ', svc_score) \n",
    "print(\"svc_score 검증 평균 점수 :\",svc_score.mean(),\"\\n\") \n",
    "print('ETModel_score 검증 점수 : ', ETModel_score) \n",
    "print(\"ETModel_score 검증 평균 점수 :\",ETModel_score.mean(),\"\\n\")"
   ]
  },
  {
   "cell_type": "code",
   "execution_count": 54,
   "metadata": {},
   "outputs": [
    {
     "name": "stderr",
     "output_type": "stream",
     "text": [
      "c:\\Users\\user\\AppData\\Local\\Programs\\Python\\Python38\\lib\\site-packages\\sklearn\\utils\\validation.py:1111: DataConversionWarning: A column-vector y was passed when a 1d array was expected. Please change the shape of y to (n_samples, ), for example using ravel().\n",
      "  y = column_or_1d(y, warn=True)\n",
      "c:\\Users\\user\\AppData\\Local\\Programs\\Python\\Python38\\lib\\site-packages\\sklearn\\linear_model\\_logistic.py:444: ConvergenceWarning: lbfgs failed to converge (status=1):\n",
      "STOP: TOTAL NO. of ITERATIONS REACHED LIMIT.\n",
      "\n",
      "Increase the number of iterations (max_iter) or scale the data as shown in:\n",
      "    https://scikit-learn.org/stable/modules/preprocessing.html\n",
      "Please also refer to the documentation for alternative solver options:\n",
      "    https://scikit-learn.org/stable/modules/linear_model.html#logistic-regression\n",
      "  n_iter_i = _check_optimize_result(\n",
      "c:\\Users\\user\\AppData\\Local\\Programs\\Python\\Python38\\lib\\site-packages\\sklearn\\neighbors\\_classification.py:200: DataConversionWarning: A column-vector y was passed when a 1d array was expected. Please change the shape of y to (n_samples,), for example using ravel().\n",
      "  return self._fit(X, y)\n",
      "c:\\Users\\user\\AppData\\Local\\Programs\\Python\\Python38\\lib\\site-packages\\sklearn\\ensemble\\_gb.py:570: DataConversionWarning: A column-vector y was passed when a 1d array was expected. Please change the shape of y to (n_samples, ), for example using ravel().\n",
      "  y = column_or_1d(y, warn=True)\n"
     ]
    },
    {
     "name": "stdout",
     "output_type": "stream",
     "text": [
      "[17:50:47] WARNING: C:/Users/Administrator/workspace/xgboost-win64_release_1.6.0/src/learner.cc:627: \n",
      "Parameters: { \"min_samples_split\" } might not be used.\n",
      "\n",
      "  This could be a false alarm, with some parameters getting used by language bindings but\n",
      "  then being mistakenly passed down to XGBoost core, or some parameter actually being used\n",
      "  but getting flagged wrongly here. Please open an issue if you find any such cases.\n",
      "\n",
      "\n"
     ]
    },
    {
     "name": "stderr",
     "output_type": "stream",
     "text": [
      "C:\\Users\\user\\AppData\\Local\\Temp\\ipykernel_18244\\2099559548.py:28: DataConversionWarning: A column-vector y was passed when a 1d array was expected. Please change the shape of y to (n_samples,), for example using ravel().\n",
      "  RanModel.fit(x_train, y_train)#Random Forest train\n",
      "C:\\Users\\user\\AppData\\Local\\Temp\\ipykernel_18244\\2099559548.py:35: DataConversionWarning: A column-vector y was passed when a 1d array was expected. Please change the shape of y to (n_samples,), for example using ravel().\n",
      "  ETModel.fit(x_train, y_train)#Extra trees train\n",
      "c:\\Users\\user\\AppData\\Local\\Programs\\Python\\Python38\\lib\\site-packages\\sklearn\\utils\\validation.py:1111: DataConversionWarning: A column-vector y was passed when a 1d array was expected. Please change the shape of y to (n_samples, ), for example using ravel().\n",
      "  y = column_or_1d(y, warn=True)\n",
      "c:\\Users\\user\\AppData\\Local\\Programs\\Python\\Python38\\lib\\site-packages\\sklearn\\utils\\validation.py:1111: DataConversionWarning: A column-vector y was passed when a 1d array was expected. Please change the shape of y to (n_samples, ), for example using ravel().\n",
      "  y = column_or_1d(y, warn=True)\n"
     ]
    },
    {
     "name": "stdout",
     "output_type": "stream",
     "text": [
      "task:         [classification]\n",
      "n_classes:    [2]\n",
      "metric:       [accuracy_score]\n",
      "variant:      [A]\n",
      "n_estimators: [3]\n",
      "\n",
      "estimator  0: [ExtraTrees: ExtraTreesClassifier]\n",
      "    fold  0:  [0.78296989]\n",
      "    fold  1:  [0.78296989]\n",
      "    fold  2:  [0.78608515]\n",
      "    fold  3:  [0.77754678]\n",
      "    ----\n",
      "    MEAN:     [0.78239292] + [0.00307341]\n",
      "\n",
      "estimator  1: [RandomForest: RandomForestClassifier]\n",
      "    fold  0:  [0.81516096]\n",
      "    fold  1:  [0.78920042]\n",
      "    fold  2:  [0.80581516]\n",
      "    fold  3:  [0.81288981]\n",
      "    ----\n",
      "    MEAN:     [0.80576659] + [0.01016655]\n",
      "\n",
      "estimator  2: [XGB: XGBClassifier]\n",
      "    fold  0:  [0.84423676]\n",
      "    fold  1:  [0.80477674]\n",
      "    fold  2:  [0.82450675]\n",
      "    fold  3:  [0.82536383]\n",
      "    ----\n",
      "    MEAN:     [0.82472102] + [0.01395616]\n",
      "\n",
      "Train set was detected.\n",
      "Transforming...\n",
      "\n",
      "estimator  0: [ExtraTrees: ExtraTreesClassifier]\n",
      "    model from fold  0: done\n",
      "    model from fold  1: done\n",
      "    model from fold  2: done\n",
      "    model from fold  3: done\n",
      "    ----\n",
      "    DONE\n",
      "\n",
      "estimator  1: [RandomForest: RandomForestClassifier]\n",
      "    model from fold  0: done\n",
      "    model from fold  1: done\n",
      "    model from fold  2: done\n",
      "    model from fold  3: done\n",
      "    ----\n",
      "    DONE\n",
      "\n",
      "estimator  2: [XGB: XGBClassifier]\n",
      "    model from fold  0: done\n",
      "    model from fold  1: done\n",
      "    model from fold  2: done\n",
      "    model from fold  3: done\n",
      "    ----\n",
      "    DONE\n",
      "\n",
      "Transforming...\n",
      "\n",
      "estimator  0: [ExtraTrees: ExtraTreesClassifier]\n",
      "    model from fold  0: done\n",
      "    model from fold  1: done\n",
      "    model from fold  2: done\n",
      "    model from fold  3: done\n",
      "    ----\n",
      "    DONE\n",
      "\n",
      "estimator  1: [RandomForest: RandomForestClassifier]\n",
      "    model from fold  0: done\n",
      "    model from fold  1: done\n",
      "    model from fold  2: done\n",
      "    model from fold  3: done\n",
      "    ----\n",
      "    DONE\n",
      "\n",
      "estimator  2: [XGB: XGBClassifier]\n",
      "    model from fold  0: done\n",
      "    model from fold  1: done\n",
      "    model from fold  2: done\n",
      "    model from fold  3: done\n",
      "    ----\n",
      "    DONE\n",
      "\n"
     ]
    }
   ],
   "source": [
    "from sklearn.metrics import f1_score\n",
    "# pred = lr_clf.predict(X_test)\n",
    "# f1 = f1_score(y_test, pred)\n",
    "# print('F1 스코어 : {:.4f}'.format(f1))\n",
    "\n",
    "logisticModel.fit(x_train, y_train) #로지스틱 train \n",
    "logisticModel_pred = logisticModel.predict(x_test)\n",
    "logisticModel_acc = accuracy_score(y_test, logisticModel_pred)\n",
    "logisticModel_f1 = f1_score(y_test, logisticModel_pred)\n",
    "\n",
    "KnnModel.fit(x_train, y_train) #KNN \n",
    "KnnModel_pred = KnnModel.predict(x_test)\n",
    "KnnModel_acc = accuracy_score(y_test, KnnModel_pred)\n",
    "KnnModel_f1 = f1_score(y_test, KnnModel_pred)\n",
    "\n",
    "GBModel.fit(x_train, y_train)#GB train \n",
    "GBModel_pred = GBModel.predict(x_test)\n",
    "GBModel_acc = accuracy_score(y_test, GBModel_pred)\n",
    "GBModel_f1 = f1_score(y_test, GBModel_pred)\n",
    "\n",
    "\n",
    "XGBModel.fit(x_train, y_train)#XGB train \n",
    "XGBModel_pred = XGBModel.predict(x_test)\n",
    "XGBModel_acc = accuracy_score(y_test, XGBModel_pred)\n",
    "XGBMode1_f1 = f1_score(y_test, XGBModel_pred)\n",
    "\n",
    "\n",
    "RanModel.fit(x_train, y_train)#Random Forest train \n",
    "RanModel_pred = RanModel.predict(x_test)\n",
    "RanModel_acc = accuracy_score(y_test, RanModel_pred)\n",
    "RanModel_f1 = f1_score(y_test, RanModel_pred)\n",
    "\n",
    "\n",
    "\n",
    "ETModel.fit(x_train, y_train)#Extra trees train \n",
    "ETModel_pred = ETModel.predict(x_test)\n",
    "ETModel_acc = accuracy_score(y_test, ETModel_pred)\n",
    "ETModel_f1 = f1_score(y_test, ETModel_pred)\n",
    "\n",
    "\n",
    "svc.fit(x_train, y_train) #SVM train stack = stack.fit(x_train, y_train)\n",
    "svc_pred = svc.predict(x_test)\n",
    "svc_acc = accuracy_score(y_test, svc_pred)\n",
    "svc_f1 = f1_score(y_test, svc_pred)\n",
    "\n",
    "\n",
    "\n",
    "#Stacking \n",
    "stack = stack.fit(x_train, y_train)\n",
    "\n",
    "S_train = stack.transform(x_train) \n",
    "S_test = stack.transform(x_test) \n",
    "\n",
    "#Stacking \n",
    "StackModel = XGBClassifier(seed = 0, n_jobs = -1, learning_rate = 0.01, n_estimators = 1000, max_depth = 5) \n",
    "StackModel = StackModel.fit(S_train, y_train) \n",
    "y_pred = StackModel.predict(S_test) #Stacking\n",
    "\n",
    "StackModel_acc = accuracy_score(y_test, y_pred)\n",
    "StackModel_f1 = f1_score(y_test, svc_pred)\n",
    "\n",
    "\n",
    "\n",
    "# # myclf = MyDummyClassifier()\n",
    "# myclf.fit(X_train, y_train)\n",
    "\n",
    "# mypredictions = myclf.predict(x_test)\n",
    "# acc = accuracy_score(y_test, mypredictions)\n"
   ]
  },
  {
   "cell_type": "code",
   "execution_count": 55,
   "metadata": {},
   "outputs": [],
   "source": [
    "models = [logisticModel,\n",
    "          KnnModel,\n",
    "          GBModel,\n",
    "          XGBModel,\n",
    "          RanModel,\n",
    "          ETModel,\n",
    "          svc]\n"
   ]
  },
  {
   "cell_type": "code",
   "execution_count": 56,
   "metadata": {},
   "outputs": [],
   "source": [
    "# import preprocessor\n",
    "# from sklearn.pipeline import Pipeline\n",
    "# acc_list = []\n",
    "\n",
    "# for model in models:\n",
    "#     model_pipeline = Pipeline(steps = [('preprocessor', preprocessor),\n",
    "#                                        ('classifier', model)])\n",
    "#     model_pipeline.fit(x_train, y_train)\n",
    "#     accuacy = model_pipeline.score(x_test, y_test)\n",
    "#     model_name = model\n",
    "#     acc = model_name + str(accuacy)\n",
    "#     acc_list.append(acc)"
   ]
  },
  {
   "cell_type": "code",
   "execution_count": 57,
   "metadata": {},
   "outputs": [],
   "source": [
    "# y_pred = model.predict(X_test)\n",
    "# y_pred\n",
    "# accuracy_score(y_pred, y_test)"
   ]
  },
  {
   "cell_type": "code",
   "execution_count": 58,
   "metadata": {},
   "outputs": [
    {
     "data": {
      "text/html": [
       "<div>\n",
       "<style scoped>\n",
       "    .dataframe tbody tr th:only-of-type {\n",
       "        vertical-align: middle;\n",
       "    }\n",
       "\n",
       "    .dataframe tbody tr th {\n",
       "        vertical-align: top;\n",
       "    }\n",
       "\n",
       "    .dataframe thead th {\n",
       "        text-align: right;\n",
       "    }\n",
       "</style>\n",
       "<table border=\"1\" class=\"dataframe\">\n",
       "  <thead>\n",
       "    <tr style=\"text-align: right;\">\n",
       "      <th></th>\n",
       "      <th>Model</th>\n",
       "      <th>Score</th>\n",
       "    </tr>\n",
       "  </thead>\n",
       "  <tbody>\n",
       "    <tr>\n",
       "      <th>7</th>\n",
       "      <td>Stacking</td>\n",
       "      <td>0.828589</td>\n",
       "    </tr>\n",
       "    <tr>\n",
       "      <th>6</th>\n",
       "      <td>SVC</td>\n",
       "      <td>0.827983</td>\n",
       "    </tr>\n",
       "    <tr>\n",
       "      <th>2</th>\n",
       "      <td>Gradient Boosting</td>\n",
       "      <td>0.824955</td>\n",
       "    </tr>\n",
       "    <tr>\n",
       "      <th>0</th>\n",
       "      <td>Logistic</td>\n",
       "      <td>0.823743</td>\n",
       "    </tr>\n",
       "    <tr>\n",
       "      <th>5</th>\n",
       "      <td>Random forset</td>\n",
       "      <td>0.821320</td>\n",
       "    </tr>\n",
       "    <tr>\n",
       "      <th>3</th>\n",
       "      <td>XGB</td>\n",
       "      <td>0.818292</td>\n",
       "    </tr>\n",
       "    <tr>\n",
       "      <th>1</th>\n",
       "      <td>KNN</td>\n",
       "      <td>0.794670</td>\n",
       "    </tr>\n",
       "    <tr>\n",
       "      <th>4</th>\n",
       "      <td>Extra tree</td>\n",
       "      <td>0.786796</td>\n",
       "    </tr>\n",
       "  </tbody>\n",
       "</table>\n",
       "</div>"
      ],
      "text/plain": [
       "               Model     Score\n",
       "7           Stacking  0.828589\n",
       "6                SVC  0.827983\n",
       "2  Gradient Boosting  0.824955\n",
       "0           Logistic  0.823743\n",
       "5      Random forset  0.821320\n",
       "3                XGB  0.818292\n",
       "1                KNN  0.794670\n",
       "4         Extra tree  0.786796"
      ]
     },
     "execution_count": 58,
     "metadata": {},
     "output_type": "execute_result"
    }
   ],
   "source": [
    "models = pd.DataFrame({\n",
    "    'Model' : ['Logistic', 'KNN', 'Gradient Boosting', 'XGB', 'Extra tree', 'Random forset', 'SVC', 'Stacking'],\n",
    "    'Score' : [\n",
    "        logisticModel_acc,\n",
    "        KnnModel_acc,\n",
    "        GBModel_acc,\n",
    "        XGBModel_acc,\n",
    "        ETModel_acc,\n",
    "        RanModel_acc,\n",
    "        svc_acc,\n",
    "        StackModel_acc]})\n",
    "\n",
    "models.sort_values(by= 'Score', ascending = False)"
   ]
  },
  {
   "cell_type": "code",
   "execution_count": 59,
   "metadata": {},
   "outputs": [
    {
     "data": {
      "text/html": [
       "<div>\n",
       "<style scoped>\n",
       "    .dataframe tbody tr th:only-of-type {\n",
       "        vertical-align: middle;\n",
       "    }\n",
       "\n",
       "    .dataframe tbody tr th {\n",
       "        vertical-align: top;\n",
       "    }\n",
       "\n",
       "    .dataframe thead th {\n",
       "        text-align: right;\n",
       "    }\n",
       "</style>\n",
       "<table border=\"1\" class=\"dataframe\">\n",
       "  <thead>\n",
       "    <tr style=\"text-align: right;\">\n",
       "      <th></th>\n",
       "      <th>Model</th>\n",
       "      <th>Score</th>\n",
       "    </tr>\n",
       "  </thead>\n",
       "  <tbody>\n",
       "    <tr>\n",
       "      <th>3</th>\n",
       "      <td>XGB</td>\n",
       "      <td>0.553571</td>\n",
       "    </tr>\n",
       "    <tr>\n",
       "      <th>2</th>\n",
       "      <td>Gradient Boosting</td>\n",
       "      <td>0.553323</td>\n",
       "    </tr>\n",
       "    <tr>\n",
       "      <th>6</th>\n",
       "      <td>SVC</td>\n",
       "      <td>0.535948</td>\n",
       "    </tr>\n",
       "    <tr>\n",
       "      <th>7</th>\n",
       "      <td>Stacking</td>\n",
       "      <td>0.535948</td>\n",
       "    </tr>\n",
       "    <tr>\n",
       "      <th>0</th>\n",
       "      <td>Logistic</td>\n",
       "      <td>0.535885</td>\n",
       "    </tr>\n",
       "    <tr>\n",
       "      <th>1</th>\n",
       "      <td>KNN</td>\n",
       "      <td>0.520509</td>\n",
       "    </tr>\n",
       "    <tr>\n",
       "      <th>5</th>\n",
       "      <td>Random forset</td>\n",
       "      <td>0.462659</td>\n",
       "    </tr>\n",
       "    <tr>\n",
       "      <th>4</th>\n",
       "      <td>Extra tree</td>\n",
       "      <td>0.097436</td>\n",
       "    </tr>\n",
       "  </tbody>\n",
       "</table>\n",
       "</div>"
      ],
      "text/plain": [
       "               Model     Score\n",
       "3                XGB  0.553571\n",
       "2  Gradient Boosting  0.553323\n",
       "6                SVC  0.535948\n",
       "7           Stacking  0.535948\n",
       "0           Logistic  0.535885\n",
       "1                KNN  0.520509\n",
       "5      Random forset  0.462659\n",
       "4         Extra tree  0.097436"
      ]
     },
     "execution_count": 59,
     "metadata": {},
     "output_type": "execute_result"
    }
   ],
   "source": [
    "models = pd.DataFrame({\n",
    "    'Model' : ['Logistic', 'KNN', 'Gradient Boosting', 'XGB', 'Extra tree', 'Random forset', 'SVC', 'Stacking'],\n",
    "    'Score' : [\n",
    "        logisticModel_f1,\n",
    "        KnnModel_f1,\n",
    "        GBModel_f1,\n",
    "        XGBMode1_f1,\n",
    "        ETModel_f1,\n",
    "        RanModel_f1,\n",
    "        svc_f1,\n",
    "        StackModel_f1]})\n",
    "\n",
    "models.sort_values(by= 'Score', ascending = False)"
   ]
  },
  {
   "cell_type": "code",
   "execution_count": 60,
   "metadata": {},
   "outputs": [],
   "source": [
    "# from sklearn.metrics import roc_curve, accuracy_score\n",
    "# # x_test에 대한 예측확률\n",
    "# from sklearn import random_projection\n",
    "\n",
    "\n",
    "# probs = svc.predict_proba(x_test)[:, 1]\n",
    "\n",
    "# # ROC curve X축, Y축 추출\n",
    "# svc_fpr, svc_tpr, threshold1 = roc_curve(y_test, probs)\n",
    "# random_fpr, random_tpr, threshold2 = roc_curve(y_test, [0 for i in range(x_test.__len__())])\n",
    "\n",
    "# # plot the roc curve for the svc and random\n",
    "# plt.figure(figsize = (10, 10))\n",
    "# plt.plot(svc_fpr, svc_tpr, marker = '.', label = 'Logistic')\n",
    "# plt.plot(random_fpr, random_tpr, linestyle = '--', label = 'Random')\n",
    "\n",
    "# # axis labels\n",
    "# plt.xlabel('False Positive Rate', size = 20)\n",
    "# plt.ylabel('True Positive Rate', size = 20)"
   ]
  }
 ],
 "metadata": {
  "kernelspec": {
   "display_name": "Python 3.8.10 64-bit",
   "language": "python",
   "name": "python3"
  },
  "language_info": {
   "codemirror_mode": {
    "name": "ipython",
    "version": 3
   },
   "file_extension": ".py",
   "mimetype": "text/x-python",
   "name": "python",
   "nbconvert_exporter": "python",
   "pygments_lexer": "ipython3",
   "version": "3.8.10"
  },
  "orig_nbformat": 4,
  "vscode": {
   "interpreter": {
    "hash": "6a926afa313b26ae1264fdcf81c726a97e69f6ba2ba780f6aa901948710f8d6e"
   }
  }
 },
 "nbformat": 4,
 "nbformat_minor": 2
}
