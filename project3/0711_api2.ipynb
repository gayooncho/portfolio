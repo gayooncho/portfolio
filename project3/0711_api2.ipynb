{
 "cells": [
  {
   "cell_type": "code",
   "execution_count": 1,
   "metadata": {},
   "outputs": [],
   "source": [
    "# 참고 https://alex-blog.tistory.com/entry/%EB%8D%B0%EC%9D%B4%ED%84%B0-%EB%B6%84%EC%84%9D%EC%9D%84-%EC%9C%84%ED%95%9C-Python-%EA%B3%B5%EA%B3%B5%EB%8D%B0%EC%9D%B4%ED%84%B0-api-%ED%81%AC%EB%A1%A4%EB%A7%81\n",
    "\n",
    "import pandas as pd\n",
    "import json\n",
    "import requests\n",
    "from bs4 import BeautifulSoup"
   ]
  },
  {
   "cell_type": "code",
   "execution_count": 2,
   "metadata": {},
   "outputs": [],
   "source": [
    "url = 'http://apis.data.go.kr/1360000/AsosDalyInfoService/getWthrDataList'\n",
    "\n",
    "# stnIds = 강원 울산 경북\n",
    "# 강원 stnIds = 90, 95, 100, 102, 104, 105, 106, 114, 212, 216, 217, 121, 211\n",
    "# 울산 stnIds = 152\n",
    "# 경북 stnIds = 138, 283, 136, 279, 272, 281, 273, 276, 278, 276, 277, 271, 130\n",
    "\n",
    "# 포항, 경주, 김천, 안동, 구미, 영주, 영천, 상주\n",
    "# 문경 경산, 군위군, 의성군, 청송군, 영양군, 영덕군, 청도군, 고령군\n",
    "# 성주군, 칠곡군, 예천군, 봉화군, 울진군, 울릉군\n",
    "\n",
    "# 날씨 데이터가 없는 지역\n",
    "# 북춘천? - 2012년부터 데이터 없음 / 93 제외\n",
    "# 김천, 경산, 군위군, 영양군, 청도군, 고령군, 성주군, 성주군, 칠곡군, 예천군, 봉화군, 울릉군\n",
    "\n",
    "# 경기\n",
    "# 광주, 가평, 남양주, 양평, 연천, 시흥, 의왕, 오산, 용인, 포천, 화성, 양평, 파주, 안성, 고양, 안산, 여주, 파주, 성남, 의정부, \n",
    "# 경기 stnIds = 98, 99, 102, 108, 112, 119, 202, 203, \n",
    "\n",
    "\n",
    "# b) 요청 메시지 명세\n",
    "queryParams = '?' + \\\n",
    "              'ServiceKey=' + 'PNLH8BSwmhD8GsrOyOlmkIYv49lfU2CsjbGSdYTMUD9CIxl2MA%2F0JGU22moSzyr3EYpn7KFdA82qrjZSyYt6kQ%3D%3D' + \\\n",
    "              '&pageNo='+ '1' + \\\n",
    "              '&numOfRows='+ '999' + \\\n",
    "              '&dataType='+ 'JSON' + \\\n",
    "              '&dataCd='+ 'ASOS' + \\\n",
    "              '&dateCd='+ 'DAY' + \\\n",
    "              '&startDt='+ '20110101' + \\\n",
    "              '&endDt='+ '20211231'  + \\\n",
    "              '&stnIds='+ '108'# \\        필요 지역 넣기"
   ]
  },
  {
   "cell_type": "code",
   "execution_count": 3,
   "metadata": {},
   "outputs": [],
   "source": [
    "# 강원 stnIds = 90, 95, 100, 102, 104, 105, 106, 114, 212, 216, 217, 121, 211\n",
    "# 울산 stnIds = 152\n",
    "# 경북 stnIds = 271, 283, 136, 273, 130, 138, 271, 276, 279, 277, 281, 276, 137, 278, 272\n",
    "region_list = [90, 95, 100, 101,102, 104, 105, 106, 114, 212, 216, 217, 121, 211, \n",
    "               152, 138, 283, 136, 279, 272, 281, 273, 276, 278, 276, 277, 271, 130]\n",
    "\n",
    "gangwon_list = [101, 105, 212, 216, 95, 211, 121, 114, 217, 106, 90]\n",
    "woolsan_list = [152]\n",
    "geongbook_list = [271, 283, 136, 273, 130, 138, 271, 276, 279, 277, 281, 276, 137, 278, 272]\n",
    "\n",
    "gangwon_geongbook_list = [101, 105, 212, 216, 95, 211, 121, 114, 217, 106, 90, 271, 283, 136, 273, 130, 138, 271, 276, 279, 277, 281, 276, 137, 278, 272]\n",
    "\n",
    "weather_data =[]"
   ]
  },
  {
   "cell_type": "code",
   "execution_count": 4,
   "metadata": {},
   "outputs": [],
   "source": [
    "# 강원\n",
    "# 5분 소요\n",
    "for i in gangwon_geongbook_list:\n",
    "    try:\n",
    "        for j in range(8):\n",
    "            pageNo = str(j + 1)\n",
    "            queryParams = '?' + \\\n",
    "                    'ServiceKey=' + 'PNLH8BSwmhD8GsrOyOlmkIYv49lfU2CsjbGSdYTMUD9CIxl2MA%2F0JGU22moSzyr3EYpn7KFdA82qrjZSyYt6kQ%3D%3D' + \\\n",
    "                    '&pageNo='+ pageNo + \\\n",
    "                    '&numOfRows='+ '999' + \\\n",
    "                    '&dataType='+ 'JSON' + \\\n",
    "                    '&dataCd='+ 'ASOS' + \\\n",
    "                    '&dateCd='+ 'DAY' + \\\n",
    "                    '&startDt='+ '20120101' + \\\n",
    "                    '&endDt='+ '20211231'  + \\\n",
    "                    '&stnIds='+  str(i) # \\        필요 지역 넣기\n",
    "            \n",
    "            result = requests.get(url + queryParams)\n",
    "            js = json.loads(result.content)\n",
    "            data = pd.DataFrame(js['response']['body']['items']['item'])\n",
    "            weather_data.append(data)\n",
    "    except:\n",
    "        IndexError\n",
    "        \n"
   ]
  },
  {
   "cell_type": "code",
   "execution_count": 5,
   "metadata": {},
   "outputs": [
    {
     "data": {
      "text/plain": [
       "96"
      ]
     },
     "execution_count": 5,
     "metadata": {},
     "output_type": "execute_result"
    }
   ],
   "source": [
    "len(weather_data)"
   ]
  },
  {
   "cell_type": "code",
   "execution_count": 6,
   "metadata": {},
   "outputs": [],
   "source": [
    "# # 강원\n",
    "# # 5분 소요\n",
    "# for i in gangwon_geongbook_list:\n",
    "#     try:\n",
    "#         for j in range(8):\n",
    "#             pageNo = str(j + 1)\n",
    "#             queryParams = '?' + \\\n",
    "#                     'ServiceKey=' + 'PNLH8BSwmhD8GsrOyOlmkIYv49lfU2CsjbGSdYTMUD9CIxl2MA%2F0JGU22moSzyr3EYpn7KFdA82qrjZSyYt6kQ%3D%3D' + \\\n",
    "#                     '&pageNo='+ pageNo + \\\n",
    "#                     '&numOfRows='+ '999' + \\\n",
    "#                     '&dataType='+ 'JSON' + \\\n",
    "#                     '&dataCd='+ 'ASOS' + \\\n",
    "#                     '&dateCd='+ 'DAY' + \\\n",
    "#                     '&startDt='+ '19900101' + \\\n",
    "#                     '&endDt='+ '20211231'  + \\\n",
    "#                     '&stnIds='+  str(i) # \\        필요 지역 넣기\n",
    "            \n",
    "#             result = requests.get(url + queryParams)\n",
    "#             js = json.loads(result.content)\n",
    "#             data = pd.DataFrame(js['response']['body']['items']['item'])\n",
    "#             weather_data.append(data)\n",
    "#     except:\n",
    "#         IndexError\n",
    "        "
   ]
  },
  {
   "cell_type": "code",
   "execution_count": 7,
   "metadata": {},
   "outputs": [],
   "source": [
    "wether_data_concat = []\n",
    "wether_dataframe_all = pd.DataFrame()\n",
    "\n",
    "for i in range(len(weather_data)):\n",
    "    data = weather_data[i]\n",
    "    wether_dataframe_all = pd.concat([wether_dataframe_all, data])\n",
    "    \n",
    "    "
   ]
  },
  {
   "cell_type": "code",
   "execution_count": 8,
   "metadata": {},
   "outputs": [],
   "source": [
    "wether_dataframe_all.reset_index(inplace = True)\n",
    "\n",
    "wether_dataframe_all.to_csv('./wether_dataframe_gb0721.csv', encoding = 'euc-kr')"
   ]
  },
  {
   "cell_type": "code",
   "execution_count": 9,
   "metadata": {},
   "outputs": [],
   "source": [
    "# csv로 내보내기\n",
    "\n",
    "# for i in range(len(wether_data)):\n",
    "#     wether_dataframe = wether_data[i]\n",
    "#     wether_dataframe_name = wether_dataframe.loc[0, \"stnNm\"]\n",
    "#     index = str(i)\n",
    "#     wether_dataframe.to_csv('./wether_data/wether_data ' + wether_dataframe_name + index + '.csv', encoding= 'euc-kr')"
   ]
  }
 ],
 "metadata": {
  "kernelspec": {
   "display_name": "Python 3.10.4 64-bit",
   "language": "python",
   "name": "python3"
  },
  "language_info": {
   "codemirror_mode": {
    "name": "ipython",
    "version": 3
   },
   "file_extension": ".py",
   "mimetype": "text/x-python",
   "name": "python",
   "nbconvert_exporter": "python",
   "pygments_lexer": "ipython3",
   "version": "3.10.4"
  },
  "orig_nbformat": 4,
  "vscode": {
   "interpreter": {
    "hash": "0406d19bda1fbea09f583b3d3e71462aea9da7cbc837a10ade34850525f7fa2f"
   }
  }
 },
 "nbformat": 4,
 "nbformat_minor": 2
}
