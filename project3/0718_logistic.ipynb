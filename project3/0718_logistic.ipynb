{
 "cells": [
  {
   "cell_type": "code",
   "execution_count": 1,
   "metadata": {},
   "outputs": [],
   "source": [
    "import pandas as pd\n",
    "import matplotlib.pyplot as plt\n",
    "%matplotlib inline\n",
    "\n",
    "# from sklearn.datasets import \n",
    "from sklearn.linear_model import LogisticRegression\n",
    "\n"
   ]
  },
  {
   "cell_type": "code",
   "execution_count": 2,
   "metadata": {},
   "outputs": [],
   "source": [
    "sanbul = pd.read_csv('C:\\project22\\python\\month_place_sanbul.csv', encoding = 'euc-kr')\n",
    "sanbul.drop(['Unnamed: 0'], axis = 1, inplace=True)\n",
    "\n"
   ]
  },
  {
   "cell_type": "code",
   "execution_count": 3,
   "metadata": {},
   "outputs": [
    {
     "name": "stderr",
     "output_type": "stream",
     "text": [
      "C:\\Users\\user\\AppData\\Local\\Temp\\ipykernel_20252\\543348347.py:5: SettingWithCopyWarning: \n",
      "A value is trying to be set on a copy of a slice from a DataFrame.\n",
      "Try using .loc[row_indexer,col_indexer] = value instead\n",
      "\n",
      "See the caveats in the documentation: https://pandas.pydata.org/pandas-docs/stable/user_guide/indexing.html#returning-a-view-versus-a-copy\n",
      "  sanbul_lo['target'] = '1'\n"
     ]
    }
   ],
   "source": [
    "sanbul.loc[sanbul['발생장소_시도'] == '울산', '발생장소_시군구'] = '울산'\n",
    "\n",
    "sanbul_lo = sanbul[[\"tm\", '발생장소_시군구']]\n",
    "\n",
    "sanbul_lo['target'] = '1'"
   ]
  },
  {
   "cell_type": "code",
   "execution_count": 4,
   "metadata": {},
   "outputs": [
    {
     "data": {
      "text/html": [
       "<div>\n",
       "<style scoped>\n",
       "    .dataframe tbody tr th:only-of-type {\n",
       "        vertical-align: middle;\n",
       "    }\n",
       "\n",
       "    .dataframe tbody tr th {\n",
       "        vertical-align: top;\n",
       "    }\n",
       "\n",
       "    .dataframe thead th {\n",
       "        text-align: right;\n",
       "    }\n",
       "</style>\n",
       "<table border=\"1\" class=\"dataframe\">\n",
       "  <thead>\n",
       "    <tr style=\"text-align: right;\">\n",
       "      <th></th>\n",
       "      <th>tm</th>\n",
       "      <th>발생장소_시군구</th>\n",
       "      <th>target</th>\n",
       "    </tr>\n",
       "  </thead>\n",
       "  <tbody>\n",
       "    <tr>\n",
       "      <th>0</th>\n",
       "      <td>2020-04-24</td>\n",
       "      <td>안동</td>\n",
       "      <td>1</td>\n",
       "    </tr>\n",
       "    <tr>\n",
       "      <th>1</th>\n",
       "      <td>2019-04-04</td>\n",
       "      <td>고성</td>\n",
       "      <td>1</td>\n",
       "    </tr>\n",
       "    <tr>\n",
       "      <th>2</th>\n",
       "      <td>2019-04-04</td>\n",
       "      <td>강릉</td>\n",
       "      <td>1</td>\n",
       "    </tr>\n",
       "    <tr>\n",
       "      <th>3</th>\n",
       "      <td>2017-05-06</td>\n",
       "      <td>삼척</td>\n",
       "      <td>1</td>\n",
       "    </tr>\n",
       "    <tr>\n",
       "      <th>4</th>\n",
       "      <td>2020-03-19</td>\n",
       "      <td>울산</td>\n",
       "      <td>1</td>\n",
       "    </tr>\n",
       "    <tr>\n",
       "      <th>...</th>\n",
       "      <td>...</td>\n",
       "      <td>...</td>\n",
       "      <td>...</td>\n",
       "    </tr>\n",
       "    <tr>\n",
       "      <th>1624</th>\n",
       "      <td>2019-05-17</td>\n",
       "      <td>울산</td>\n",
       "      <td>1</td>\n",
       "    </tr>\n",
       "    <tr>\n",
       "      <th>1625</th>\n",
       "      <td>2016-11-29</td>\n",
       "      <td>강릉</td>\n",
       "      <td>1</td>\n",
       "    </tr>\n",
       "    <tr>\n",
       "      <th>1626</th>\n",
       "      <td>2020-12-06</td>\n",
       "      <td>울산</td>\n",
       "      <td>1</td>\n",
       "    </tr>\n",
       "    <tr>\n",
       "      <th>1627</th>\n",
       "      <td>2014-02-03</td>\n",
       "      <td>포항 북</td>\n",
       "      <td>1</td>\n",
       "    </tr>\n",
       "    <tr>\n",
       "      <th>1628</th>\n",
       "      <td>2013-05-14</td>\n",
       "      <td>영덕</td>\n",
       "      <td>1</td>\n",
       "    </tr>\n",
       "  </tbody>\n",
       "</table>\n",
       "<p>1629 rows × 3 columns</p>\n",
       "</div>"
      ],
      "text/plain": [
       "              tm 발생장소_시군구 target\n",
       "0     2020-04-24       안동      1\n",
       "1     2019-04-04       고성      1\n",
       "2     2019-04-04       강릉      1\n",
       "3     2017-05-06       삼척      1\n",
       "4     2020-03-19       울산      1\n",
       "...          ...      ...    ...\n",
       "1624  2019-05-17       울산      1\n",
       "1625  2016-11-29       강릉      1\n",
       "1626  2020-12-06       울산      1\n",
       "1627  2014-02-03     포항 북      1\n",
       "1628  2013-05-14       영덕      1\n",
       "\n",
       "[1629 rows x 3 columns]"
      ]
     },
     "execution_count": 4,
     "metadata": {},
     "output_type": "execute_result"
    }
   ],
   "source": [
    "sanbul_lo"
   ]
  },
  {
   "cell_type": "code",
   "execution_count": 5,
   "metadata": {},
   "outputs": [
    {
     "name": "stderr",
     "output_type": "stream",
     "text": [
      "C:\\Users\\user\\AppData\\Local\\Temp\\ipykernel_20252\\3810907375.py:1: DtypeWarning: Columns (62) have mixed types. Specify dtype option on import or set low_memory=False.\n",
      "  wether = pd.read_csv('C:\\project22\\python\\wether_dataframe.csv', encoding = 'euc-kr')\n"
     ]
    }
   ],
   "source": [
    "wether = pd.read_csv('C:\\project22\\python\\wether_dataframe.csv', encoding = 'euc-kr')\n",
    "wether.drop(['Unnamed: 0', 'index', 'stnId'], axis = 1, inplace=True)"
   ]
  },
  {
   "cell_type": "code",
   "execution_count": 6,
   "metadata": {},
   "outputs": [
    {
     "name": "stderr",
     "output_type": "stream",
     "text": [
      "C:\\Users\\user\\AppData\\Local\\Temp\\ipykernel_20252\\3091745030.py:2: SettingWithCopyWarning: \n",
      "A value is trying to be set on a copy of a slice from a DataFrame.\n",
      "Try using .loc[row_indexer,col_indexer] = value instead\n",
      "\n",
      "See the caveats in the documentation: https://pandas.pydata.org/pandas-docs/stable/user_guide/indexing.html#returning-a-view-versus-a-copy\n",
      "  sanbul_lo['day_place'] = sanbul_lo['tm'] + sanbul_lo['발생장소_시군구']\n"
     ]
    }
   ],
   "source": [
    "# 산불발생 날, 장소와 날씨 합치기 위한 기준열 만들어주기\n",
    "sanbul_lo['day_place'] = sanbul_lo['tm'] + sanbul_lo['발생장소_시군구']\n",
    "wether['day_place'] = wether['tm'] + wether['stnNm']\n",
    "\n",
    "# sanbul_wether = pd.concat([wether, sanbul_lo], axis=1)\n",
    "sanbul_weather = pd.merge(sanbul_lo, wether, how = 'outer', on = 'day_place')"
   ]
  },
  {
   "cell_type": "code",
   "execution_count": 7,
   "metadata": {},
   "outputs": [
    {
     "data": {
      "text/html": [
       "<div>\n",
       "<style scoped>\n",
       "    .dataframe tbody tr th:only-of-type {\n",
       "        vertical-align: middle;\n",
       "    }\n",
       "\n",
       "    .dataframe tbody tr th {\n",
       "        vertical-align: top;\n",
       "    }\n",
       "\n",
       "    .dataframe thead th {\n",
       "        text-align: right;\n",
       "    }\n",
       "</style>\n",
       "<table border=\"1\" class=\"dataframe\">\n",
       "  <thead>\n",
       "    <tr style=\"text-align: right;\">\n",
       "      <th></th>\n",
       "      <th>tm_x</th>\n",
       "      <th>발생장소_시군구</th>\n",
       "      <th>target</th>\n",
       "      <th>day_place</th>\n",
       "      <th>stnNm</th>\n",
       "      <th>tm_y</th>\n",
       "      <th>avgTa</th>\n",
       "      <th>minTa</th>\n",
       "      <th>minTaHrmt</th>\n",
       "      <th>maxTa</th>\n",
       "      <th>...</th>\n",
       "      <th>avgM05Te</th>\n",
       "      <th>avgM10Te</th>\n",
       "      <th>avgM15Te</th>\n",
       "      <th>avgM30Te</th>\n",
       "      <th>avgM50Te</th>\n",
       "      <th>sumLrgEv</th>\n",
       "      <th>sumSmlEv</th>\n",
       "      <th>n99Rn</th>\n",
       "      <th>iscs</th>\n",
       "      <th>sumFogDur</th>\n",
       "    </tr>\n",
       "  </thead>\n",
       "  <tbody>\n",
       "    <tr>\n",
       "      <th>0</th>\n",
       "      <td>2020-04-24</td>\n",
       "      <td>안동</td>\n",
       "      <td>1</td>\n",
       "      <td>2020-04-24안동</td>\n",
       "      <td>안동</td>\n",
       "      <td>2020-04-24</td>\n",
       "      <td>10.0</td>\n",
       "      <td>2.7</td>\n",
       "      <td>545.0</td>\n",
       "      <td>16.6</td>\n",
       "      <td>...</td>\n",
       "      <td>NaN</td>\n",
       "      <td>NaN</td>\n",
       "      <td>NaN</td>\n",
       "      <td>NaN</td>\n",
       "      <td>NaN</td>\n",
       "      <td>5.6</td>\n",
       "      <td>8.0</td>\n",
       "      <td>NaN</td>\n",
       "      <td>{연기}1640-{연기}{강도0}1800-{연기}{강도1}2100-2305.</td>\n",
       "      <td>NaN</td>\n",
       "    </tr>\n",
       "    <tr>\n",
       "      <th>1</th>\n",
       "      <td>2019-04-04</td>\n",
       "      <td>고성</td>\n",
       "      <td>1</td>\n",
       "      <td>2019-04-04고성</td>\n",
       "      <td>NaN</td>\n",
       "      <td>NaN</td>\n",
       "      <td>NaN</td>\n",
       "      <td>NaN</td>\n",
       "      <td>NaN</td>\n",
       "      <td>NaN</td>\n",
       "      <td>...</td>\n",
       "      <td>NaN</td>\n",
       "      <td>NaN</td>\n",
       "      <td>NaN</td>\n",
       "      <td>NaN</td>\n",
       "      <td>NaN</td>\n",
       "      <td>NaN</td>\n",
       "      <td>NaN</td>\n",
       "      <td>NaN</td>\n",
       "      <td>NaN</td>\n",
       "      <td>NaN</td>\n",
       "    </tr>\n",
       "    <tr>\n",
       "      <th>2</th>\n",
       "      <td>2019-04-04</td>\n",
       "      <td>강릉</td>\n",
       "      <td>1</td>\n",
       "      <td>2019-04-04강릉</td>\n",
       "      <td>강릉</td>\n",
       "      <td>2019-04-04</td>\n",
       "      <td>14.2</td>\n",
       "      <td>8.8</td>\n",
       "      <td>457.0</td>\n",
       "      <td>19.4</td>\n",
       "      <td>...</td>\n",
       "      <td>9.7</td>\n",
       "      <td>9.7</td>\n",
       "      <td>10.2</td>\n",
       "      <td>12.0</td>\n",
       "      <td>14.6</td>\n",
       "      <td>9.2</td>\n",
       "      <td>13.1</td>\n",
       "      <td>NaN</td>\n",
       "      <td>NaN</td>\n",
       "      <td>NaN</td>\n",
       "    </tr>\n",
       "    <tr>\n",
       "      <th>3</th>\n",
       "      <td>2017-05-06</td>\n",
       "      <td>삼척</td>\n",
       "      <td>1</td>\n",
       "      <td>2017-05-06삼척</td>\n",
       "      <td>NaN</td>\n",
       "      <td>NaN</td>\n",
       "      <td>NaN</td>\n",
       "      <td>NaN</td>\n",
       "      <td>NaN</td>\n",
       "      <td>NaN</td>\n",
       "      <td>...</td>\n",
       "      <td>NaN</td>\n",
       "      <td>NaN</td>\n",
       "      <td>NaN</td>\n",
       "      <td>NaN</td>\n",
       "      <td>NaN</td>\n",
       "      <td>NaN</td>\n",
       "      <td>NaN</td>\n",
       "      <td>NaN</td>\n",
       "      <td>NaN</td>\n",
       "      <td>NaN</td>\n",
       "    </tr>\n",
       "    <tr>\n",
       "      <th>4</th>\n",
       "      <td>2020-03-19</td>\n",
       "      <td>울산</td>\n",
       "      <td>1</td>\n",
       "      <td>2020-03-19울산</td>\n",
       "      <td>울산</td>\n",
       "      <td>2020-03-19</td>\n",
       "      <td>13.4</td>\n",
       "      <td>6.8</td>\n",
       "      <td>2351.0</td>\n",
       "      <td>20.7</td>\n",
       "      <td>...</td>\n",
       "      <td>NaN</td>\n",
       "      <td>NaN</td>\n",
       "      <td>NaN</td>\n",
       "      <td>NaN</td>\n",
       "      <td>NaN</td>\n",
       "      <td>NaN</td>\n",
       "      <td>NaN</td>\n",
       "      <td>NaN</td>\n",
       "      <td>{연기}1630-{연기}{강도0}1800-{연기}{강도0}2100-{연기}{강도0}...</td>\n",
       "      <td>NaN</td>\n",
       "    </tr>\n",
       "  </tbody>\n",
       "</table>\n",
       "<p>5 rows × 65 columns</p>\n",
       "</div>"
      ],
      "text/plain": [
       "         tm_x 발생장소_시군구 target     day_place stnNm        tm_y  avgTa  minTa  \\\n",
       "0  2020-04-24       안동      1  2020-04-24안동    안동  2020-04-24   10.0    2.7   \n",
       "1  2019-04-04       고성      1  2019-04-04고성   NaN         NaN    NaN    NaN   \n",
       "2  2019-04-04       강릉      1  2019-04-04강릉    강릉  2019-04-04   14.2    8.8   \n",
       "3  2017-05-06       삼척      1  2017-05-06삼척   NaN         NaN    NaN    NaN   \n",
       "4  2020-03-19       울산      1  2020-03-19울산    울산  2020-03-19   13.4    6.8   \n",
       "\n",
       "   minTaHrmt  maxTa  ...  avgM05Te  avgM10Te  avgM15Te  avgM30Te  avgM50Te  \\\n",
       "0      545.0   16.6  ...       NaN       NaN       NaN       NaN       NaN   \n",
       "1        NaN    NaN  ...       NaN       NaN       NaN       NaN       NaN   \n",
       "2      457.0   19.4  ...       9.7       9.7      10.2      12.0      14.6   \n",
       "3        NaN    NaN  ...       NaN       NaN       NaN       NaN       NaN   \n",
       "4     2351.0   20.7  ...       NaN       NaN       NaN       NaN       NaN   \n",
       "\n",
       "   sumLrgEv  sumSmlEv  n99Rn  \\\n",
       "0       5.6       8.0    NaN   \n",
       "1       NaN       NaN    NaN   \n",
       "2       9.2      13.1    NaN   \n",
       "3       NaN       NaN    NaN   \n",
       "4       NaN       NaN    NaN   \n",
       "\n",
       "                                                iscs  sumFogDur  \n",
       "0         {연기}1640-{연기}{강도0}1800-{연기}{강도1}2100-2305.        NaN  \n",
       "1                                                NaN        NaN  \n",
       "2                                                NaN        NaN  \n",
       "3                                                NaN        NaN  \n",
       "4  {연기}1630-{연기}{강도0}1800-{연기}{강도0}2100-{연기}{강도0}...        NaN  \n",
       "\n",
       "[5 rows x 65 columns]"
      ]
     },
     "execution_count": 7,
     "metadata": {},
     "output_type": "execute_result"
    }
   ],
   "source": [
    "sanbul_weather.head()"
   ]
  },
  {
   "cell_type": "code",
   "execution_count": 8,
   "metadata": {},
   "outputs": [
    {
     "data": {
      "text/plain": [
       "'2020'"
      ]
     },
     "execution_count": 8,
     "metadata": {},
     "output_type": "execute_result"
    }
   ],
   "source": [
    "(sanbul_weather.loc[0,'day_place'])[:4]"
   ]
  },
  {
   "cell_type": "code",
   "execution_count": 9,
   "metadata": {},
   "outputs": [],
   "source": [
    "sanbul_weather['year'] = (sanbul_weather['day_place'].str[:4])"
   ]
  },
  {
   "cell_type": "code",
   "execution_count": 10,
   "metadata": {},
   "outputs": [],
   "source": [
    "sanbul_weather['year'] = sanbul_weather['year'].astype(int)\n",
    "\n",
    "condition = (sanbul_weather['year'] > 2014)\n",
    "sanbul_weather_2015 = sanbul_weather[condition]\n",
    "\n"
   ]
  },
  {
   "cell_type": "code",
   "execution_count": 11,
   "metadata": {},
   "outputs": [],
   "source": [
    "sanbul_weather_2015.loc[sanbul_weather_2015['target'] != sanbul_weather_2015['target'], 'target'] = '0'\n",
    "# sanbul_weather_2015"
   ]
  },
  {
   "cell_type": "code",
   "execution_count": 12,
   "metadata": {},
   "outputs": [],
   "source": [
    "sanbul_weather_2015_lo = sanbul_weather_2015[['target', 'minTa', 'maxInsWs', 'maxInsWsWd', 'maxInsWsWd', 'maxWs', 'avgWs', 'avgTd', 'minRhm', 'avgRhm', 'avgPv', 'minTg']]"
   ]
  },
  {
   "cell_type": "code",
   "execution_count": 13,
   "metadata": {},
   "outputs": [
    {
     "name": "stderr",
     "output_type": "stream",
     "text": [
      "C:\\Users\\user\\AppData\\Local\\Temp\\ipykernel_20252\\54990802.py:2: SettingWithCopyWarning: \n",
      "A value is trying to be set on a copy of a slice from a DataFrame\n",
      "\n",
      "See the caveats in the documentation: https://pandas.pydata.org/pandas-docs/stable/user_guide/indexing.html#returning-a-view-versus-a-copy\n",
      "  sanbul_weather_2015_lo.dropna(inplace = True)\n"
     ]
    }
   ],
   "source": [
    "# 결측치 제거\n",
    "sanbul_weather_2015_lo.dropna(inplace = True)"
   ]
  },
  {
   "cell_type": "code",
   "execution_count": 14,
   "metadata": {},
   "outputs": [
    {
     "name": "stdout",
     "output_type": "stream",
     "text": [
      "<class 'pandas.core.frame.DataFrame'>\n",
      "Int64Index: 69819 entries, 0 to 101353\n",
      "Data columns (total 12 columns):\n",
      " #   Column      Non-Null Count  Dtype\n",
      "---  ------      --------------  -----\n",
      " 0   target      69819 non-null  int32\n",
      " 1   minTa       69819 non-null  int32\n",
      " 2   maxInsWs    69819 non-null  int32\n",
      " 3   maxInsWsWd  69819 non-null  int32\n",
      " 4   maxInsWsWd  69819 non-null  int32\n",
      " 5   maxWs       69819 non-null  int32\n",
      " 6   avgWs       69819 non-null  int32\n",
      " 7   avgTd       69819 non-null  int32\n",
      " 8   minRhm      69819 non-null  int32\n",
      " 9   avgRhm      69819 non-null  int32\n",
      " 10  avgPv       69819 non-null  int32\n",
      " 11  minTg       69819 non-null  int32\n",
      "dtypes: int32(12)\n",
      "memory usage: 3.7 MB\n"
     ]
    }
   ],
   "source": [
    "sanbul_weather_2015_lo.isnull().sum()\n",
    "sanbul_weather_2015_lo = sanbul_weather_2015_lo.astype(\"int\")\n",
    "sanbul_weather_2015_lo.info()"
   ]
  },
  {
   "cell_type": "code",
   "execution_count": 15,
   "metadata": {},
   "outputs": [
    {
     "name": "stderr",
     "output_type": "stream",
     "text": [
      "c:\\Users\\user\\AppData\\Local\\Programs\\Python\\Python38\\lib\\site-packages\\sklearn\\utils\\validation.py:1111: DataConversionWarning: A column-vector y was passed when a 1d array was expected. Please change the shape of y to (n_samples, ), for example using ravel().\n",
      "  y = column_or_1d(y, warn=True)\n"
     ]
    },
    {
     "name": "stdout",
     "output_type": "stream",
     "text": [
      "0.9889714157101058\n"
     ]
    }
   ],
   "source": [
    "# 로지스틱\n",
    "from sklearn.model_selection import train_test_split\n",
    "df = sanbul_weather_2015_lo\n",
    "\n",
    "features = df[['minTa', 'maxInsWs', 'maxInsWsWd', 'maxInsWsWd', 'maxWs', 'avgWs', 'avgTd', 'minRhm', 'avgRhm', 'avgPv', 'minTg']]\n",
    "y = df[['target']]\n",
    "\n",
    "\n",
    "# 테스트 데이터 셋의 비율 20%\n",
    "train_features, test_features, train_labels, test_labels = train_test_split(features, y, test_size = 0.3)\n",
    "\n",
    "\n",
    "# 데이터 정규화\n",
    "from sklearn.preprocessing import StandardScaler\n",
    "sc = StandardScaler()\n",
    "\n",
    "train_features = sc.fit_transform(train_features)\n",
    "test_features = sc.fit_transform(test_features)\n",
    "\n",
    "# 로지스틱 회귀모델 학습\n",
    "#  penalty : 설정가능 값 l1, l2, elasticnet, none, 기본값 l2\n",
    "#  C penalty에 대한 계수 설정, 기본 값은 1.0, 높을 수록 복잡한 모델에 대한 규제 강화\n",
    "# solver : 설정 가능한 값 : newton-cg, lbfgs liblinear, sag saga, 기본값 lbfgs\n",
    "# random_state : 시행 시 마다 결과를 고정하고 싶다면 임의의 정수로 설정\n",
    "model = LogisticRegression(penalty = 'l2', random_state= 123)\n",
    "model.fit(train_features, train_labels)\n",
    "\n",
    "print(model.score(train_features, train_labels))\n"
   ]
  },
  {
   "cell_type": "code",
   "execution_count": 16,
   "metadata": {},
   "outputs": [],
   "source": [
    "# from sklearn.metrics import classification_report\n",
    "# Y_pred = LogisticRegression.predict(test_features)\n",
    "\n",
    "# classification_report(Y_pred, test_labels)"
   ]
  },
  {
   "cell_type": "code",
   "execution_count": 17,
   "metadata": {},
   "outputs": [
    {
     "data": {
      "text/plain": [
       "0.9898309939845317"
      ]
     },
     "execution_count": 17,
     "metadata": {},
     "output_type": "execute_result"
    }
   ],
   "source": [
    "# 회귀모델 정확도\n",
    "from sklearn.metrics import accuracy_score\n",
    "Y_pred = model.predict(test_features)\n",
    "\n",
    "accuracy_score(Y_pred, test_labels)"
   ]
  }
 ],
 "metadata": {
  "kernelspec": {
   "display_name": "Python 3.8.10 64-bit",
   "language": "python",
   "name": "python3"
  },
  "language_info": {
   "codemirror_mode": {
    "name": "ipython",
    "version": 3
   },
   "file_extension": ".py",
   "mimetype": "text/x-python",
   "name": "python",
   "nbconvert_exporter": "python",
   "pygments_lexer": "ipython3",
   "version": "3.8.10"
  },
  "orig_nbformat": 4,
  "vscode": {
   "interpreter": {
    "hash": "6a926afa313b26ae1264fdcf81c726a97e69f6ba2ba780f6aa901948710f8d6e"
   }
  }
 },
 "nbformat": 4,
 "nbformat_minor": 2
}
