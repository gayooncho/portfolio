{
 "cells": [
  {
   "cell_type": "code",
   "execution_count": 1,
   "metadata": {},
   "outputs": [],
   "source": [
    "import pandas as pd\n",
    "import numpy as np\n",
    "\n",
    "# 히트맵 그려보기\n",
    "# %amtplotlib inline\n",
    "import matplotlib.pyplot as plt\n",
    "import seaborn as sns"
   ]
  },
  {
   "cell_type": "code",
   "execution_count": 2,
   "metadata": {},
   "outputs": [],
   "source": [
    "weather = pd.read_csv('C:/project22/raw_fire_weather_7yr.csv')\n",
    "\n",
    "# condition = (weather.발생장소_시도 == '강원')\n",
    "# weather[condition]"
   ]
  },
  {
   "cell_type": "code",
   "execution_count": 3,
   "metadata": {},
   "outputs": [],
   "source": [
    "sanbul = weather[weather['산불발생여부'] == 1]"
   ]
  },
  {
   "cell_type": "code",
   "execution_count": 4,
   "metadata": {},
   "outputs": [
    {
     "data": {
      "text/html": [
       "<div>\n",
       "<style scoped>\n",
       "    .dataframe tbody tr th:only-of-type {\n",
       "        vertical-align: middle;\n",
       "    }\n",
       "\n",
       "    .dataframe tbody tr th {\n",
       "        vertical-align: top;\n",
       "    }\n",
       "\n",
       "    .dataframe thead th {\n",
       "        text-align: right;\n",
       "    }\n",
       "</style>\n",
       "<table border=\"1\" class=\"dataframe\">\n",
       "  <thead>\n",
       "    <tr style=\"text-align: right;\">\n",
       "      <th></th>\n",
       "      <th>산불발생여부</th>\n",
       "      <th>발생장소_시도</th>\n",
       "      <th>관측일</th>\n",
       "      <th>평균기온</th>\n",
       "      <th>일최고기온</th>\n",
       "      <th>일최고기온시각</th>\n",
       "      <th>일최저기온</th>\n",
       "      <th>일최저기온시각</th>\n",
       "      <th>일평균현지기압</th>\n",
       "      <th>일최고현지기압</th>\n",
       "      <th>...</th>\n",
       "      <th>진화종료시간_일</th>\n",
       "      <th>진화종료시간_시간</th>\n",
       "      <th>발생장소_관서</th>\n",
       "      <th>발생장소_시군구</th>\n",
       "      <th>발생장소_읍면</th>\n",
       "      <th>발생장소_동리</th>\n",
       "      <th>발생원인_구분</th>\n",
       "      <th>발생원인_세부원인</th>\n",
       "      <th>발생원인_기타</th>\n",
       "      <th>피해면적_합계</th>\n",
       "    </tr>\n",
       "  </thead>\n",
       "  <tbody>\n",
       "    <tr>\n",
       "      <th>7</th>\n",
       "      <td>1</td>\n",
       "      <td>경북</td>\n",
       "      <td>20140104</td>\n",
       "      <td>1.15</td>\n",
       "      <td>7.679</td>\n",
       "      <td>1229.0</td>\n",
       "      <td>-4.086</td>\n",
       "      <td>995.5</td>\n",
       "      <td>1003.321</td>\n",
       "      <td>1005.2</td>\n",
       "      <td>...</td>\n",
       "      <td>4.0</td>\n",
       "      <td>16:10</td>\n",
       "      <td>경북</td>\n",
       "      <td>성주</td>\n",
       "      <td>초전</td>\n",
       "      <td>용봉</td>\n",
       "      <td>입</td>\n",
       "      <td>입산자 실화 추정</td>\n",
       "      <td>NaN</td>\n",
       "      <td>0.2</td>\n",
       "    </tr>\n",
       "  </tbody>\n",
       "</table>\n",
       "<p>1 rows × 55 columns</p>\n",
       "</div>"
      ],
      "text/plain": [
       "   산불발생여부 발생장소_시도       관측일  평균기온  일최고기온  일최고기온시각  일최저기온  일최저기온시각   일평균현지기압  \\\n",
       "7       1      경북  20140104  1.15  7.679   1229.0 -4.086    995.5  1003.321   \n",
       "\n",
       "   일최고현지기압  ...  진화종료시간_일  진화종료시간_시간  발생장소_관서  발생장소_시군구  발생장소_읍면  발생장소_동리  \\\n",
       "7   1005.2  ...       4.0      16:10       경북        성주       초전       용봉   \n",
       "\n",
       "   발생원인_구분  발생원인_세부원인  발생원인_기타  피해면적_합계  \n",
       "7        입  입산자 실화 추정      NaN      0.2  \n",
       "\n",
       "[1 rows x 55 columns]"
      ]
     },
     "execution_count": 4,
     "metadata": {},
     "output_type": "execute_result"
    }
   ],
   "source": [
    "sanbul.head(1)"
   ]
  },
  {
   "cell_type": "code",
   "execution_count": 5,
   "metadata": {},
   "outputs": [],
   "source": [
    "# sanbul['관측일'].str[4:6]"
   ]
  },
  {
   "cell_type": "code",
   "execution_count": 6,
   "metadata": {},
   "outputs": [],
   "source": [
    "import matplotlib as mpl\n",
    "# 현재 OS 내에 설치된 폰트를 확인합니다.\n",
    "set(sorted([f.name for f in mpl.font_manager.fontManager.ttflist]))\n",
    "\n",
    "mpl.rc('font', family='Batang')"
   ]
  },
  {
   "cell_type": "code",
   "execution_count": 7,
   "metadata": {},
   "outputs": [],
   "source": [
    "# conda install -c conda-forge fbprophet"
   ]
  },
  {
   "cell_type": "code",
   "execution_count": 8,
   "metadata": {},
   "outputs": [
    {
     "data": {
      "text/plain": [
       "<AxesSubplot:>"
      ]
     },
     "execution_count": 8,
     "metadata": {},
     "output_type": "execute_result"
    },
    {
     "data": {
      "image/png": "[encoded data removed]",
      "text/plain": [
       "<Figure size 432x288 with 1 Axes>"
      ]
     },
     "metadata": {
      "needs_background": "light"
     },
     "output_type": "display_data"
    }
   ],
   "source": [
    "\n",
    "sanbul['피해면적_합계'].hist(bins=100)\n",
    "sanbul['피해면적_합계'].hist(bins=100)\n",
    "sanbul.boxplot(column = ['피해면적_합계'])"
   ]
  },
  {
   "cell_type": "code",
   "execution_count": 9,
   "metadata": {},
   "outputs": [],
   "source": [
    "# 피처 각각에 대한 scaling을 수행하는 함수 정의\n",
    "\n",
    "def standard_scaling(df, scale_columns):\n",
    "    for col in scale_columns:\n",
    "        series_mean = df[col].mean()\n",
    "        series_std = df[col].std()\n",
    "        df[col] = df[col].apply(lambda x: (x-series_mean)/series_std)\n",
    "    return df"
   ]
  },
  {
   "cell_type": "code",
   "execution_count": 10,
   "metadata": {},
   "outputs": [
    {
     "data": {
      "text/plain": [
       "Index(['산불발생여부', '발생장소_시도', '관측일', '평균기온', '일최고기온', '일최고기온시각', '일최저기온',\n",
       "       '일최저기온시각', '일평균현지기압', '일최고현지기압', '일최고현지기압시각', '일최저현지기압', '일최저현지기압시각',\n",
       "       '일평균해면기압', '일최고해면기압', '일최고해면기압시각', '일최저해면기압', '일최저해면기압시각', '일평균상대습도',\n",
       "       '일최소상대습도', '일최소상대습도시각', '일평균수증기압', '일최고수증기압', '일최고수증기압시각', '일최저수증기압',\n",
       "       '일최저수증기압시각', '일평균풍속', '일최대풍속', '일최대풍속시각', '일최대풍속풍향', '일최대순간풍속',\n",
       "       '일최대순간풍속시각', '일최대순간풍속풍향', '풍정합', '일평균전운량', '일평균중하층운량', '최다운량', '최다운량시각',\n",
       "       '일합계일조시간', '일합계일사량', '일평균지면온도', '발생일시_시간', '발생일시_요일', '진화종료시간_년',\n",
       "       '진화종료시간_월', '진화종료시간_일', '진화종료시간_시간', '발생장소_관서', '발생장소_시군구', '발생장소_읍면',\n",
       "       '발생장소_동리', '발생원인_구분', '발생원인_세부원인', '발생원인_기타', '피해면적_합계'],\n",
       "      dtype='object')"
      ]
     },
     "execution_count": 10,
     "metadata": {},
     "output_type": "execute_result"
    }
   ],
   "source": [
    "sanbul.columns"
   ]
  },
  {
   "cell_type": "code",
   "execution_count": 11,
   "metadata": {},
   "outputs": [
    {
     "name": "stderr",
     "output_type": "stream",
     "text": [
      "C:\\Users\\user\\AppData\\Local\\Temp\\ipykernel_12056\\3834427884.py:7: SettingWithCopyWarning: \n",
      "A value is trying to be set on a copy of a slice from a DataFrame.\n",
      "Try using .loc[row_indexer,col_indexer] = value instead\n",
      "\n",
      "See the caveats in the documentation: https://pandas.pydata.org/pandas-docs/stable/user_guide/indexing.html#returning-a-view-versus-a-copy\n",
      "  df[col] = df[col].apply(lambda x: (x-series_mean)/series_std)\n"
     ]
    }
   ],
   "source": [
    "scale_columns = ['평균기온', '일최고기온', '일최고기온시각', '일최저기온',\n",
    "       '일최저기온시각', '일평균현지기압', '일최고현지기압', '일최고현지기압시각', '일최저현지기압', '일최저현지기압시각',\n",
    "       '일평균해면기압', '일최고해면기압', '일최고해면기압시각', '일최저해면기압', '일최저해면기압시각', '일평균상대습도',\n",
    "       '일최소상대습도', '일최소상대습도시각', '일평균수증기압', '일최고수증기압', '일최고수증기압시각', '일최저수증기압',\n",
    "       '일최저수증기압시각', '일평균풍속', '일최대풍속', '일최대풍속시각', '일최대풍속풍향', '일최대순간풍속',\n",
    "       '일최대순간풍속시각', '일최대순간풍속풍향', '풍정합', '일평균전운량', '일평균중하층운량', '최다운량', '최다운량시각',\n",
    "       '일합계일조시간', '일합계일사량', '일평균지면온도', '피해면적_합계']\n",
    "sanbul_df = standard_scaling(sanbul, scale_columns)"
   ]
  },
  {
   "cell_type": "code",
   "execution_count": 15,
   "metadata": {},
   "outputs": [],
   "source": [
    "# from fbprophet import Prophet\n",
    "\n",
    "sanbul_df=sanbul_df.rename(columns={'피해면적_합계' : 'y'}, inplace = True)\n",
    "# sanbul_df"
   ]
  },
  {
   "cell_type": "code",
   "execution_count": 13,
   "metadata": {},
   "outputs": [
    {
     "data": {
      "text/plain": [
       "Index(['산불발생여부', '발생장소_시도', '관측일', '평균기온', '일최고기온', '일최고기온시각', '일최저기온',\n",
       "       '일최저기온시각', '일평균현지기압', '일최고현지기압', '일최고현지기압시각', '일최저현지기압', '일최저현지기압시각',\n",
       "       '일평균해면기압', '일최고해면기압', '일최고해면기압시각', '일최저해면기압', '일최저해면기압시각', '일평균상대습도',\n",
       "       '일최소상대습도', '일최소상대습도시각', '일평균수증기압', '일최고수증기압', '일최고수증기압시각', '일최저수증기압',\n",
       "       '일최저수증기압시각', '일평균풍속', '일최대풍속', '일최대풍속시각', '일최대풍속풍향', '일최대순간풍속',\n",
       "       '일최대순간풍속시각', '일최대순간풍속풍향', '풍정합', '일평균전운량', '일평균중하층운량', '최다운량', '최다운량시각',\n",
       "       '일합계일조시간', '일합계일사량', '일평균지면온도', '발생일시_시간', '발생일시_요일', '진화종료시간_년',\n",
       "       '진화종료시간_월', '진화종료시간_일', '진화종료시간_시간', '발생장소_관서', '발생장소_시군구', '발생장소_읍면',\n",
       "       '발생장소_동리', '발생원인_구분', '발생원인_세부원인', '발생원인_기타', '피해면적_합계'],\n",
       "      dtype='object')"
      ]
     },
     "execution_count": 13,
     "metadata": {},
     "output_type": "execute_result"
    }
   ],
   "source": [
    "sanbul.columns"
   ]
  },
  {
   "cell_type": "code",
   "execution_count": 17,
   "metadata": {},
   "outputs": [],
   "source": [
    "from sklearn import linear_model\n",
    "from sklearn.model_selection import train_test_split\n",
    "from sklearn.metrics import mean_squared_error\n",
    "from math import sqrt\n",
    "\n",
    "# 학습 데이터와 테스트 데이터로 분리합니다.\n",
    "#'선수명', 'y'를 제외한 칼럼들은 X\n",
    "X = sanbul[sanbul.columns.difference(['산불발생여부', '발생장소_시도', '발생일시_시간', '발생일시_요일', '진화종료시간_년',\n",
    "       '진화종료시간_월', '진화종료시간_일', '진화종료시간_시간', '발생장소_관서', '발생장소_시군구', '발생장소_읍면',\n",
    "       '발생장소_동리', '발생원인_구분', '발생원인_세부원인', '발생원인_기타','관측일', '피해면적_합계'])]\n",
    "\n",
    "y = sanbul['피해면적_합계']\n",
    "\n",
    "#검증(test)는 20%로 한다. = test_size=0.2\n",
    "X_train, X_test, y_train, y_test = train_test_split(X, y, test_size=0.2, random_state=19)"
   ]
  },
  {
   "cell_type": "code",
   "execution_count": 18,
   "metadata": {},
   "outputs": [
    {
     "name": "stdout",
     "output_type": "stream",
     "text": [
      "[ 3.69915041e-01 -3.32323373e-02  2.37706091e-01  2.86471232e-02\n",
      "  2.69899414e-01  9.64205983e-02  2.48120071e-01 -1.24257410e-01\n",
      "  2.86580043e-01  1.27933859e-01 -5.10563233e-02 -1.30760012e-01\n",
      " -9.91419204e-02 -6.51443320e-02  8.23699380e-02  3.87332090e-02\n",
      "  6.87915832e-01 -3.56593451e-02  4.21518427e-01 -5.28703416e-02\n",
      "  2.64761208e-01  3.41063643e-02  1.46486608e-03 -1.40768489e-02\n",
      " -1.63037529e-01 -7.34363343e-01 -1.11967440e-01 -7.63959238e-03\n",
      " -3.35607352e-01 -8.67129179e+00 -5.04287569e-01 -2.70255934e-01\n",
      "  6.94124046e-02 -2.34413790e-02  3.30813749e-02  9.07638060e-03\n",
      " -6.34048497e-01  8.65139243e+00]\n",
      "-0.01076503974962353\n"
     ]
    }
   ],
   "source": [
    "# 회귀 분석 객체 생성(선형 회귀 모델 생성)\n",
    "lr = linear_model.LinearRegression()\n",
    "\n",
    "#fit()는 기울기와 절편을 전달하기 위함.\n",
    "model = lr.fit(X_train, y_train)\n",
    "\n",
    "# 학습된 계수를 출력합니다. -> 기울기\n",
    "print(lr.coef_)\n",
    "\n",
    "# 상수항을 출력합니다. -> wjfvus\n",
    "print(lr.intercept_)\n",
    "\n",
    "# 가장 영향도가 높은 계수"
   ]
  },
  {
   "cell_type": "code",
   "execution_count": 31,
   "metadata": {},
   "outputs": [
    {
     "data": {
      "text/plain": [
       "array([[-1.0607474 , -1.05031261, -0.6169541 , ..., -0.0696946 ,\n",
       "        -1.08867918, -0.16342706],\n",
       "       [-1.87472421, -5.14837039, -1.1948162 , ..., -1.04012171,\n",
       "        -1.73258342,  2.47587635],\n",
       "       [-1.89570972,  0.56261965, -1.26950704, ..., -1.18568578,\n",
       "        -1.98288723, -0.99686838],\n",
       "       ...,\n",
       "       [-0.83708318, -0.44905316, -0.54657567, ..., -0.82524198,\n",
       "        -0.7613767 ,  1.03769998],\n",
       "       [-0.83708318, -0.44905316, -0.54657567, ..., -0.82524198,\n",
       "        -0.7613767 ,  1.03769998],\n",
       "       [-1.65106   ,  0.0409986 , -1.14668978, ...,  0.57601207,\n",
       "        -1.45506255,  0.306152  ]])"
      ]
     },
     "execution_count": 31,
     "metadata": {},
     "output_type": "execute_result"
    }
   ],
   "source": [
    "X.values"
   ]
  },
  {
   "cell_type": "code",
   "execution_count": 32,
   "metadata": {},
   "outputs": [
    {
     "name": "stderr",
     "output_type": "stream",
     "text": [
      "c:\\bigdata\\Anaconda\\lib\\site-packages\\sklearn\\base.py:450: UserWarning: X does not have valid feature names, but LinearRegression was fitted with feature names\n",
      "  warnings.warn(\n"
     ]
    }
   ],
   "source": [
    "# x_predicted = -0.01076503974962353\n",
    "y_predicted=model.predict(X.values)\n",
    "# x_predicted????"
   ]
  },
  {
   "cell_type": "code",
   "execution_count": 22,
   "metadata": {},
   "outputs": [],
   "source": [
    "x_new=X_test\n",
    "y_new=model.predict(x_new)"
   ]
  },
  {
   "cell_type": "code",
   "execution_count": 23,
   "metadata": {},
   "outputs": [
    {
     "data": {
      "text/html": [
       "<div>\n",
       "<style scoped>\n",
       "    .dataframe tbody tr th:only-of-type {\n",
       "        vertical-align: middle;\n",
       "    }\n",
       "\n",
       "    .dataframe tbody tr th {\n",
       "        vertical-align: top;\n",
       "    }\n",
       "\n",
       "    .dataframe thead th {\n",
       "        text-align: right;\n",
       "    }\n",
       "</style>\n",
       "<table border=\"1\" class=\"dataframe\">\n",
       "  <thead>\n",
       "    <tr style=\"text-align: right;\">\n",
       "      <th></th>\n",
       "      <th>y_test</th>\n",
       "      <th>y_predicted</th>\n",
       "    </tr>\n",
       "  </thead>\n",
       "  <tbody>\n",
       "    <tr>\n",
       "      <th>3394</th>\n",
       "      <td>-0.080312</td>\n",
       "      <td>0.228866</td>\n",
       "    </tr>\n",
       "    <tr>\n",
       "      <th>4898</th>\n",
       "      <td>-0.067819</td>\n",
       "      <td>-0.091227</td>\n",
       "    </tr>\n",
       "    <tr>\n",
       "      <th>4178</th>\n",
       "      <td>-0.079429</td>\n",
       "      <td>0.420371</td>\n",
       "    </tr>\n",
       "    <tr>\n",
       "      <th>5068</th>\n",
       "      <td>-0.080312</td>\n",
       "      <td>-0.056408</td>\n",
       "    </tr>\n",
       "    <tr>\n",
       "      <th>924</th>\n",
       "      <td>-0.067819</td>\n",
       "      <td>0.163451</td>\n",
       "    </tr>\n",
       "    <tr>\n",
       "      <th>...</th>\n",
       "      <td>...</td>\n",
       "      <td>...</td>\n",
       "    </tr>\n",
       "    <tr>\n",
       "      <th>4999</th>\n",
       "      <td>1.474275</td>\n",
       "      <td>0.484019</td>\n",
       "    </tr>\n",
       "    <tr>\n",
       "      <th>4945</th>\n",
       "      <td>-0.076653</td>\n",
       "      <td>-0.205842</td>\n",
       "    </tr>\n",
       "    <tr>\n",
       "      <th>4717</th>\n",
       "      <td>-0.071605</td>\n",
       "      <td>0.165194</td>\n",
       "    </tr>\n",
       "    <tr>\n",
       "      <th>3404</th>\n",
       "      <td>-0.080186</td>\n",
       "      <td>0.056808</td>\n",
       "    </tr>\n",
       "    <tr>\n",
       "      <th>3230</th>\n",
       "      <td>-0.080312</td>\n",
       "      <td>-0.124840</td>\n",
       "    </tr>\n",
       "  </tbody>\n",
       "</table>\n",
       "<p>253 rows × 2 columns</p>\n",
       "</div>"
      ],
      "text/plain": [
       "        y_test  y_predicted\n",
       "3394 -0.080312     0.228866\n",
       "4898 -0.067819    -0.091227\n",
       "4178 -0.079429     0.420371\n",
       "5068 -0.080312    -0.056408\n",
       "924  -0.067819     0.163451\n",
       "...        ...          ...\n",
       "4999  1.474275     0.484019\n",
       "4945 -0.076653    -0.205842\n",
       "4717 -0.071605     0.165194\n",
       "3404 -0.080186     0.056808\n",
       "3230 -0.080312    -0.124840\n",
       "\n",
       "[253 rows x 2 columns]"
      ]
     },
     "execution_count": 23,
     "metadata": {},
     "output_type": "execute_result"
    }
   ],
   "source": [
    "y_compare={'y_test':y_test, 'y_predicted':y_new}\n",
    "pd.DataFrame(y_compare)"
   ]
  },
  {
   "cell_type": "code",
   "execution_count": 42,
   "metadata": {},
   "outputs": [],
   "source": [
    "# mpl.rc('font', family='Batang')\n",
    "# # plt.plot(y_compare, kind=\"bar\")\n",
    "# # plt.plot(y_compare)\n",
    "\n",
    "# # plt.bar(range(len(y_compare)), list(y_compare.values()), align='center')\n",
    "# # plt.xticks(range(len(y_compare)), list(y_compare.keys()))\n",
    "# plt.bar(*zip(*y_compare.items()))\n",
    "# plt.show()"
   ]
  },
  {
   "cell_type": "code",
   "execution_count": 43,
   "metadata": {},
   "outputs": [
    {
     "name": "stdout",
     "output_type": "stream",
     "text": [
      "0.10177115196659581\n",
      "0.0008376226747789373\n"
     ]
    }
   ],
   "source": [
    "print(model.score(X_train, y_train)) # train R2 score를 출력합니다.\n",
    "print(model.score(X_test, y_test)) # test R2 score를 출력합니다.\n",
    "\n",
    "# 1에 가까울수록 좋음"
   ]
  },
  {
   "cell_type": "code",
   "execution_count": 44,
   "metadata": {},
   "outputs": [
    {
     "name": "stdout",
     "output_type": "stream",
     "text": [
      "0.7659001071592433\n",
      "1.5427618009511994\n"
     ]
    }
   ],
   "source": [
    "y_predictions = lr.predict(X_train)\n",
    "print(sqrt(mean_squared_error(y_train, y_predictions))) # train RMSE score를 출력합니다.\n",
    "y_predictions = lr.predict(X_test)\n",
    "print(sqrt(mean_squared_error(y_test, y_predictions))) # test RMSE score를 출력합니다."
   ]
  },
  {
   "cell_type": "code",
   "execution_count": null,
   "metadata": {},
   "outputs": [],
   "source": [
    "sanbul_df"
   ]
  },
  {
   "cell_type": "code",
   "execution_count": null,
   "metadata": {},
   "outputs": [],
   "source": [
    "scale_columns = ['평균기온', '일최고기온', '일최고기온시각', '일최저기온',\n",
    "       '일최저기온시각', '일평균현지기압', '일최고현지기압', '일최고현지기압시각', '일최저현지기압', '일최저현지기압시각',\n",
    "       '일평균해면기압', '일최고해면기압', '일최고해면기압시각', '일최저해면기압', '일최저해면기압시각', '일평균상대습도',\n",
    "       '일최소상대습도', '일최소상대습도시각', '일평균수증기압', '일최고수증기압', '일최고수증기압시각', '일최저수증기압',\n",
    "       '일최저수증기압시각', '일평균풍속', '일최대풍속', '일최대풍속시각', '일최대풍속풍향', '일최대순간풍속',\n",
    "       '일최대순간풍속시각', '일최대순간풍속풍향', '풍정합', '일평균전운량', '일평균중하층운량', '최다운량', '최다운량시각',\n",
    "       '일합계일조시간', '일합계일사량', '일평균지면온도', '피해면적_합계']"
   ]
  },
  {
   "cell_type": "code",
   "execution_count": null,
   "metadata": {},
   "outputs": [],
   "source": [
    "sanbul_df_corr=sanbul_df[['평균기온', '일최고기온', '일최고기온시각', '일최저기온',\n",
    "       '일최저기온시각', '일평균현지기압', '일최고현지기압', '일최고현지기압시각', '일최저현지기압', '일최저현지기압시각',\n",
    "       '일평균해면기압', '일최고해면기압', '일최고해면기압시각', '일최저해면기압', '일최저해면기압시각', '일평균상대습도',\n",
    "       '일최소상대습도', '일최소상대습도시각', '일평균수증기압', '일최고수증기압', '일최고수증기압시각', '일최저수증기압',\n",
    "       '일최저수증기압시각', '일평균풍속', '일최대풍속', '일최대풍속시각', '일최대풍속풍향', '일최대순간풍속',\n",
    "       '일최대순간풍속시각', '일최대순간풍속풍향', '풍정합', '일평균전운량', '일평균중하층운량', '최다운량', '최다운량시각',\n",
    "       '일합계일조시간', '일합계일사량', '일평균지면온도', '피해면적_합계']]"
   ]
  },
  {
   "cell_type": "code",
   "execution_count": null,
   "metadata": {},
   "outputs": [],
   "source": [
    "from statsmodels.stats.outliers_influence import variance_inflation_factor\n",
    "# 피처마다의 VIF 계수를 출력합니다.\n",
    "vif = pd.DataFrame()\n",
    "vif[\"VIF Factor\"] = [variance_inflation_factor(picher_df_corr.values, i) for i in range(picher_df_corr.shape[1])]\n",
    "vif[\"features\"] = picher_df_corr.columns\n",
    "vif"
   ]
  }
 ],
 "metadata": {
  "kernelspec": {
   "display_name": "Python 3.9.7 ('base')",
   "language": "python",
   "name": "python3"
  },
  "language_info": {
   "codemirror_mode": {
    "name": "ipython",
    "version": 3
   },
   "file_extension": ".py",
   "mimetype": "text/x-python",
   "name": "python",
   "nbconvert_exporter": "python",
   "pygments_lexer": "ipython3",
   "version": "3.9.12"
  },
  "orig_nbformat": 4,
  "vscode": {
   "interpreter": {
    "hash": "0766e3e1d287c184980f299148a3105eceb00863bd5ff5655957b2b6f5c26638"
   }
  }
 },
 "nbformat": 4,
 "nbformat_minor": 2
}
