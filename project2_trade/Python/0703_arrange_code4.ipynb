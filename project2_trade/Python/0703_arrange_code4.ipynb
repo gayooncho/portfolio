{
 "cells": [
  {
   "cell_type": "code",
   "execution_count": null,
   "metadata": {},
   "outputs": [],
   "source": [
    "# 폴더 내에 파일 리스트를 files에 할당\n",
    "import os\n",
    "import pandas as pd\n",
    "files = os.listdir('C:/project2/Python/finish/')\n",
    "\n",
    "file_name = []\n",
    "# files 리스트 요소를 ,로 스플릿한 후 앞 요소만 가져오기\n",
    "for i in range(len(files)):\n",
    "    file_name.append(files[i].split('.')[0])\n",
    "    globals()[files[i].split('.')[0]] = pd.read_csv(f'C:/project2/Python/finish/{files[i]}')"
   ]
  },
  {
   "cell_type": "code",
   "execution_count": null,
   "metadata": {},
   "outputs": [],
   "source": [
    "df_list = []\n",
    "\n",
    "for df in file_name:      \n",
    "    df = globals()[df]\n",
    "    df_list.append(df)"
   ]
  },
  {
   "cell_type": "code",
   "execution_count": null,
   "metadata": {},
   "outputs": [],
   "source": [
    "df_index = []\n",
    "for df in df_list:\n",
    "    df_file = df\n",
    "    df_index.append(df_file.set_index('BEC'))"
   ]
  },
  {
   "cell_type": "code",
   "execution_count": null,
   "metadata": {},
   "outputs": [],
   "source": [
    "# 데이터 자르기 A 나라별 import 국가 데이터만 자르기\n",
    "df_cut = []\n",
    "\n",
    "for cut in df_index:\n",
    "    data_cut = cut.iloc[:, [0, 1, 2, 3, 4, 5, 6, 7, 8, 9, -1]]\n",
    "    df_cut.append(data_cut)"
   ]
  },
  {
   "cell_type": "code",
   "execution_count": null,
   "metadata": {},
   "outputs": [],
   "source": [
    "usa_2012 = pd.DataFrame({'2012_USD': [0], 'country' : \"[A]\"})\n",
    "usa_2013 = pd.DataFrame({'2013_USD': [0], 'country' : \"[A]\"})\n",
    "usa_2014 = pd.DataFrame({'2014_USD': [0], 'country' : \"[A]\"})\n",
    "usa_2015 = pd.DataFrame({'2015_USD': [0], 'country' : \"[A]\"})\n",
    "usa_2016 = pd.DataFrame({'2016_USD': [0], 'country' : \"[A]\"})\n",
    "usa_2017 = pd.DataFrame({'2017_USD': [0], 'country' : \"[A]\"})\n",
    "usa_2018 = pd.DataFrame({'2018_USD': [0], 'country' : \"[A]\"})\n",
    "usa_2019 = pd.DataFrame({'2019_USD': [0], 'country' : \"[A]\"})\n",
    "usa_2020 = pd.DataFrame({'2020_USD': [0], 'country' : \"[A]\"})\n",
    "usa_2021 = pd.DataFrame({'2021_USD': [0], 'country' : \"[A]\"})"
   ]
  },
  {
   "cell_type": "code",
   "execution_count": null,
   "metadata": {},
   "outputs": [],
   "source": [
    "\n",
    "# 나라별 데이터 range에 넣어줘야하는 값\n",
    "# 0, 11, australia\n",
    "# 11, 22 china\n",
    "# 22, 33 germany\n",
    "# 33, 44 india\n",
    "# 44, 55 japan\n",
    "# 55, 66 korea\n",
    "# 66, 77 russian\n",
    "# 77, 88 saudi\n",
    "# 88, 99 singapore\n",
    "# 99, 110 taipei\n",
    "# 110, 121 usa\n",
    "# 121, 132 vietnam\n",
    "\n",
    "for i in range(110, 121):\n",
    "    # usa_2012 = pd.merge(usa_2012, df_cut[i].iloc[:, [0, -1]], how = \"outer\")\n",
    "    df_cut[i].columns = ['2012_USD','2013_USD','2014_USD','2015_USD','2016_USD','2017_USD','2018_USD','2019_USD','2020_USD','2021_USD', 'country']\n",
    "    usa_2012 = pd.concat([usa_2012, df_cut[i].iloc[:, [0, -1]]], axis = 0)\n",
    "    usa_2013 = pd.concat([usa_2013, df_cut[i].iloc[:, [1, -1]]], axis = 0)\n",
    "    usa_2014 = pd.concat([usa_2014, df_cut[i].iloc[:, [2, -1]]], axis = 0)\n",
    "    usa_2015 = pd.concat([usa_2015, df_cut[i].iloc[:, [3, -1]]], axis = 0)\n",
    "    usa_2016 = pd.concat([usa_2016, df_cut[i].iloc[:, [4, -1]]], axis = 0)\n",
    "    usa_2017 = pd.concat([usa_2017, df_cut[i].iloc[:, [5, -1]]], axis = 0)\n",
    "    usa_2018 = pd.concat([usa_2018, df_cut[i].iloc[:, [6, -1]]], axis = 0)\n",
    "    usa_2019 = pd.concat([usa_2019, df_cut[i].iloc[:, [7, -1]]], axis = 0)\n",
    "    usa_2020 = pd.concat([usa_2020, df_cut[i].iloc[:, [8, -1]]], axis = 0)\n",
    "    usa_2021 = pd.concat([usa_2021, df_cut[i].iloc[:, [9, -1]]], axis = 0)"
   ]
  },
  {
   "cell_type": "code",
   "execution_count": null,
   "metadata": {},
   "outputs": [],
   "source": [
    "\n",
    "# 연도별 데이터 프레임 병합하기\n",
    "all_datas = [usa_2012, usa_2013, usa_2014, usa_2015, usa_2016, usa_2017, \n",
    "             usa_2018,usa_2019, usa_2020, usa_2021]\n",
    "\n",
    "drop_list = [0.0]\n",
    "\n",
    "final_list = []\n",
    "for df in all_datas:\n",
    "    final_df = pd.DataFrame(df.drop(drop_list, axis='rows'))\n",
    "    final_df = final_df.reset_index()\n",
    "    final_df.rename(columns = {'index' : 'BEC'}, inplace=True)\n",
    "    # print(final_df)\n",
    "    final_list.append(final_df)"
   ]
  },
  {
   "cell_type": "code",
   "execution_count": null,
   "metadata": {},
   "outputs": [],
   "source": [
    "# 파일 저장을 위한 이름 리스트 만들기\n",
    "country_list = [\"usa\"]\n",
    "year_list = ['2012', '2013', '2014', '2015', '2016', '2017', '2018', '2019', '2020', '2021']\n",
    "file_name_list = []\n",
    "for i in country_list:\n",
    "    for j in year_list:\n",
    "        file_name_a = i + j + '.csv'\n",
    "        file_name_list.append(file_name_a)"
   ]
  },
  {
   "cell_type": "code",
   "execution_count": null,
   "metadata": {},
   "outputs": [],
   "source": [
    "# 전처리한 데이터 저장\n",
    "for i in range(len(file_name_list)):\n",
    "    # files_save = files[i]\n",
    "    df_save = final_list[i]\n",
    "    df_save.to_csv('./map/' + file_name_list[i])"
   ]
  }
 ],
 "metadata": {
  "language_info": {
   "name": "python"
  },
  "orig_nbformat": 4
 },
 "nbformat": 4,
 "nbformat_minor": 2
}
