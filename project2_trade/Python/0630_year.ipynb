{
 "cells": [
  {
   "cell_type": "code",
   "execution_count": 1,
   "metadata": {},
   "outputs": [],
   "source": [
    "# 폴더 내에 파일 리스트를 files에 할당\n",
    "import os\n",
    "import pandas as pd\n",
    "files = os.listdir('C:/project2/Python/finish/')\n",
    "\n",
    "file_name = []\n",
    "# files 리스트 요소를 ,로 스플릿한 후 앞 요소만 가져오기\n",
    "for i in range(len(files)):\n",
    "    file_name.append(files[i].split('.')[0])\n",
    "    globals()[files[i].split('.')[0]] = pd.read_csv(f'C:/project2/Python/finish/{files[i]}')\n",
    "    \n",
    "    "
   ]
  },
  {
   "cell_type": "code",
   "execution_count": 2,
   "metadata": {},
   "outputs": [],
   "source": [
    "df_list = []\n",
    "\n",
    "for df in file_name:      \n",
    "    df = globals()[df]\n",
    "    df_list.append(df)"
   ]
  },
  {
   "cell_type": "code",
   "execution_count": 3,
   "metadata": {},
   "outputs": [
    {
     "data": {
      "text/plain": [
       "120"
      ]
     },
     "execution_count": 3,
     "metadata": {},
     "output_type": "execute_result"
    }
   ],
   "source": [
    "len(df_list)"
   ]
  },
  {
   "cell_type": "code",
   "execution_count": 4,
   "metadata": {},
   "outputs": [],
   "source": [
    "year_2012 = pd.DataFrame({'Year' : ['']})\n",
    "year_2013 = pd.DataFrame({'Year' : ['']})\n",
    "year_2014 = pd.DataFrame({'Year' : ['']})\n",
    "year_2015 = pd.DataFrame({'Year' : ['']})\n",
    "year_2016 = pd.DataFrame({'Year' : ['']})\n",
    "year_2017 = pd.DataFrame({'Year' : ['']})\n",
    "year_2018 = pd.DataFrame({'Year' : ['']})\n",
    "year_2019 = pd.DataFrame({'Year' : ['']})\n",
    "year_2020 = pd.DataFrame({'Year' : ['']})\n",
    "year_2021 = pd.DataFrame({'Year' : ['']})"
   ]
  },
  {
   "cell_type": "code",
   "execution_count": 5,
   "metadata": {},
   "outputs": [],
   "source": [
    "df_year = []\n",
    "for i in range(len(df_list)):\n",
    "    num_str = str(i)\n",
    "    dataframe = df_list[i]\n",
    "    if num_str[-1] == \"0\":\n",
    "        dataframe = pd.concat([dataframe, year_2012])\n",
    "        dataframe.loc[dataframe['Year']!=dataframe['Year'], 'Year'] = 2012\n",
    "        df_year.append(dataframe)\n",
    "    elif num_str[-1] == \"1\":\n",
    "        dataframe = pd.concat([dataframe, year_2013])\n",
    "        dataframe.loc[dataframe['Year']!=dataframe['Year'], 'Year'] = 2013\n",
    "        df_year.append(dataframe)\n",
    "    elif num_str[-1] == \"2\":\n",
    "        dataframe = pd.concat([dataframe, year_2014])\n",
    "        dataframe.loc[dataframe['Year']!=dataframe['Year'], 'Year'] = 2014\n",
    "        df_year.append(dataframe)\n",
    "    elif num_str[-1] == \"3\":\n",
    "        dataframe = pd.concat([dataframe, year_2015])\n",
    "        dataframe.loc[dataframe['Year']!=dataframe['Year'], 'Year'] = 2015\n",
    "        df_year.append(dataframe)\n",
    "    elif num_str[-1] == \"4\":\n",
    "        dataframe = pd.concat([dataframe, year_2016])\n",
    "        dataframe.loc[dataframe['Year']!=dataframe['Year'], 'Year'] = 2016\n",
    "        df_year.append(dataframe)\n",
    "    elif num_str[-1] == \"5\":\n",
    "        dataframe = pd.concat([dataframe, year_2017])\n",
    "        dataframe.loc[dataframe['Year']!=dataframe['Year'], 'Year'] = 2017\n",
    "        df_year.append(dataframe)\n",
    "    elif num_str[-1] == \"6\":\n",
    "        dataframe = pd.concat([dataframe, year_2018])\n",
    "        dataframe.loc[dataframe['Year']!=dataframe['Year'], 'Year'] = 2018\n",
    "        df_year.append(dataframe)\n",
    "    elif num_str[-1] == \"7\":\n",
    "        dataframe = pd.concat([dataframe, year_2019])\n",
    "        dataframe.loc[dataframe['Year']!=dataframe['Year'], 'Year'] = 2019\n",
    "        df_year.append(dataframe)\n",
    "    elif num_str[-1] == \"8\":\n",
    "        dataframe = pd.concat([dataframe, year_2020])\n",
    "        dataframe.loc[dataframe['Year']!=dataframe['Year'], 'Year'] = 2020\n",
    "        df_year.append(dataframe)\n",
    "    elif num_str[-1] == \"9\":\n",
    "        dataframe = pd.concat([dataframe, year_2021])\n",
    "        dataframe.loc[dataframe['Year']!=dataframe['Year'], 'Year'] = 2021\n",
    "        df_year.append(dataframe)\n",
    "                "
   ]
  },
  {
   "cell_type": "code",
   "execution_count": 6,
   "metadata": {},
   "outputs": [
    {
     "data": {
      "text/html": [
       "<div>\n",
       "<style scoped>\n",
       "    .dataframe tbody tr th:only-of-type {\n",
       "        vertical-align: middle;\n",
       "    }\n",
       "\n",
       "    .dataframe tbody tr th {\n",
       "        vertical-align: top;\n",
       "    }\n",
       "\n",
       "    .dataframe thead th {\n",
       "        text-align: right;\n",
       "    }\n",
       "</style>\n",
       "<table border=\"1\" class=\"dataframe\">\n",
       "  <thead>\n",
       "    <tr style=\"text-align: right;\">\n",
       "      <th></th>\n",
       "      <th>Unnamed: 0</th>\n",
       "      <th>BEC</th>\n",
       "      <th>2013_USD</th>\n",
       "      <th>country</th>\n",
       "      <th>Year</th>\n",
       "    </tr>\n",
       "  </thead>\n",
       "  <tbody>\n",
       "    <tr>\n",
       "      <th>0</th>\n",
       "      <td>0.0</td>\n",
       "      <td>212.0</td>\n",
       "      <td>15837.0</td>\n",
       "      <td>Australia</td>\n",
       "      <td>2013</td>\n",
       "    </tr>\n",
       "    <tr>\n",
       "      <th>1</th>\n",
       "      <td>1.0</td>\n",
       "      <td>312.0</td>\n",
       "      <td>19129.0</td>\n",
       "      <td>Australia</td>\n",
       "      <td>2013</td>\n",
       "    </tr>\n",
       "    <tr>\n",
       "      <th>2</th>\n",
       "      <td>2.0</td>\n",
       "      <td>512.0</td>\n",
       "      <td>1133.0</td>\n",
       "      <td>Australia</td>\n",
       "      <td>2013</td>\n",
       "    </tr>\n",
       "    <tr>\n",
       "      <th>3</th>\n",
       "      <td>3.0</td>\n",
       "      <td>612.0</td>\n",
       "      <td>0.0</td>\n",
       "      <td>Australia</td>\n",
       "      <td>2013</td>\n",
       "    </tr>\n",
       "    <tr>\n",
       "      <th>4</th>\n",
       "      <td>4.0</td>\n",
       "      <td>712.0</td>\n",
       "      <td>6290.0</td>\n",
       "      <td>Australia</td>\n",
       "      <td>2013</td>\n",
       "    </tr>\n",
       "    <tr>\n",
       "      <th>...</th>\n",
       "      <td>...</td>\n",
       "      <td>...</td>\n",
       "      <td>...</td>\n",
       "      <td>...</td>\n",
       "      <td>...</td>\n",
       "    </tr>\n",
       "    <tr>\n",
       "      <th>711</th>\n",
       "      <td>711.0</td>\n",
       "      <td>811220.0</td>\n",
       "      <td>117.0</td>\n",
       "      <td>Viet Nam</td>\n",
       "      <td>2013</td>\n",
       "    </tr>\n",
       "    <tr>\n",
       "      <th>712</th>\n",
       "      <td>712.0</td>\n",
       "      <td>812020.0</td>\n",
       "      <td>0.0</td>\n",
       "      <td>Viet Nam</td>\n",
       "      <td>2013</td>\n",
       "    </tr>\n",
       "    <tr>\n",
       "      <th>713</th>\n",
       "      <td>713.0</td>\n",
       "      <td>813101.0</td>\n",
       "      <td>0.0</td>\n",
       "      <td>Viet Nam</td>\n",
       "      <td>2013</td>\n",
       "    </tr>\n",
       "    <tr>\n",
       "      <th>714</th>\n",
       "      <td>714.0</td>\n",
       "      <td>813202.0</td>\n",
       "      <td>234.0</td>\n",
       "      <td>Viet Nam</td>\n",
       "      <td>2013</td>\n",
       "    </tr>\n",
       "    <tr>\n",
       "      <th>0</th>\n",
       "      <td>NaN</td>\n",
       "      <td>NaN</td>\n",
       "      <td>NaN</td>\n",
       "      <td>NaN</td>\n",
       "      <td></td>\n",
       "    </tr>\n",
       "  </tbody>\n",
       "</table>\n",
       "<p>716 rows × 5 columns</p>\n",
       "</div>"
      ],
      "text/plain": [
       "     Unnamed: 0       BEC  2013_USD    country  Year\n",
       "0           0.0     212.0   15837.0  Australia  2013\n",
       "1           1.0     312.0   19129.0  Australia  2013\n",
       "2           2.0     512.0    1133.0  Australia  2013\n",
       "3           3.0     612.0       0.0  Australia  2013\n",
       "4           4.0     712.0    6290.0  Australia  2013\n",
       "..          ...       ...       ...        ...   ...\n",
       "711       711.0  811220.0     117.0   Viet Nam  2013\n",
       "712       712.0  812020.0       0.0   Viet Nam  2013\n",
       "713       713.0  813101.0       0.0   Viet Nam  2013\n",
       "714       714.0  813202.0     234.0   Viet Nam  2013\n",
       "0           NaN       NaN       NaN        NaN      \n",
       "\n",
       "[716 rows x 5 columns]"
      ]
     },
     "execution_count": 6,
     "metadata": {},
     "output_type": "execute_result"
    }
   ],
   "source": [
    "df_year[11]"
   ]
  },
  {
   "cell_type": "code",
   "execution_count": 7,
   "metadata": {},
   "outputs": [],
   "source": [
    "file_name_list = []\n",
    "for df in file_name:\n",
    "    file_name_a = str(df) + '.csv'\n",
    "    file_name_list.append(file_name_a)"
   ]
  },
  {
   "cell_type": "code",
   "execution_count": 8,
   "metadata": {},
   "outputs": [
    {
     "data": {
      "text/plain": [
       "'australia2012.csv'"
      ]
     },
     "execution_count": 8,
     "metadata": {},
     "output_type": "execute_result"
    }
   ],
   "source": [
    "file_name_list[0]"
   ]
  },
  {
   "cell_type": "code",
   "execution_count": 9,
   "metadata": {},
   "outputs": [],
   "source": [
    "for i in range(len(file_name_list)):\n",
    "    # files_save = files[i]\n",
    "    data = df_year[i]\n",
    "    data.to_csv('./map_year/' + file_name_list[i])"
   ]
  }
 ],
 "metadata": {
  "kernelspec": {
   "display_name": "Python 3.10.4 64-bit",
   "language": "python",
   "name": "python3"
  },
  "language_info": {
   "codemirror_mode": {
    "name": "ipython",
    "version": 3
   },
   "file_extension": ".py",
   "mimetype": "text/x-python",
   "name": "python",
   "nbconvert_exporter": "python",
   "pygments_lexer": "ipython3",
   "version": "3.10.4"
  },
  "orig_nbformat": 4,
  "vscode": {
   "interpreter": {
    "hash": "0406d19bda1fbea09f583b3d3e71462aea9da7cbc837a10ade34850525f7fa2f"
   }
  }
 },
 "nbformat": 4,
 "nbformat_minor": 2
}
