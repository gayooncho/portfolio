{
 "cells": [
  {
   "cell_type": "code",
   "execution_count": 1,
   "metadata": {},
   "outputs": [],
   "source": [
    "# 폴더 내에 파일 리스트를 files에 할당\n",
    "import os\n",
    "import pandas as pd\n",
    "files = os.listdir('C:/project2/Python/finish/')\n",
    "\n",
    "file_name = []\n",
    "# files 리스트 요소를 ,로 스플릿한 후 앞 요소만 가져오기\n",
    "for i in range(len(files)):\n",
    "    file_name.append(files[i].split('.')[0])\n",
    "    globals()[files[i].split('.')[0]] = pd.read_csv(f'C:/project2/Python/finish/{files[i]}')\n",
    "    \n",
    "    "
   ]
  },
  {
   "cell_type": "code",
   "execution_count": 2,
   "metadata": {},
   "outputs": [],
   "source": [
    "# 불필요한 열들제거\n",
    "# unnamed 0.1, HS, unnamed:12, unnamed: 0, HS4, INDEX\n",
    "drop_list = ['Unnamed: 0.1', 'HS','Product label', 'Unnamed: 34', 'Unnamed: 0', 'HS4', 'index']\n",
    "\n",
    "df_list = []\n",
    "for df in file_name:\n",
    "    # globals()[i] = pd.DataFrame(globals()[i].drop(drop_list, axis = 'columns', inplace = True))\n",
    "    # globals()[i].groupby('BEC').sum()\n",
    "    df = globals()[df]\n",
    "    df_list.append(df)\n"
   ]
  },
  {
   "cell_type": "code",
   "execution_count": 3,
   "metadata": {},
   "outputs": [],
   "source": [
    "df_group = []\n",
    "for df in df_list:\n",
    "    df.drop(drop_list, axis = 'columns', inplace = True)\n",
    "    # print(type(df))\n",
    "    df_g = df.groupby('BEC').sum()\n",
    "    df_group.append(df_g)"
   ]
  },
  {
   "cell_type": "code",
   "execution_count": 4,
   "metadata": {},
   "outputs": [],
   "source": [
    "for i in range(len(file_name)):\n",
    "    file_name_split = file_name[i].split(\"_\")\n",
    "    and_name = file_name[i].find('and')\n",
    "    # print(and_name)\n",
    "    # print(file_name[i][and_name:])\n",
    "    \n",
    "    # country_name = file_name[i][and_name:].split(\"_\")\n",
    "    country_name = file_name[i][and_name:]\n",
    "    country_name = country_name.replace(\"and_\", \"\")\n",
    "    country_name = country_name.replace(\"_exported\", \"\")\n",
    "    country_name = country_name.replace(\"_\", \" \")\n",
    "    country_name = country_name.replace(\"__\", \" \")\n",
    "    # country_name[]\n",
    "    # del country_name[0]\n",
    "    # del country_name[-1]\n",
    "    # print(country_name)\n",
    "    \n",
    "    df_group[i]['country'] = country_name"
   ]
  },
  {
   "cell_type": "code",
   "execution_count": 5,
   "metadata": {},
   "outputs": [],
   "source": [
    "for i in range(132):\n",
    "    files_save = files[i]\n",
    "    df_save = df_group[i]\n",
    "    df_save.to_csv('./between_group_country/' + files_save)"
   ]
  }
 ],
 "metadata": {
  "kernelspec": {
   "display_name": "Python 3.10.4 64-bit",
   "language": "python",
   "name": "python3"
  },
  "language_info": {
   "codemirror_mode": {
    "name": "ipython",
    "version": 3
   },
   "file_extension": ".py",
   "mimetype": "text/x-python",
   "name": "python",
   "nbconvert_exporter": "python",
   "pygments_lexer": "ipython3",
   "version": "3.10.4"
  },
  "orig_nbformat": 4,
  "vscode": {
   "interpreter": {
    "hash": "0406d19bda1fbea09f583b3d3e71462aea9da7cbc837a10ade34850525f7fa2f"
   }
  }
 },
 "nbformat": 4,
 "nbformat_minor": 2
}
