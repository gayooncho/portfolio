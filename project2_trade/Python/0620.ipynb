{
 "cells": [
  {
   "cell_type": "code",
   "execution_count": 3,
   "metadata": {},
   "outputs": [],
   "source": [
    "import numpy as np\n",
    "import pandas as pd\n",
    "import matplotlib as mpl\n",
    "import matplotlib.pyplot as plt\n",
    "import seaborn as sns"
   ]
  },
  {
   "cell_type": "code",
   "execution_count": 10,
   "metadata": {},
   "outputs": [
    {
     "data": {
      "text/html": [
       "<div>\n",
       "<style scoped>\n",
       "    .dataframe tbody tr th:only-of-type {\n",
       "        vertical-align: middle;\n",
       "    }\n",
       "\n",
       "    .dataframe tbody tr th {\n",
       "        vertical-align: top;\n",
       "    }\n",
       "\n",
       "    .dataframe thead th {\n",
       "        text-align: right;\n",
       "    }\n",
       "</style>\n",
       "<table border=\"1\" class=\"dataframe\">\n",
       "  <thead>\n",
       "    <tr style=\"text-align: right;\">\n",
       "      <th></th>\n",
       "      <th>HS</th>\n",
       "      <th>Product label</th>\n",
       "      <th>Exported value in 2012</th>\n",
       "      <th>Exported value in 2013</th>\n",
       "      <th>Exported value in 2014</th>\n",
       "      <th>Exported value in 2015</th>\n",
       "      <th>Exported value in 2016</th>\n",
       "      <th>Exported value in 2017</th>\n",
       "      <th>Exported value in 2018</th>\n",
       "      <th>Exported value in 2019</th>\n",
       "      <th>Exported value in 2020</th>\n",
       "      <th>Exported value in 2021</th>\n",
       "      <th>Unnamed: 12</th>\n",
       "    </tr>\n",
       "  </thead>\n",
       "  <tbody>\n",
       "    <tr>\n",
       "      <th>0</th>\n",
       "      <td>TOTAL</td>\n",
       "      <td>All products</td>\n",
       "      <td>547854448</td>\n",
       "      <td>559648708</td>\n",
       "      <td>573091134</td>\n",
       "      <td>526900733</td>\n",
       "      <td>495465606</td>\n",
       "      <td>573716618</td>\n",
       "      <td>605169190</td>\n",
       "      <td>542333337</td>\n",
       "      <td>512788606</td>\n",
       "      <td>644438622</td>\n",
       "      <td>NaN</td>\n",
       "    </tr>\n",
       "    <tr>\n",
       "      <th>1</th>\n",
       "      <td>854232</td>\n",
       "      <td>Electronic integrated circuits as memories</td>\n",
       "      <td>16611973</td>\n",
       "      <td>21964136</td>\n",
       "      <td>28849532</td>\n",
       "      <td>28856912</td>\n",
       "      <td>31612095</td>\n",
       "      <td>60506974</td>\n",
       "      <td>83048246</td>\n",
       "      <td>53163163</td>\n",
       "      <td>52359154</td>\n",
       "      <td>69177215</td>\n",
       "      <td>NaN</td>\n",
       "    </tr>\n",
       "    <tr>\n",
       "      <th>2</th>\n",
       "      <td>854231</td>\n",
       "      <td>Electronic integrated circuits as processors a...</td>\n",
       "      <td>21228826</td>\n",
       "      <td>20702672</td>\n",
       "      <td>18514980</td>\n",
       "      <td>19887934</td>\n",
       "      <td>17066083</td>\n",
       "      <td>21362697</td>\n",
       "      <td>22100868</td>\n",
       "      <td>20681846</td>\n",
       "      <td>23516687</td>\n",
       "      <td>30406085</td>\n",
       "      <td>NaN</td>\n",
       "    </tr>\n",
       "    <tr>\n",
       "      <th>3</th>\n",
       "      <td>271019</td>\n",
       "      <td>Medium oils and preparations, of petroleum or ...</td>\n",
       "      <td>43536414</td>\n",
       "      <td>39290957</td>\n",
       "      <td>37799193</td>\n",
       "      <td>22784332</td>\n",
       "      <td>18938588</td>\n",
       "      <td>25256941</td>\n",
       "      <td>34171305</td>\n",
       "      <td>29751793</td>\n",
       "      <td>17844010</td>\n",
       "      <td>26178125</td>\n",
       "      <td>NaN</td>\n",
       "    </tr>\n",
       "    <tr>\n",
       "      <th>4</th>\n",
       "      <td>870323</td>\n",
       "      <td>Motor cars and other motor vehicles principall...</td>\n",
       "      <td>27767857</td>\n",
       "      <td>27237499</td>\n",
       "      <td>27337065</td>\n",
       "      <td>24060624</td>\n",
       "      <td>22007933</td>\n",
       "      <td>19133730</td>\n",
       "      <td>19612091</td>\n",
       "      <td>19701460</td>\n",
       "      <td>15352522</td>\n",
       "      <td>16416185</td>\n",
       "      <td>NaN</td>\n",
       "    </tr>\n",
       "  </tbody>\n",
       "</table>\n",
       "</div>"
      ],
      "text/plain": [
       "       HS                                      Product label  \\\n",
       "0   TOTAL                                       All products   \n",
       "1  854232         Electronic integrated circuits as memories   \n",
       "2  854231  Electronic integrated circuits as processors a...   \n",
       "3  271019  Medium oils and preparations, of petroleum or ...   \n",
       "4  870323  Motor cars and other motor vehicles principall...   \n",
       "\n",
       "   Exported value in 2012  Exported value in 2013  Exported value in 2014  \\\n",
       "0               547854448               559648708               573091134   \n",
       "1                16611973                21964136                28849532   \n",
       "2                21228826                20702672                18514980   \n",
       "3                43536414                39290957                37799193   \n",
       "4                27767857                27237499                27337065   \n",
       "\n",
       "   Exported value in 2015  Exported value in 2016  Exported value in 2017  \\\n",
       "0               526900733               495465606               573716618   \n",
       "1                28856912                31612095                60506974   \n",
       "2                19887934                17066083                21362697   \n",
       "3                22784332                18938588                25256941   \n",
       "4                24060624                22007933                19133730   \n",
       "\n",
       "   Exported value in 2018  Exported value in 2019  Exported value in 2020  \\\n",
       "0               605169190               542333337               512788606   \n",
       "1                83048246                53163163                52359154   \n",
       "2                22100868                20681846                23516687   \n",
       "3                34171305                29751793                17844010   \n",
       "4                19612091                19701460                15352522   \n",
       "\n",
       "   Exported value in 2021  Unnamed: 12  \n",
       "0               644438622          NaN  \n",
       "1                69177215          NaN  \n",
       "2                30406085          NaN  \n",
       "3                26178125          NaN  \n",
       "4                16416185          NaN  "
      ]
     },
     "execution_count": 10,
     "metadata": {},
     "output_type": "execute_result"
    }
   ],
   "source": [
    "# 한국 수입 품목\n",
    "korea_exported_list = pd.read_table('C:\\project2\\Trade_map_List_of_products_exported_and_imported\\Trade_Map_-_List_of_products_exported_by_Korea__Republic_of.txt', sep = '\\t')\n",
    "korea_exported_list.rename(columns={'Code':'HS'}, inplace=True)\n",
    "korea_exported_list.head()\n"
   ]
  },
  {
   "cell_type": "code",
   "execution_count": 11,
   "metadata": {},
   "outputs": [],
   "source": [
    "# hs, bec 파일 불러오기\n",
    "hs17_bec5 = pd.read_csv('C:\\project2\\BEC5Correlations\\HS17BEC5.csv')"
   ]
  },
  {
   "cell_type": "code",
   "execution_count": 12,
   "metadata": {},
   "outputs": [
    {
     "name": "stderr",
     "output_type": "stream",
     "text": [
      "C:\\Users\\user\\AppData\\Local\\Temp\\ipykernel_18428\\1393281536.py:5: SettingWithCopyWarning: \n",
      "A value is trying to be set on a copy of a slice from a DataFrame\n",
      "\n",
      "See the caveats in the documentation: https://pandas.pydata.org/pandas-docs/stable/user_guide/indexing.html#returning-a-view-versus-a-copy\n",
      "  hs_bec.rename(columns={'HS6':'HS', 'BEC5Code1':'BEC'}, inplace=True)\n"
     ]
    },
    {
     "data": {
      "text/html": [
       "<div>\n",
       "<style scoped>\n",
       "    .dataframe tbody tr th:only-of-type {\n",
       "        vertical-align: middle;\n",
       "    }\n",
       "\n",
       "    .dataframe tbody tr th {\n",
       "        vertical-align: top;\n",
       "    }\n",
       "\n",
       "    .dataframe thead th {\n",
       "        text-align: right;\n",
       "    }\n",
       "</style>\n",
       "<table border=\"1\" class=\"dataframe\">\n",
       "  <thead>\n",
       "    <tr style=\"text-align: right;\">\n",
       "      <th></th>\n",
       "      <th>HS</th>\n",
       "      <th>BEC</th>\n",
       "    </tr>\n",
       "  </thead>\n",
       "  <tbody>\n",
       "    <tr>\n",
       "      <th>0</th>\n",
       "      <td>10121</td>\n",
       "      <td>712010.0</td>\n",
       "    </tr>\n",
       "    <tr>\n",
       "      <th>1</th>\n",
       "      <td>10129</td>\n",
       "      <td>1111.0</td>\n",
       "    </tr>\n",
       "    <tr>\n",
       "      <th>2</th>\n",
       "      <td>10130</td>\n",
       "      <td>1111.0</td>\n",
       "    </tr>\n",
       "    <tr>\n",
       "      <th>3</th>\n",
       "      <td>10190</td>\n",
       "      <td>1111.0</td>\n",
       "    </tr>\n",
       "    <tr>\n",
       "      <th>4</th>\n",
       "      <td>10221</td>\n",
       "      <td>112010.0</td>\n",
       "    </tr>\n",
       "  </tbody>\n",
       "</table>\n",
       "</div>"
      ],
      "text/plain": [
       "      HS       BEC\n",
       "0  10121  712010.0\n",
       "1  10129    1111.0\n",
       "2  10130    1111.0\n",
       "3  10190    1111.0\n",
       "4  10221  112010.0"
      ]
     },
     "execution_count": 12,
     "metadata": {},
     "output_type": "execute_result"
    }
   ],
   "source": [
    "# hs code, 이름, bec 코드 추출\n",
    "hs_bec = hs17_bec5[['HS6','BEC5Code1']]\n",
    "\n",
    "# hs code -> code 이름변경\n",
    "hs_bec.rename(columns={'HS6':'HS', 'BEC5Code1':'BEC'}, inplace=True)\n",
    "hs_bec.head()"
   ]
  },
  {
   "cell_type": "code",
   "execution_count": 13,
   "metadata": {},
   "outputs": [
    {
     "data": {
      "text/plain": [
       "HS                           0\n",
       "Product label                0\n",
       "Exported value in 2012       0\n",
       "Exported value in 2013       0\n",
       "Exported value in 2014       0\n",
       "Exported value in 2015       0\n",
       "Exported value in 2016       0\n",
       "Exported value in 2017       0\n",
       "Exported value in 2018       0\n",
       "Exported value in 2019       0\n",
       "Exported value in 2020       0\n",
       "Exported value in 2021       0\n",
       "Unnamed: 12               5977\n",
       "BEC                        816\n",
       "dtype: int64"
      ]
     },
     "execution_count": 13,
     "metadata": {},
     "output_type": "execute_result"
    }
   ],
   "source": [
    "korea_exported_list.head()\n",
    "# code에 total 000000 으로 바꿔주기\n",
    "korea_exported_list.loc[0, 'HS'] = 000000\n",
    "\n",
    "korea_exported_list['HS'] = pd.to_numeric(korea_exported_list['HS'])\n",
    "\n",
    "# korea_list.info()\n",
    "\n",
    "# hs_bec.dtypes\n",
    "\n",
    "korea_exported_list = pd.merge(korea_exported_list, hs_bec, how='left', on='HS')\n",
    "korea_exported_list.isnull().sum()"
   ]
  },
  {
   "cell_type": "code",
   "execution_count": 14,
   "metadata": {},
   "outputs": [],
   "source": [
    "## csv 파일로 내보내기\n",
    "korea_exported_list.to_csv('./korea_exported_list.csv')"
   ]
  },
  {
   "cell_type": "code",
   "execution_count": 8,
   "metadata": {},
   "outputs": [],
   "source": [
    "# BEC코드가 NULL인 값 확인\n",
    "# HS 코드 확인\n",
    "# korea_exported_list['Code'][korea_exported_list['BEC5Code1'].isnull()]"
   ]
  },
  {
   "cell_type": "code",
   "execution_count": 9,
   "metadata": {},
   "outputs": [],
   "source": [
    "# group_size = korea_exported_list.groupby('BEC5Code1').count()\n",
    "# group_size"
   ]
  }
 ],
 "metadata": {
  "kernelspec": {
   "display_name": "Python 3.10.4 64-bit",
   "language": "python",
   "name": "python3"
  },
  "language_info": {
   "codemirror_mode": {
    "name": "ipython",
    "version": 3
   },
   "file_extension": ".py",
   "mimetype": "text/x-python",
   "name": "python",
   "nbconvert_exporter": "python",
   "pygments_lexer": "ipython3",
   "version": "3.10.4"
  },
  "orig_nbformat": 4,
  "vscode": {
   "interpreter": {
    "hash": "0406d19bda1fbea09f583b3d3e71462aea9da7cbc837a10ade34850525f7fa2f"
   }
  }
 },
 "nbformat": 4,
 "nbformat_minor": 2
}
