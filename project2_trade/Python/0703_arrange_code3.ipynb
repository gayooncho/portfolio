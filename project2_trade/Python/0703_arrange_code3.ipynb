{
 "cells": [
  {
   "cell_type": "markdown",
   "metadata": {},
   "source": [
    "주요 교역국별 분야·가공단계별 수출입액 및 주요 수출입품목"
   ]
  },
  {
   "cell_type": "code",
   "execution_count": 1,
   "metadata": {},
   "outputs": [],
   "source": [
    "# 폴더 내에 파일 리스트를 files에 할당\n",
    "import os\n",
    "import pandas as pd\n",
    "files = os.listdir('./bec_finish/')\n",
    "\n",
    "file_name = []\n",
    "# files 리스트 요소를 ,로 스플릿한 후 앞 요소만 가져오기\n",
    "for i in range(len(files)):\n",
    "    file_name.append(files[i].split('.')[0])\n",
    "    globals()[files[i].split('.')[0]] = pd.read_csv(f'./bec_finish/{files[i]}', index_col=0)\n",
    "    \n",
    "    "
   ]
  },
  {
   "cell_type": "code",
   "execution_count": 5,
   "metadata": {},
   "outputs": [],
   "source": [
    "# 불필요한 열들제거하고 globals 변수에 넣은 데이터 프레임 df_list에 넣어주기\n",
    "# unnamed 0.1, HS, unnamed:12, unnamed: 0, HS4, INDEX\n",
    "drop_list = ['HS', 'Product label', 'Unnamed: 12', 'Unnamed: 0', 'HS4', 'index']\n",
    "\n",
    "df_list = []\n",
    "for df in file_name:\n",
    "    df = globals()[df]\n",
    "    df_list.append(df)"
   ]
  },
  {
   "cell_type": "code",
   "execution_count": 6,
   "metadata": {},
   "outputs": [],
   "source": [
    "# BEC 별로 그룹 묶고 df_group 리스트에 넣어주기\n",
    "df_group = []\n",
    "for df in df_list:\n",
    "    df.drop(drop_list, axis = 'columns', inplace = True)\n",
    "    # print(type(df))\n",
    "    df_g = df.groupby('BEC').sum()\n",
    "    df_group.append(df_g)"
   ]
  },
  {
   "cell_type": "code",
   "execution_count": null,
   "metadata": {},
   "outputs": [],
   "source": [
    "# 연도별로 데이터를 재배열 하기 위해 컬럼명 바꿔주기\n",
    "df_rename = []\n",
    "for df in range(len(df_group)):\n",
    "    # print(df)\n",
    "    data = df_group[df].columns = ['USD','USD','USD','USD','USD','USD','USD','USD','USD','USD']\n",
    "    df_rename.append(data)"
   ]
  },
  {
   "cell_type": "code",
   "execution_count": null,
   "metadata": {},
   "outputs": [],
   "source": [
    "# 연도별 데이터 추출하기\n",
    "df_2012 = pd.DataFrame({'USD': 0,'Country' : ['A'], 'Year' : [0]})\n",
    "df_2013 = pd.DataFrame({'USD': 0,'Country' : ['A'], 'Year' : [0]})\n",
    "df_2014 = pd.DataFrame({'USD': 0,'Country' : ['A'], 'Year' : [0]})\n",
    "df_2015 = pd.DataFrame({'USD': 0,'Country' : ['A'], 'Year' : [0]})\n",
    "df_2016 = pd.DataFrame({'USD': 0,'Country' : ['A'], 'Year' : [0]})\n",
    "df_2017 = pd.DataFrame({'USD': 0,'Country' : ['A'], 'Year' : [0]})\n",
    "df_2018 = pd.DataFrame({'USD': 0,'Country' : ['A'], 'Year' : [0]})\n",
    "df_2019 = pd.DataFrame({'USD': 0,'Country' : ['A'], 'Year' : [0]})\n",
    "df_2020 = pd.DataFrame({'USD': 0,'Country' : ['A'], 'Year' : [0]})\n",
    "df_2021 = pd.DataFrame({'USD': 0,'Country' : ['A'], 'Year' : [0]})"
   ]
  },
  {
   "cell_type": "code",
   "execution_count": null,
   "metadata": {},
   "outputs": [],
   "source": [
    "# 병합해줄 데이터 프레임 만들기\n",
    "df = pd.DataFrame({'USD': 0,'Country' : ['A'], 'Year' : [0]})"
   ]
  },
  {
   "cell_type": "code",
   "execution_count": null,
   "metadata": {},
   "outputs": [],
   "source": [
    "# 연도별 데이터 추출해 넣기\n",
    "df_2012 = pd.concat([df_2012, df_group[11].iloc[:,[0]]])\n",
    "df_2013 = pd.concat([df_2013, df_group[11].iloc[:,[1]]])\n",
    "df_2014 = pd.concat([df_2014, df_group[11].iloc[:,[2]]])\n",
    "df_2015 = pd.concat([df_2015, df_group[11].iloc[:,[3]]])\n",
    "df_2016 = pd.concat([df_2016, df_group[11].iloc[:,[4]]])\n",
    "df_2017 = pd.concat([df_2017, df_group[11].iloc[:,[5]]])\n",
    "df_2018 = pd.concat([df_2018, df_group[11].iloc[:,[6]]])\n",
    "df_2019 = pd.concat([df_2019, df_group[11].iloc[:,[7]]])\n",
    "df_2020 = pd.concat([df_2020, df_group[11].iloc[:,[8]]])\n",
    "df_2021 = pd.concat([df_2021, df_group[11].iloc[:,[9]]])"
   ]
  },
  {
   "cell_type": "code",
   "execution_count": null,
   "metadata": {},
   "outputs": [],
   "source": [
    "# 연도 부여\n",
    "# year열이 nan값일 때 XX값 넣는 방법\n",
    "df_2012.loc[df_2012['Year'] != df_2012['Year'], 'Year'] = '2012'\n",
    "df_2013.loc[df_2013['Year'] != df_2013['Year'], 'Year'] = '2013'\n",
    "df_2013.loc[df_2014['Year'] != df_2014['Year'], 'Year'] = '2014'\n",
    "df_2015.loc[df_2015['Year'] != df_2015['Year'], 'Year'] = '2015'\n",
    "df_2016.loc[df_2016['Year'] != df_2016['Year'], 'Year'] = '2016'\n",
    "df_2017.loc[df_2017['Year'] != df_2017['Year'], 'Year'] = '2017'\n",
    "df_2018.loc[df_2018['Year'] != df_2018['Year'], 'Year'] = '2018'\n",
    "df_2019.loc[df_2019['Year'] != df_2019['Year'], 'Year'] = '2019'\n",
    "df_2020.loc[df_2020['Year'] != df_2020['Year'], 'Year'] = '2020'\n",
    "df_2021.loc[df_2021['Year'] != df_2021['Year'], 'Year'] = '2021'\n",
    "\n",
    "# 나라이름 부여\n",
    "df_2012.loc[df_2012['Country'] != df_2012['Country'], 'Country'] = 'vietnam'\n",
    "df_2013.loc[df_2013['Country'] != df_2013['Country'], 'Country'] = 'vietnam'\n",
    "df_2014.loc[df_2014['Country'] != df_2014['Country'], 'Country'] = 'vietnam'\n",
    "df_2015.loc[df_2015['Country'] != df_2015['Country'], 'Country'] = 'vietnam'\n",
    "df_2016.loc[df_2016['Country'] != df_2016['Country'], 'Country'] = 'vietnam'\n",
    "df_2017.loc[df_2017['Country'] != df_2017['Country'], 'Country'] = 'vietnam'\n",
    "df_2018.loc[df_2018['Country'] != df_2018['Country'], 'Country'] = 'vietnam'\n",
    "df_2019.loc[df_2019['Country'] != df_2019['Country'], 'Country'] = 'vietnam'\n",
    "df_2020.loc[df_2020['Country'] != df_2020['Country'], 'Country'] = 'vietnam'\n",
    "df_2021.loc[df_2021['Country'] != df_2021['Country'], 'Country'] = 'vietnam'"
   ]
  },
  {
   "cell_type": "code",
   "execution_count": null,
   "metadata": {},
   "outputs": [],
   "source": [
    "# 각각 값을 부여해준 데이터 프레임 하나로 병합\n",
    "df_new = pd.concat([df_2012, df_2013, df_2014, df_2015, df_2016, df_2017,\n",
    "                    df_2018, df_2019, df_2020, df_2021])"
   ]
  },
  {
   "cell_type": "code",
   "execution_count": null,
   "metadata": {},
   "outputs": [],
   "source": [
    "# 전처리 후 데이터 저장\n",
    "df_new.to_csv('./export_year/vietnam_export.csv')"
   ]
  }
 ],
 "metadata": {
  "kernelspec": {
   "display_name": "Python 3.9.0 64-bit",
   "language": "python",
   "name": "python3"
  },
  "language_info": {
   "codemirror_mode": {
    "name": "ipython",
    "version": 3
   },
   "file_extension": ".py",
   "mimetype": "text/x-python",
   "name": "python",
   "nbconvert_exporter": "python",
   "pygments_lexer": "ipython3",
   "version": "3.9.0"
  },
  "orig_nbformat": 4,
  "vscode": {
   "interpreter": {
    "hash": "1d5c1156327dacead463cc502c55ebae8ce9c8c01979cf154173ff808e75bf55"
   }
  }
 },
 "nbformat": 4,
 "nbformat_minor": 2
}
