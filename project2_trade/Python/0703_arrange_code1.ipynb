{
 "cells": [
  {
   "cell_type": "code",
   "execution_count": 1,
   "metadata": {},
   "outputs": [],
   "source": [
    "# 데이터 프레임 정리에  필요한 라이브러리 불러오기\n",
    "\n",
    "# import numpy as np\n",
    "# 데이터 분석 라이브러리\n",
    "import pandas as pd"
   ]
  },
  {
   "cell_type": "code",
   "execution_count": 2,
   "metadata": {},
   "outputs": [],
   "source": [
    "# hs_17 / bec 파일 불러오기, excel 파일의 두번째 sheet\n",
    "hs17_bec = pd.read_excel('D:\\project02\\BEC5Correlations\\HS2012-17-BEC5 -- 08 Nov 2018.xlsx'\n",
    "                       , sheet_name = \"HS17BEC5\")\n",
    "\n",
    "# hs4, hs6, bec, bec processing, bec specitication 목록만 별도로 추출\n",
    "hs17_bec = hs17_bec[['HS4','HS6','BEC5Code1']]\n",
    "\n",
    "# hs code -> code 이름변경\n",
    "hs17_bec.rename(columns={'HS4':'HS4', 'HS6':'HS', 'BEC5Code1':'BEC', }, inplace=True)\n",
    "\n",
    "# 6자리 맞춰주기 / str로 바꾼뒤 앞에 0붙여줌\n",
    "hs17_bec['HS'] = hs17_bec['HS'].astype('str')\n",
    "hs17_bec['HS'] = hs17_bec['HS'].str.zfill(width=6)"
   ]
  },
  {
   "cell_type": "code",
   "execution_count": 3,
   "metadata": {},
   "outputs": [],
   "source": [
    "# hs6_12  코드 가져오기\n",
    "# hs6_12 / bec 파일 불러오기, excel 파일의 첫번째 sheet\n",
    "hs12_bec = pd.read_excel('D:\\project02\\BEC5Correlations\\HS2012-17-BEC5 -- 08 Nov 2018.xlsx'\n",
    "                       , sheet_name = \"HS12BEC5\")\n",
    "\n",
    "#  hs6, bec 목록만 별도로 추출\n",
    "hs12_bec = hs12_bec[['HS6','BEC5Code1']]\n",
    "\n",
    "# hs code -> code 이름변경\n",
    "hs12_bec.rename(columns={'HS6':'HS', 'BEC5Code1':'BEC'}, inplace=True)\n",
    "\n",
    "# 6자리 맞춰주기 / str로 바꾼뒤 앞에 0붙여줌\n",
    "hs12_bec['HS'] = hs12_bec['HS'].astype('str')\n",
    "hs12_bec['HS'] = hs12_bec['HS'].str.zfill(width=6)"
   ]
  },
  {
   "cell_type": "code",
   "execution_count": 4,
   "metadata": {},
   "outputs": [
    {
     "data": {
      "text/plain": [
       "HS4    5387\n",
       "HS     5468\n",
       "BEC    5466\n",
       "dtype: int64"
      ]
     },
     "execution_count": 4,
     "metadata": {},
     "output_type": "execute_result"
    }
   ],
   "source": [
    "# hs6_17, hs6_12 데이터 프레임 합치기\n",
    "hs6_bec = pd.concat([hs17_bec, hs12_bec], ignore_index = True)\n",
    "hs6_bec.count() #10410\n",
    "\n",
    "# 같은 값을 가지고 있는 hs6코드 제거하기\n",
    "hs6_bec.drop_duplicates(['HS'], inplace = True)\n",
    "# hs6_bec.count() # 5205\n",
    "hs6_bec.count() #5205"
   ]
  },
  {
   "cell_type": "code",
   "execution_count": 5,
   "metadata": {},
   "outputs": [
    {
     "name": "stderr",
     "output_type": "stream",
     "text": [
      "C:\\Users\\USER\\AppData\\Local\\Temp\\ipykernel_10636\\3824369039.py:4: SettingWithCopyWarning: \n",
      "A value is trying to be set on a copy of a slice from a DataFrame\n",
      "\n",
      "See the caveats in the documentation: https://pandas.pydata.org/pandas-docs/stable/user_guide/indexing.html#returning-a-view-versus-a-copy\n",
      "  hs4_bec.dropna(axis=0, inplace= True)\n",
      "C:\\Users\\USER\\AppData\\Local\\Temp\\ipykernel_10636\\3824369039.py:6: SettingWithCopyWarning: \n",
      "A value is trying to be set on a copy of a slice from a DataFrame.\n",
      "Try using .loc[row_indexer,col_indexer] = value instead\n",
      "\n",
      "See the caveats in the documentation: https://pandas.pydata.org/pandas-docs/stable/user_guide/indexing.html#returning-a-view-versus-a-copy\n",
      "  hs4_bec['HS4'] = hs4_bec['HS4'].astype('int')\n",
      "C:\\Users\\USER\\AppData\\Local\\Temp\\ipykernel_10636\\3824369039.py:7: SettingWithCopyWarning: \n",
      "A value is trying to be set on a copy of a slice from a DataFrame.\n",
      "Try using .loc[row_indexer,col_indexer] = value instead\n",
      "\n",
      "See the caveats in the documentation: https://pandas.pydata.org/pandas-docs/stable/user_guide/indexing.html#returning-a-view-versus-a-copy\n",
      "  hs4_bec['BEC'] = hs4_bec['BEC'].astype('float')\n"
     ]
    }
   ],
   "source": [
    "hs4_bec = hs6_bec[['HS4','BEC']]\n",
    "\n",
    "# hs4, bec코드 정리\n",
    "hs4_bec.dropna(axis=0, inplace= True)\n",
    "\n",
    "hs4_bec['HS4'] = hs4_bec['HS4'].astype('int')\n",
    "hs4_bec['BEC'] = hs4_bec['BEC'].astype('float')"
   ]
  },
  {
   "cell_type": "code",
   "execution_count": 6,
   "metadata": {},
   "outputs": [
    {
     "name": "stderr",
     "output_type": "stream",
     "text": [
      "C:\\Users\\USER\\AppData\\Local\\Temp\\ipykernel_10636\\3660198201.py:9: SettingWithCopyWarning: \n",
      "A value is trying to be set on a copy of a slice from a DataFrame\n",
      "\n",
      "See the caveats in the documentation: https://pandas.pydata.org/pandas-docs/stable/user_guide/indexing.html#returning-a-view-versus-a-copy\n",
      "  hs4.drop_duplicates(inplace=True)\n"
     ]
    }
   ],
   "source": [
    "#### HS4 코드로 BEC NaN값 채우기\n",
    "\n",
    "# 순수한 hs4코드를 모은 데이터베이스 만들기\n",
    "\n",
    "# hs4_bec에서 hs4코드만 추출\n",
    "hs4 = hs4_bec['HS4']\n",
    "\n",
    "# hs4와 bec 값이 중복되는 행 제거\n",
    "hs4.drop_duplicates(inplace=True)\n",
    "\n",
    "# hs4 데이터프레임으로 형변환\n",
    "hs4 = hs4.to_frame()\n",
    "\n",
    "# 인덱스 초기화\n",
    "hs4.reset_index(inplace=True)"
   ]
  },
  {
   "cell_type": "code",
   "execution_count": 7,
   "metadata": {},
   "outputs": [
    {
     "name": "stderr",
     "output_type": "stream",
     "text": [
      "C:\\Users\\USER\\AppData\\Local\\Temp\\ipykernel_10636\\854863975.py:3: SettingWithCopyWarning: \n",
      "A value is trying to be set on a copy of a slice from a DataFrame\n",
      "\n",
      "See the caveats in the documentation: https://pandas.pydata.org/pandas-docs/stable/user_guide/indexing.html#returning-a-view-versus-a-copy\n",
      "  hs4_bec.loc[3513,'HS4'] = 0\n"
     ]
    }
   ],
   "source": [
    "# hs4에 대하여 bec 코드가 없는 행\n",
    "# bec 값에 0\n",
    "hs4_bec.loc[3513,'HS4'] = 0\n",
    "hs4_bec.loc[3542,'HS4'] = 0"
   ]
  },
  {
   "cell_type": "code",
   "execution_count": 8,
   "metadata": {},
   "outputs": [],
   "source": [
    "# hs4와 bec 사전 만들기\n",
    "\n",
    "from collections import defaultdict\n",
    "hs4_dict = defaultdict(list)\n",
    "    \n",
    "hs4_bec.loc[0, 'HS4']\n",
    "for i in range(len(hs4)) :  # hs4코드만 있는 데이터 프레임 #1222개\n",
    "    hs4Temp = hs4.loc[i, 'HS4']\n",
    "    for j in range(len(hs4_bec)):   #hs4와 bec 코드가 함께 있음 # 5387개\n",
    "        hsbecTemp = hs4_bec.loc[j, 'HS4']\n",
    "        if hs4Temp == hsbecTemp and hs4_bec.loc[j, 'BEC'] not in hs4_dict[hs4Temp]:\n",
    "            hs4_dict[hs4Temp].append(hs4_bec.loc[j, 'BEC'])\n",
    "        pass"
   ]
  },
  {
   "cell_type": "code",
   "execution_count": 9,
   "metadata": {},
   "outputs": [],
   "source": [
    "# 사전저장\n",
    "import pickle\n",
    "with open('./hs4_bec.pkl', 'wb') as f:\n",
    "    pickle.dump(hs4_dict,f)"
   ]
  },
  {
   "cell_type": "code",
   "execution_count": 10,
   "metadata": {},
   "outputs": [],
   "source": [
    "# 사전 불러오기\n",
    "with open('./hs4_bec.pkl', 'rb') as f:\n",
    "    hs4_dict = pickle.load(f)"
   ]
  },
  {
   "cell_type": "code",
   "execution_count": 11,
   "metadata": {},
   "outputs": [],
   "source": [
    "# hs6_bec 파일 저장\n",
    "hs6_bec.to_csv('./hs6_bec.csv')\n",
    "\n",
    "# hs4 파일 저장\n",
    "hs4.to_csv('./hs4.csv')\n",
    "\n",
    "# hs_bec 파일 저장\n",
    "hs4_bec.to_csv('./hs4_bec.csv')\n"
   ]
  }
 ],
 "metadata": {
  "kernelspec": {
   "display_name": "Python 3.9.0 64-bit",
   "language": "python",
   "name": "python3"
  },
  "language_info": {
   "codemirror_mode": {
    "name": "ipython",
    "version": 3
   },
   "file_extension": ".py",
   "mimetype": "text/x-python",
   "name": "python",
   "nbconvert_exporter": "python",
   "pygments_lexer": "ipython3",
   "version": "3.9.0"
  },
  "orig_nbformat": 4,
  "vscode": {
   "interpreter": {
    "hash": "1d5c1156327dacead463cc502c55ebae8ce9c8c01979cf154173ff808e75bf55"
   }
  }
 },
 "nbformat": 4,
 "nbformat_minor": 2
}
