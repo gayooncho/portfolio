{
 "cells": [
  {
   "cell_type": "code",
   "execution_count": 1,
   "metadata": {},
   "outputs": [],
   "source": [
    "# 폴더 내에 파일 리스트를 files에 할당\n",
    "import os\n",
    "import pandas as pd\n",
    "files = os.listdir('C:/project2/Python/finish/')\n",
    "\n",
    "file_name = []\n",
    "# files 리스트 요소를 ,로 스플릿한 후 앞 요소만 가져오기\n",
    "for i in range(len(files)):\n",
    "    file_name.append(files[i].split('.')[0])\n",
    "    globals()[files[i].split('.')[0]] = pd.read_csv(f'C:/project2/Python/finish/{files[i]}')\n",
    "    \n",
    "    "
   ]
  },
  {
   "cell_type": "code",
   "execution_count": 2,
   "metadata": {},
   "outputs": [],
   "source": [
    "df_list = []\n",
    "\n",
    "for df in file_name:      \n",
    "    df = globals()[df]\n",
    "    df_list.append(df)"
   ]
  },
  {
   "cell_type": "code",
   "execution_count": 3,
   "metadata": {},
   "outputs": [],
   "source": [
    "df_index = []\n",
    "for df in df_list:\n",
    "    df_file = df\n",
    "    df_index.append(df_file.set_index('BEC'))"
   ]
  },
  {
   "cell_type": "code",
   "execution_count": 4,
   "metadata": {},
   "outputs": [],
   "source": [
    "# 데이터 자르기 A 나라별 import 국가 데이터만 자르기\n",
    "df_cut = []\n",
    "\n",
    "for cut in df_index:\n",
    "    data_cut = cut.iloc[:, [0, 1, 2, 3, 4, 5, 6, 7, 8, 9, -1]]\n",
    "    df_cut.append(data_cut)"
   ]
  },
  {
   "cell_type": "code",
   "execution_count": 5,
   "metadata": {},
   "outputs": [],
   "source": [
    "vietnam_2012 = pd.DataFrame({'2012_USD': [0], 'country' : \"[A]\"})\n",
    "vietnam_2013 = pd.DataFrame({'2013_USD': [0], 'country' : \"[A]\"})\n",
    "vietnam_2014 = pd.DataFrame({'2014_USD': [0], 'country' : \"[A]\"})\n",
    "vietnam_2015 = pd.DataFrame({'2015_USD': [0], 'country' : \"[A]\"})\n",
    "vietnam_2016 = pd.DataFrame({'2016_USD': [0], 'country' : \"[A]\"})\n",
    "vietnam_2017 = pd.DataFrame({'2017_USD': [0], 'country' : \"[A]\"})\n",
    "vietnam_2018 = pd.DataFrame({'2018_USD': [0], 'country' : \"[A]\"})\n",
    "vietnam_2019 = pd.DataFrame({'2019_USD': [0], 'country' : \"[A]\"})\n",
    "vietnam_2020 = pd.DataFrame({'2020_USD': [0], 'country' : \"[A]\"})\n",
    "vietnam_2021 = pd.DataFrame({'2021_USD': [0], 'country' : \"[A]\"})"
   ]
  },
  {
   "cell_type": "code",
   "execution_count": 6,
   "metadata": {},
   "outputs": [],
   "source": [
    "# 22, 33 germany\n",
    "# 33, 44 vietnam\n",
    "# 44, 55 vietnam\n",
    "# 55, 66 vietnam\n",
    "# 66, 77 vietnam\n",
    "# 77, 88 vietnam\n",
    "# 88, 99 vietnam\n",
    "# 99, 110 vietnam\n",
    "# 110, 121 vietnam\n",
    "# 121, 132 vietnam\n",
    "\n",
    "for i in range(121,132):\n",
    "    # vietnam_2012 = pd.merge(vietnam_2012, df_cut[i].iloc[:, [0, -1]], how = \"outer\")\n",
    "    df_cut[i].columns = ['2012_USD','2013_USD','2014_USD','2015_USD','2016_USD','2017_USD','2018_USD','2019_USD','2020_USD','2021_USD', 'country']\n",
    "    vietnam_2012 = pd.concat([vietnam_2012, df_cut[i].iloc[:, [0, -1]]], axis = 0)\n",
    "    vietnam_2013 = pd.concat([vietnam_2013, df_cut[i].iloc[:, [1, -1]]], axis = 0)\n",
    "    vietnam_2014 = pd.concat([vietnam_2014, df_cut[i].iloc[:, [2, -1]]], axis = 0)\n",
    "    vietnam_2015 = pd.concat([vietnam_2015, df_cut[i].iloc[:, [3, -1]]], axis = 0)\n",
    "    vietnam_2016 = pd.concat([vietnam_2016, df_cut[i].iloc[:, [4, -1]]], axis = 0)\n",
    "    vietnam_2017 = pd.concat([vietnam_2017, df_cut[i].iloc[:, [5, -1]]], axis = 0)\n",
    "    vietnam_2018 = pd.concat([vietnam_2018, df_cut[i].iloc[:, [6, -1]]], axis = 0)\n",
    "    vietnam_2019 = pd.concat([vietnam_2019, df_cut[i].iloc[:, [7, -1]]], axis = 0)\n",
    "    vietnam_2020 = pd.concat([vietnam_2020, df_cut[i].iloc[:, [8, -1]]], axis = 0)\n",
    "    vietnam_2021 = pd.concat([vietnam_2021, df_cut[i].iloc[:, [9, -1]]], axis = 0)\n",
    "\n"
   ]
  },
  {
   "cell_type": "code",
   "execution_count": 7,
   "metadata": {},
   "outputs": [],
   "source": [
    "all_datas = [vietnam_2012, vietnam_2013, vietnam_2014, vietnam_2015, vietnam_2016, vietnam_2017, \n",
    "             vietnam_2018,vietnam_2019, vietnam_2020, vietnam_2021]\n",
    "\n",
    "drop_list = [0.0]\n",
    "\n",
    "final_list = []\n",
    "for df in all_datas:\n",
    "    final_df = pd.DataFrame(df.drop(drop_list, axis='rows'))\n",
    "    final_df = final_df.reset_index()\n",
    "    final_df.rename(columns = {'index' : 'BEC'})\n",
    "    # print(final_df)\n",
    "    final_list.append(final_df)"
   ]
  },
  {
   "cell_type": "code",
   "execution_count": 8,
   "metadata": {},
   "outputs": [],
   "source": [
    "country_list = [\"vietnam\"]\n",
    "year_list = ['2012', '2013', '2014', '2015', '2016', '2017', '2018', '2019', '2020', '2021']\n",
    "file_name_list = []\n",
    "for i in country_list:\n",
    "    for j in year_list:\n",
    "        file_name_a = i + j + '.csv'\n",
    "        file_name_list.append(file_name_a)"
   ]
  },
  {
   "cell_type": "code",
   "execution_count": 9,
   "metadata": {},
   "outputs": [],
   "source": [
    "# file_name_list"
   ]
  },
  {
   "cell_type": "code",
   "execution_count": 10,
   "metadata": {},
   "outputs": [],
   "source": [
    "for i in range(len(file_name_list)):\n",
    "    # files_save = files[i]\n",
    "    df_save = final_list[i]\n",
    "    df_save.to_csv('./map/' + file_name_list[i])"
   ]
  }
 ],
 "metadata": {
  "kernelspec": {
   "display_name": "Python 3.10.4 64-bit",
   "language": "python",
   "name": "python3"
  },
  "language_info": {
   "codemirror_mode": {
    "name": "ipython",
    "version": 3
   },
   "file_extension": ".py",
   "mimetype": "text/x-python",
   "name": "python",
   "nbconvert_exporter": "python",
   "pygments_lexer": "ipython3",
   "version": "3.10.4"
  },
  "orig_nbformat": 4,
  "vscode": {
   "interpreter": {
    "hash": "0406d19bda1fbea09f583b3d3e71462aea9da7cbc837a10ade34850525f7fa2f"
   }
  }
 },
 "nbformat": 4,
 "nbformat_minor": 2
}
