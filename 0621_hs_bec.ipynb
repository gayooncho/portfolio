{
 "cells": [
  {
   "cell_type": "code",
   "execution_count": 1,
   "metadata": {},
   "outputs": [],
   "source": [
    "import numpy as np\n",
    "import pandas as pd"
   ]
  },
  {
   "cell_type": "code",
   "execution_count": 2,
   "metadata": {},
   "outputs": [
    {
     "data": {
      "text/html": [
       "<div>\n",
       "<style scoped>\n",
       "    .dataframe tbody tr th:only-of-type {\n",
       "        vertical-align: middle;\n",
       "    }\n",
       "\n",
       "    .dataframe tbody tr th {\n",
       "        vertical-align: top;\n",
       "    }\n",
       "\n",
       "    .dataframe thead th {\n",
       "        text-align: right;\n",
       "    }\n",
       "</style>\n",
       "<table border=\"1\" class=\"dataframe\">\n",
       "  <thead>\n",
       "    <tr style=\"text-align: right;\">\n",
       "      <th></th>\n",
       "      <th>HS4</th>\n",
       "      <th>HS</th>\n",
       "      <th>BEC</th>\n",
       "      <th>BEC_Pro</th>\n",
       "      <th>BEC_Spec</th>\n",
       "    </tr>\n",
       "  </thead>\n",
       "  <tbody>\n",
       "    <tr>\n",
       "      <th>0</th>\n",
       "      <td>101.0</td>\n",
       "      <td>10121.0</td>\n",
       "      <td>712010.0</td>\n",
       "      <td>NaN</td>\n",
       "      <td>GENERIC</td>\n",
       "    </tr>\n",
       "    <tr>\n",
       "      <th>1</th>\n",
       "      <td>101.0</td>\n",
       "      <td>10129.0</td>\n",
       "      <td>1111.0</td>\n",
       "      <td>PRIMARY</td>\n",
       "      <td>NaN</td>\n",
       "    </tr>\n",
       "    <tr>\n",
       "      <th>2</th>\n",
       "      <td>101.0</td>\n",
       "      <td>10130.0</td>\n",
       "      <td>1111.0</td>\n",
       "      <td>PRIMARY</td>\n",
       "      <td>NaN</td>\n",
       "    </tr>\n",
       "    <tr>\n",
       "      <th>3</th>\n",
       "      <td>101.0</td>\n",
       "      <td>10190.0</td>\n",
       "      <td>1111.0</td>\n",
       "      <td>PRIMARY</td>\n",
       "      <td>NaN</td>\n",
       "    </tr>\n",
       "    <tr>\n",
       "      <th>4</th>\n",
       "      <td>102.0</td>\n",
       "      <td>10221.0</td>\n",
       "      <td>112010.0</td>\n",
       "      <td>NaN</td>\n",
       "      <td>GENERIC</td>\n",
       "    </tr>\n",
       "  </tbody>\n",
       "</table>\n",
       "</div>"
      ],
      "text/plain": [
       "     HS4       HS       BEC  BEC_Pro BEC_Spec\n",
       "0  101.0  10121.0  712010.0      NaN  GENERIC\n",
       "1  101.0  10129.0    1111.0  PRIMARY      NaN\n",
       "2  101.0  10130.0    1111.0  PRIMARY      NaN\n",
       "3  101.0  10190.0    1111.0  PRIMARY      NaN\n",
       "4  102.0  10221.0  112010.0      NaN  GENERIC"
      ]
     },
     "execution_count": 2,
     "metadata": {},
     "output_type": "execute_result"
    }
   ],
   "source": [
    "# hs, bec 파일 불러오기\n",
    "hs_bec = pd.read_csv('C:\\project2\\BEC5Correlations\\통합 문서1.csv')\n",
    "hs_bec = hs_bec[['HS4','HS6','BEC5Code1', 'BEC5Processing', 'BEC5Specification']]\n",
    "\n",
    "# hs code -> code 이름변경\n",
    "hs_bec.rename(columns={'HS4':'HS4', 'HS6':'HS', 'BEC5Code1':'BEC', 'BEC5Processing':'BEC_Pro', 'BEC5Specification':'BEC_Spec'}, inplace=True)\n",
    "hs_bec.head()\n",
    "# hs_bec.size\n",
    "# hs_bec.info()"
   ]
  },
  {
   "cell_type": "code",
   "execution_count": 3,
   "metadata": {},
   "outputs": [],
   "source": [
    "hs_bec.to_csv('./hs_bec.csv')"
   ]
  },
  {
   "cell_type": "code",
   "execution_count": 4,
   "metadata": {},
   "outputs": [
    {
     "data": {
      "text/html": [
       "<div>\n",
       "<style scoped>\n",
       "    .dataframe tbody tr th:only-of-type {\n",
       "        vertical-align: middle;\n",
       "    }\n",
       "\n",
       "    .dataframe tbody tr th {\n",
       "        vertical-align: top;\n",
       "    }\n",
       "\n",
       "    .dataframe thead th {\n",
       "        text-align: right;\n",
       "    }\n",
       "</style>\n",
       "<table border=\"1\" class=\"dataframe\">\n",
       "  <thead>\n",
       "    <tr style=\"text-align: right;\">\n",
       "      <th></th>\n",
       "      <th>HS</th>\n",
       "      <th>Product label</th>\n",
       "      <th>Exported value in 2012</th>\n",
       "      <th>Exported value in 2013</th>\n",
       "      <th>Exported value in 2014</th>\n",
       "      <th>Exported value in 2015</th>\n",
       "      <th>Exported value in 2016</th>\n",
       "      <th>Exported value in 2017</th>\n",
       "      <th>Exported value in 2018</th>\n",
       "      <th>Exported value in 2019</th>\n",
       "      <th>Exported value in 2020</th>\n",
       "      <th>Exported value in 2021</th>\n",
       "      <th>Unnamed: 12</th>\n",
       "    </tr>\n",
       "  </thead>\n",
       "  <tbody>\n",
       "    <tr>\n",
       "      <th>0</th>\n",
       "      <td>TOTAL</td>\n",
       "      <td>All products</td>\n",
       "      <td>547854448</td>\n",
       "      <td>559648708</td>\n",
       "      <td>573091134</td>\n",
       "      <td>526900733</td>\n",
       "      <td>495465606</td>\n",
       "      <td>573716618</td>\n",
       "      <td>605169190</td>\n",
       "      <td>542333337</td>\n",
       "      <td>512788606</td>\n",
       "      <td>644438622</td>\n",
       "      <td>NaN</td>\n",
       "    </tr>\n",
       "    <tr>\n",
       "      <th>1</th>\n",
       "      <td>854232</td>\n",
       "      <td>Electronic integrated circuits as memories</td>\n",
       "      <td>16611973</td>\n",
       "      <td>21964136</td>\n",
       "      <td>28849532</td>\n",
       "      <td>28856912</td>\n",
       "      <td>31612095</td>\n",
       "      <td>60506974</td>\n",
       "      <td>83048246</td>\n",
       "      <td>53163163</td>\n",
       "      <td>52359154</td>\n",
       "      <td>69177215</td>\n",
       "      <td>NaN</td>\n",
       "    </tr>\n",
       "    <tr>\n",
       "      <th>2</th>\n",
       "      <td>854231</td>\n",
       "      <td>Electronic integrated circuits as processors a...</td>\n",
       "      <td>21228826</td>\n",
       "      <td>20702672</td>\n",
       "      <td>18514980</td>\n",
       "      <td>19887934</td>\n",
       "      <td>17066083</td>\n",
       "      <td>21362697</td>\n",
       "      <td>22100868</td>\n",
       "      <td>20681846</td>\n",
       "      <td>23516687</td>\n",
       "      <td>30406085</td>\n",
       "      <td>NaN</td>\n",
       "    </tr>\n",
       "    <tr>\n",
       "      <th>3</th>\n",
       "      <td>271019</td>\n",
       "      <td>Medium oils and preparations, of petroleum or ...</td>\n",
       "      <td>43536414</td>\n",
       "      <td>39290957</td>\n",
       "      <td>37799193</td>\n",
       "      <td>22784332</td>\n",
       "      <td>18938588</td>\n",
       "      <td>25256941</td>\n",
       "      <td>34171305</td>\n",
       "      <td>29751793</td>\n",
       "      <td>17844010</td>\n",
       "      <td>26178125</td>\n",
       "      <td>NaN</td>\n",
       "    </tr>\n",
       "    <tr>\n",
       "      <th>4</th>\n",
       "      <td>870323</td>\n",
       "      <td>Motor cars and other motor vehicles principall...</td>\n",
       "      <td>27767857</td>\n",
       "      <td>27237499</td>\n",
       "      <td>27337065</td>\n",
       "      <td>24060624</td>\n",
       "      <td>22007933</td>\n",
       "      <td>19133730</td>\n",
       "      <td>19612091</td>\n",
       "      <td>19701460</td>\n",
       "      <td>15352522</td>\n",
       "      <td>16416185</td>\n",
       "      <td>NaN</td>\n",
       "    </tr>\n",
       "  </tbody>\n",
       "</table>\n",
       "</div>"
      ],
      "text/plain": [
       "       HS                                      Product label  \\\n",
       "0   TOTAL                                       All products   \n",
       "1  854232         Electronic integrated circuits as memories   \n",
       "2  854231  Electronic integrated circuits as processors a...   \n",
       "3  271019  Medium oils and preparations, of petroleum or ...   \n",
       "4  870323  Motor cars and other motor vehicles principall...   \n",
       "\n",
       "   Exported value in 2012  Exported value in 2013  Exported value in 2014  \\\n",
       "0               547854448               559648708               573091134   \n",
       "1                16611973                21964136                28849532   \n",
       "2                21228826                20702672                18514980   \n",
       "3                43536414                39290957                37799193   \n",
       "4                27767857                27237499                27337065   \n",
       "\n",
       "   Exported value in 2015  Exported value in 2016  Exported value in 2017  \\\n",
       "0               526900733               495465606               573716618   \n",
       "1                28856912                31612095                60506974   \n",
       "2                19887934                17066083                21362697   \n",
       "3                22784332                18938588                25256941   \n",
       "4                24060624                22007933                19133730   \n",
       "\n",
       "   Exported value in 2018  Exported value in 2019  Exported value in 2020  \\\n",
       "0               605169190               542333337               512788606   \n",
       "1                83048246                53163163                52359154   \n",
       "2                22100868                20681846                23516687   \n",
       "3                34171305                29751793                17844010   \n",
       "4                19612091                19701460                15352522   \n",
       "\n",
       "   Exported value in 2021  Unnamed: 12  \n",
       "0               644438622          NaN  \n",
       "1                69177215          NaN  \n",
       "2                30406085          NaN  \n",
       "3                26178125          NaN  \n",
       "4                16416185          NaN  "
      ]
     },
     "execution_count": 4,
     "metadata": {},
     "output_type": "execute_result"
    }
   ],
   "source": [
    "# 한국 수입 품목\n",
    "korea_exported_list = pd.read_table('C:\\project2\\Trade_map_List_of_products_exported_and_imported\\Trade_Map_-_List_of_products_exported_by_Korea__Republic_of.txt', sep = '\\t')\n",
    "korea_exported_list.rename(columns={'Code':'HS'}, inplace=True)\n",
    "korea_exported_list.head()"
   ]
  },
  {
   "cell_type": "code",
   "execution_count": 5,
   "metadata": {},
   "outputs": [
    {
     "data": {
      "text/plain": [
       "HS                           0\n",
       "Product label                0\n",
       "Exported value in 2012       0\n",
       "Exported value in 2013       0\n",
       "Exported value in 2014       0\n",
       "Exported value in 2015       0\n",
       "Exported value in 2016       0\n",
       "Exported value in 2017       0\n",
       "Exported value in 2018       0\n",
       "Exported value in 2019       0\n",
       "Exported value in 2020       0\n",
       "Exported value in 2021       0\n",
       "Unnamed: 12               5977\n",
       "HS4                        814\n",
       "BEC                        816\n",
       "BEC_Pro                   1512\n",
       "BEC_Spec                  2493\n",
       "dtype: int64"
      ]
     },
     "execution_count": 5,
     "metadata": {},
     "output_type": "execute_result"
    }
   ],
   "source": [
    "# code에 total 000000 으로 바꿔주기\n",
    "korea_exported_list.loc[0, 'HS'] = 000000\n",
    "\n",
    "korea_exported_list['HS'] = pd.to_numeric(korea_exported_list['HS'])\n",
    "\n",
    "# korea_list.info()\n",
    "\n",
    "# hs_bec.dtypes\n",
    "\n",
    "korea_exported_list = pd.merge(korea_exported_list, hs_bec, how='left', on='HS')\n",
    "korea_exported_list.isnull().sum()\n"
   ]
  },
  {
   "cell_type": "code",
   "execution_count": 6,
   "metadata": {},
   "outputs": [
    {
     "data": {
      "text/plain": [
       "HS                           0\n",
       "Product label                0\n",
       "Exported value in 2012       0\n",
       "Exported value in 2013       0\n",
       "Exported value in 2014       0\n",
       "Exported value in 2015       0\n",
       "Exported value in 2016       0\n",
       "Exported value in 2017       0\n",
       "Exported value in 2018       0\n",
       "Exported value in 2019       0\n",
       "Exported value in 2020       0\n",
       "Exported value in 2021       0\n",
       "Unnamed: 12               5016\n",
       "HS4                          2\n",
       "BEC                          4\n",
       "BEC_Pro                    694\n",
       "BEC_Spec                  1592\n",
       "dtype: int64"
      ]
     },
     "execution_count": 6,
     "metadata": {},
     "output_type": "execute_result"
    }
   ],
   "source": [
    "# no_exported_id = korea_exported_list[(korea_exported_list['Exported value in 2012'] == 0)\n",
    "#                     & (korea_exported_list['Exported value in 2013'] == 0)\n",
    "#                     & (korea_exported_list['Exported value in 2014'] == 0)\n",
    "#                     & (korea_exported_list['Exported value in 2015'] == 0)\n",
    "#                     & (korea_exported_list['Exported value in 2016'] == 0)\n",
    "#                     & (korea_exported_list['Exported value in 2017'] == 0)\n",
    "#                     & (korea_exported_list['Exported value in 2018'] == 0)\n",
    "#                     & (korea_exported_list['Exported value in 2019'] == 0)\n",
    "#                     & (korea_exported_list['Exported value in 2020'] == 0)\n",
    "#                     & (korea_exported_list['Exported value in 2021'] == 0)].index\n",
    "\n",
    "no_exported_id = korea_exported_list[(korea_exported_list['Exported value in 2017'] == 0)\n",
    "                    & (korea_exported_list['Exported value in 2018'] == 0)\n",
    "                    & (korea_exported_list['Exported value in 2019'] == 0)\n",
    "                    & (korea_exported_list['Exported value in 2020'] == 0)\n",
    "                    & (korea_exported_list['Exported value in 2021'] == 0)].index\n",
    "\n",
    "# 거래품목 없는 인덱스 제거\n",
    "korea_exported_list = korea_exported_list.drop(no_exported_id)\n",
    "korea_exported_list.isnull().sum()"
   ]
  },
  {
   "cell_type": "code",
   "execution_count": 7,
   "metadata": {},
   "outputs": [
    {
     "data": {
      "text/plain": [
       "HS                           0\n",
       "Product label                0\n",
       "Exported value in 2012       0\n",
       "Exported value in 2013       0\n",
       "Exported value in 2014       0\n",
       "Exported value in 2015       0\n",
       "Exported value in 2016       0\n",
       "Exported value in 2017       0\n",
       "Exported value in 2018       0\n",
       "Exported value in 2019       0\n",
       "Exported value in 2020       0\n",
       "Exported value in 2021       0\n",
       "Unnamed: 12               5016\n",
       "HS4                          2\n",
       "BEC                          4\n",
       "BEC_Pro                    694\n",
       "BEC_Spec                  1592\n",
       "dtype: int64"
      ]
     },
     "execution_count": 7,
     "metadata": {},
     "output_type": "execute_result"
    }
   ],
   "source": [
    "korea_exported_list.isnull().sum()"
   ]
  },
  {
   "cell_type": "code",
   "execution_count": 8,
   "metadata": {},
   "outputs": [
    {
     "name": "stdout",
     "output_type": "stream",
     "text": [
      "<class 'pandas.core.frame.DataFrame'>\n",
      "Int64Index: 5016 entries, 0 to 5972\n",
      "Data columns (total 17 columns):\n",
      " #   Column                  Non-Null Count  Dtype  \n",
      "---  ------                  --------------  -----  \n",
      " 0   HS                      5016 non-null   object \n",
      " 1   Product label           5016 non-null   object \n",
      " 2   Exported value in 2012  5016 non-null   int64  \n",
      " 3   Exported value in 2013  5016 non-null   int64  \n",
      " 4   Exported value in 2014  5016 non-null   int64  \n",
      " 5   Exported value in 2015  5016 non-null   int64  \n",
      " 6   Exported value in 2016  5016 non-null   int64  \n",
      " 7   Exported value in 2017  5016 non-null   int64  \n",
      " 8   Exported value in 2018  5016 non-null   int64  \n",
      " 9   Exported value in 2019  5016 non-null   int64  \n",
      " 10  Exported value in 2020  5016 non-null   int64  \n",
      " 11  Exported value in 2021  5016 non-null   int64  \n",
      " 12  Unnamed: 12             0 non-null      float64\n",
      " 13  HS4                     5014 non-null   float64\n",
      " 14  BEC                     5012 non-null   float64\n",
      " 15  BEC_Pro                 4322 non-null   object \n",
      " 16  BEC_Spec                3424 non-null   object \n",
      "dtypes: float64(3), int64(10), object(4)\n",
      "memory usage: 705.4+ KB\n"
     ]
    }
   ],
   "source": [
    "### 왜 안될까 ㅠㅠㅠㅠㅠㅠㅠㅠ\n",
    "# # 데이터 타입 str로 변경\n",
    "korea_exported_list['HS'] = korea_exported_list['HS'].astype('str')\n",
    "korea_exported_list.head()\n",
    "korea_exported_list.info()"
   ]
  },
  {
   "cell_type": "code",
   "execution_count": 9,
   "metadata": {},
   "outputs": [],
   "source": [
    "korea_exported_list['HS4'] = korea_exported_list['HS'].str.slice(0, 4)\n",
    "\n",
    "# bec_null.info()\n",
    "\n",
    "# 4개 자르기\n",
    "# bec_null['HS4'] = bec_null['HS'].str[:4]\n",
    "# korea_exported_list.head()\n",
    "# korea_exported_list.info()"
   ]
  },
  {
   "cell_type": "code",
   "execution_count": 37,
   "metadata": {},
   "outputs": [
    {
     "data": {
      "text/plain": [
       "HS                           0\n",
       "Product label                0\n",
       "Exported value in 2012       0\n",
       "Exported value in 2013       0\n",
       "Exported value in 2014       0\n",
       "Exported value in 2015       0\n",
       "Exported value in 2016       0\n",
       "Exported value in 2017       0\n",
       "Exported value in 2018       0\n",
       "Exported value in 2019       0\n",
       "Exported value in 2020       0\n",
       "Exported value in 2021       0\n",
       "Unnamed: 12               5016\n",
       "HS4                          0\n",
       "BEC                          3\n",
       "BEC_Pro                    694\n",
       "BEC_Spec                  1592\n",
       "dtype: int64"
      ]
     },
     "execution_count": 37,
     "metadata": {},
     "output_type": "execute_result"
    }
   ],
   "source": [
    "korea_exported_list.isnull().sum()"
   ]
  },
  {
   "cell_type": "code",
   "execution_count": 11,
   "metadata": {},
   "outputs": [
    {
     "name": "stderr",
     "output_type": "stream",
     "text": [
      "C:\\Users\\user\\AppData\\Local\\Temp\\ipykernel_20576\\767663303.py:22: SettingWithCopyWarning: \n",
      "A value is trying to be set on a copy of a slice from a DataFrame\n",
      "\n",
      "See the caveats in the documentation: https://pandas.pydata.org/pandas-docs/stable/user_guide/indexing.html#returning-a-view-versus-a-copy\n",
      "  add_BEC.drop(['BEC'], axis=1, inplace=True)\n",
      "C:\\Users\\user\\AppData\\Local\\Temp\\ipykernel_20576\\767663303.py:27: SettingWithCopyWarning: \n",
      "A value is trying to be set on a copy of a slice from a DataFrame.\n",
      "Try using .loc[row_indexer,col_indexer] = value instead\n",
      "\n",
      "See the caveats in the documentation: https://pandas.pydata.org/pandas-docs/stable/user_guide/indexing.html#returning-a-view-versus-a-copy\n",
      "  add_BEC['HS'] = add_BEC['HS'].astype('float')\n",
      "C:\\Users\\user\\AppData\\Local\\Temp\\ipykernel_20576\\767663303.py:28: SettingWithCopyWarning: \n",
      "A value is trying to be set on a copy of a slice from a DataFrame.\n",
      "Try using .loc[row_indexer,col_indexer] = value instead\n",
      "\n",
      "See the caveats in the documentation: https://pandas.pydata.org/pandas-docs/stable/user_guide/indexing.html#returning-a-view-versus-a-copy\n",
      "  add_BEC['HS4'] = add_BEC['HS4'].astype('float')\n"
     ]
    },
    {
     "data": {
      "text/html": [
       "<div>\n",
       "<style scoped>\n",
       "    .dataframe tbody tr th:only-of-type {\n",
       "        vertical-align: middle;\n",
       "    }\n",
       "\n",
       "    .dataframe tbody tr th {\n",
       "        vertical-align: top;\n",
       "    }\n",
       "\n",
       "    .dataframe thead th {\n",
       "        text-align: right;\n",
       "    }\n",
       "</style>\n",
       "<table border=\"1\" class=\"dataframe\">\n",
       "  <thead>\n",
       "    <tr style=\"text-align: right;\">\n",
       "      <th></th>\n",
       "      <th>HS</th>\n",
       "      <th>BEC</th>\n",
       "    </tr>\n",
       "  </thead>\n",
       "  <tbody>\n",
       "    <tr>\n",
       "      <th>0</th>\n",
       "      <td>0.0</td>\n",
       "      <td>NaN</td>\n",
       "    </tr>\n",
       "    <tr>\n",
       "      <th>1</th>\n",
       "      <td>999999.0</td>\n",
       "      <td>NaN</td>\n",
       "    </tr>\n",
       "    <tr>\n",
       "      <th>2</th>\n",
       "      <td>711890.0</td>\n",
       "      <td>813202.0</td>\n",
       "    </tr>\n",
       "    <tr>\n",
       "      <th>3</th>\n",
       "      <td>710820.0</td>\n",
       "      <td>411210.0</td>\n",
       "    </tr>\n",
       "  </tbody>\n",
       "</table>\n",
       "</div>"
      ],
      "text/plain": [
       "         HS       BEC\n",
       "0       0.0       NaN\n",
       "1  999999.0       NaN\n",
       "2  711890.0  813202.0\n",
       "3  710820.0  411210.0"
      ]
     },
     "execution_count": 11,
     "metadata": {},
     "output_type": "execute_result"
    }
   ],
   "source": [
    "# BEC 결측치 행 추출\n",
    "add_BEC = korea_exported_list[korea_exported_list['BEC'].isnull()]\n",
    "\n",
    "# BEC 행 제거\n",
    "\n",
    "# 결측치 행에 hs4코드와 bec코드 추가?\n",
    "hs_bec.head()\n",
    "hs_bec = hs_bec[['HS4','BEC']]\n",
    "# HS4 겹치는 행제거?\n",
    "hs_bec.drop_duplicates(inplace=True)\n",
    "# hs 마지막 행 제거\n",
    "hs_bec.drop(hs_bec.tail(1).index, inplace=True)\n",
    "# hs bec 결측치 제거\n",
    "hs_bec.isnull().sum()\n",
    "hs_bec.dropna(axis=0, inplace= True)\n",
    "hs_bec.isnull().sum()\n",
    "\n",
    "\n",
    "korea_exported_list[korea_exported_list['BEC'].isnull()]\n",
    "\n",
    "# BEC 행 제거\n",
    "add_BEC.drop(['BEC'], axis=1, inplace=True)\n",
    "\n",
    "# add_BEC\n",
    "# add_BEC에 BEC코드 추가\n",
    "# korea df에 add df 추가?\n",
    "add_BEC['HS'] = add_BEC['HS'].astype('float')\n",
    "add_BEC['HS4'] = add_BEC['HS4'].astype('float')\n",
    "\n",
    "add_BEC = pd.merge(add_BEC, hs_bec, how='left', on='HS4')\n",
    "add_BEC.drop_duplicates(inplace=True)\n",
    "\n",
    "add_BEC = add_BEC[['HS','BEC']]\n",
    "add_BEC\n",
    "# add_BEC.drop(add_BEC.tail(1).index, inplace=True)\n",
    "# for tt in range(len(add_BEC)):\n",
    "#     if add_BEC.loc[tt]['HS'].isnull() == True:\n",
    "#         add_BEC.loc[tt]['BEC'] == \"0\"\n",
    "\n"
   ]
  },
  {
   "cell_type": "code",
   "execution_count": 42,
   "metadata": {},
   "outputs": [
    {
     "name": "stdout",
     "output_type": "stream",
     "text": [
      "nan\n",
      "nan\n",
      "813202.0\n"
     ]
    },
    {
     "ename": "KeyError",
     "evalue": "4701",
     "output_type": "error",
     "traceback": [
      "\u001b[1;31m---------------------------------------------------------------------------\u001b[0m",
      "\u001b[1;31mKeyError\u001b[0m                                  Traceback (most recent call last)",
      "File \u001b[1;32mc:\\bigdata\\lib\\site-packages\\pandas\\core\\indexes\\base.py:3621\u001b[0m, in \u001b[0;36mIndex.get_loc\u001b[1;34m(self, key, method, tolerance)\u001b[0m\n\u001b[0;32m   3620\u001b[0m \u001b[39mtry\u001b[39;00m:\n\u001b[1;32m-> 3621\u001b[0m     \u001b[39mreturn\u001b[39;00m \u001b[39mself\u001b[39;49m\u001b[39m.\u001b[39;49m_engine\u001b[39m.\u001b[39;49mget_loc(casted_key)\n\u001b[0;32m   3622\u001b[0m \u001b[39mexcept\u001b[39;00m \u001b[39mKeyError\u001b[39;00m \u001b[39mas\u001b[39;00m err:\n",
      "File \u001b[1;32mc:\\bigdata\\lib\\site-packages\\pandas\\_libs\\index.pyx:136\u001b[0m, in \u001b[0;36mpandas._libs.index.IndexEngine.get_loc\u001b[1;34m()\u001b[0m\n",
      "File \u001b[1;32mc:\\bigdata\\lib\\site-packages\\pandas\\_libs\\index.pyx:163\u001b[0m, in \u001b[0;36mpandas._libs.index.IndexEngine.get_loc\u001b[1;34m()\u001b[0m\n",
      "File \u001b[1;32mpandas\\_libs\\hashtable_class_helper.pxi:5198\u001b[0m, in \u001b[0;36mpandas._libs.hashtable.PyObjectHashTable.get_item\u001b[1;34m()\u001b[0m\n",
      "File \u001b[1;32mpandas\\_libs\\hashtable_class_helper.pxi:5206\u001b[0m, in \u001b[0;36mpandas._libs.hashtable.PyObjectHashTable.get_item\u001b[1;34m()\u001b[0m\n",
      "\u001b[1;31mKeyError\u001b[0m: 4701",
      "\nThe above exception was the direct cause of the following exception:\n",
      "\u001b[1;31mKeyError\u001b[0m                                  Traceback (most recent call last)",
      "\u001b[1;32mc:\\project2\\Python\\0621_hs_bec.ipynb Cell 12'\u001b[0m in \u001b[0;36m<cell line: 6>\u001b[1;34m()\u001b[0m\n\u001b[0;32m     <a href='vscode-notebook-cell:/c%3A/project2/Python/0621_hs_bec.ipynb#ch0000011?line=12'>13</a>\u001b[0m \u001b[39mif\u001b[39;00m  (hsTemp \u001b[39m>\u001b[39m \u001b[39m0\u001b[39m \u001b[39mand\u001b[39;00m becTemp \u001b[39m>\u001b[39m \u001b[39m0\u001b[39m) :\n\u001b[0;32m     <a href='vscode-notebook-cell:/c%3A/project2/Python/0621_hs_bec.ipynb#ch0000011?line=13'>14</a>\u001b[0m     \u001b[39m# korea_exported_list에서\u001b[39;00m\n\u001b[0;32m     <a href='vscode-notebook-cell:/c%3A/project2/Python/0621_hs_bec.ipynb#ch0000011?line=14'>15</a>\u001b[0m     \u001b[39mfor\u001b[39;00m tb \u001b[39min\u001b[39;00m \u001b[39mrange\u001b[39m(\u001b[39mlen\u001b[39m(korea_exported_list)):\n\u001b[0;32m     <a href='vscode-notebook-cell:/c%3A/project2/Python/0621_hs_bec.ipynb#ch0000011?line=15'>16</a>\u001b[0m         \u001b[39m# print(korea_exported_list.loc[tb, 'HS'])\u001b[39;00m\n\u001b[0;32m     <a href='vscode-notebook-cell:/c%3A/project2/Python/0621_hs_bec.ipynb#ch0000011?line=16'>17</a>\u001b[0m         \u001b[39m# add_BEC에서 korea_export BEC 값이 같다면\u001b[39;00m\n\u001b[1;32m---> <a href='vscode-notebook-cell:/c%3A/project2/Python/0621_hs_bec.ipynb#ch0000011?line=17'>18</a>\u001b[0m         \u001b[39mif\u001b[39;00m hsTemp \u001b[39m==\u001b[39m korea_exported_list\u001b[39m.\u001b[39;49mloc[tb,\u001b[39m'\u001b[39;49m\u001b[39mHS\u001b[39;49m\u001b[39m'\u001b[39;49m] :\n\u001b[0;32m     <a href='vscode-notebook-cell:/c%3A/project2/Python/0621_hs_bec.ipynb#ch0000011?line=18'>19</a>\u001b[0m             \u001b[39m# print(korea_exported_list.loc[tb,'BEC'])\u001b[39;00m\n\u001b[0;32m     <a href='vscode-notebook-cell:/c%3A/project2/Python/0621_hs_bec.ipynb#ch0000011?line=19'>20</a>\u001b[0m             korea_exported_list\u001b[39m.\u001b[39mloc[tb,\u001b[39m'\u001b[39m\u001b[39mBEC\u001b[39m\u001b[39m'\u001b[39m] \u001b[39m=\u001b[39m becTemp\n",
      "File \u001b[1;32mc:\\bigdata\\lib\\site-packages\\pandas\\core\\indexing.py:960\u001b[0m, in \u001b[0;36m_LocationIndexer.__getitem__\u001b[1;34m(self, key)\u001b[0m\n\u001b[0;32m    958\u001b[0m     key \u001b[39m=\u001b[39m \u001b[39mtuple\u001b[39m(com\u001b[39m.\u001b[39mapply_if_callable(x, \u001b[39mself\u001b[39m\u001b[39m.\u001b[39mobj) \u001b[39mfor\u001b[39;00m x \u001b[39min\u001b[39;00m key)\n\u001b[0;32m    959\u001b[0m     \u001b[39mif\u001b[39;00m \u001b[39mself\u001b[39m\u001b[39m.\u001b[39m_is_scalar_access(key):\n\u001b[1;32m--> 960\u001b[0m         \u001b[39mreturn\u001b[39;00m \u001b[39mself\u001b[39;49m\u001b[39m.\u001b[39;49mobj\u001b[39m.\u001b[39;49m_get_value(\u001b[39m*\u001b[39;49mkey, takeable\u001b[39m=\u001b[39;49m\u001b[39mself\u001b[39;49m\u001b[39m.\u001b[39;49m_takeable)\n\u001b[0;32m    961\u001b[0m     \u001b[39mreturn\u001b[39;00m \u001b[39mself\u001b[39m\u001b[39m.\u001b[39m_getitem_tuple(key)\n\u001b[0;32m    962\u001b[0m \u001b[39melse\u001b[39;00m:\n\u001b[0;32m    963\u001b[0m     \u001b[39m# we by definition only have the 0th axis\u001b[39;00m\n",
      "File \u001b[1;32mc:\\bigdata\\lib\\site-packages\\pandas\\core\\frame.py:3622\u001b[0m, in \u001b[0;36mDataFrame._get_value\u001b[1;34m(self, index, col, takeable)\u001b[0m\n\u001b[0;32m   3616\u001b[0m engine \u001b[39m=\u001b[39m \u001b[39mself\u001b[39m\u001b[39m.\u001b[39mindex\u001b[39m.\u001b[39m_engine\n\u001b[0;32m   3618\u001b[0m \u001b[39mif\u001b[39;00m \u001b[39mnot\u001b[39;00m \u001b[39misinstance\u001b[39m(\u001b[39mself\u001b[39m\u001b[39m.\u001b[39mindex, MultiIndex):\n\u001b[0;32m   3619\u001b[0m     \u001b[39m# CategoricalIndex: Trying to use the engine fastpath may give incorrect\u001b[39;00m\n\u001b[0;32m   3620\u001b[0m     \u001b[39m#  results if our categories are integers that dont match our codes\u001b[39;00m\n\u001b[0;32m   3621\u001b[0m     \u001b[39m# IntervalIndex: IntervalTree has no get_loc\u001b[39;00m\n\u001b[1;32m-> 3622\u001b[0m     row \u001b[39m=\u001b[39m \u001b[39mself\u001b[39;49m\u001b[39m.\u001b[39;49mindex\u001b[39m.\u001b[39;49mget_loc(index)\n\u001b[0;32m   3623\u001b[0m     \u001b[39mreturn\u001b[39;00m series\u001b[39m.\u001b[39m_values[row]\n\u001b[0;32m   3625\u001b[0m \u001b[39m# For MultiIndex going through engine effectively restricts us to\u001b[39;00m\n\u001b[0;32m   3626\u001b[0m \u001b[39m#  same-length tuples; see test_get_set_value_no_partial_indexing\u001b[39;00m\n",
      "File \u001b[1;32mc:\\bigdata\\lib\\site-packages\\pandas\\core\\indexes\\base.py:3623\u001b[0m, in \u001b[0;36mIndex.get_loc\u001b[1;34m(self, key, method, tolerance)\u001b[0m\n\u001b[0;32m   3621\u001b[0m     \u001b[39mreturn\u001b[39;00m \u001b[39mself\u001b[39m\u001b[39m.\u001b[39m_engine\u001b[39m.\u001b[39mget_loc(casted_key)\n\u001b[0;32m   3622\u001b[0m \u001b[39mexcept\u001b[39;00m \u001b[39mKeyError\u001b[39;00m \u001b[39mas\u001b[39;00m err:\n\u001b[1;32m-> 3623\u001b[0m     \u001b[39mraise\u001b[39;00m \u001b[39mKeyError\u001b[39;00m(key) \u001b[39mfrom\u001b[39;00m \u001b[39merr\u001b[39;00m\n\u001b[0;32m   3624\u001b[0m \u001b[39mexcept\u001b[39;00m \u001b[39mTypeError\u001b[39;00m:\n\u001b[0;32m   3625\u001b[0m     \u001b[39m# If we have a listlike key, _check_indexing_error will raise\u001b[39;00m\n\u001b[0;32m   3626\u001b[0m     \u001b[39m#  InvalidIndexError. Otherwise we fall through and re-raise\u001b[39;00m\n\u001b[0;32m   3627\u001b[0m     \u001b[39m#  the TypeError.\u001b[39;00m\n\u001b[0;32m   3628\u001b[0m     \u001b[39mself\u001b[39m\u001b[39m.\u001b[39m_check_indexing_error(key)\n",
      "\u001b[1;31mKeyError\u001b[0m: 4701"
     ]
    }
   ],
   "source": [
    "korea_exported_list['HS'] = korea_exported_list['HS'].astype('float')\n",
    "korea_exported_list['BEC'] = korea_exported_list['BEC'].astype('float')\n",
    "add_BEC['HS']= add_BEC['HS'].astype('float')\n",
    "\n",
    "\n",
    "for tt in range(len(add_BEC)):\n",
    "    # add_BEC에서 hs 코드 가져오기\n",
    "    hsTemp = add_BEC.loc[tt,'HS']\n",
    "    becTemp = add_BEC.loc[tt,'BEC']\n",
    "    print(becTemp)\n",
    "    # print(hsTemp)\n",
    "   # HS 값이 0보다 크거나, BEC값이 0보다 클때 \n",
    "    if  (hsTemp > 0 and becTemp > 0) :\n",
    "        # korea_exported_list에서\n",
    "        for tb in range(len(korea_exported_list)):\n",
    "            # print(korea_exported_list.loc[tb, 'HS'])\n",
    "            # add_BEC에서 korea_export BEC 값이 같다면\n",
    "            if hsTemp == korea_exported_list.loc[tb,'HS'] :\n",
    "                # print(korea_exported_list.loc[tb,'BEC'])\n",
    "                korea_exported_list.loc[tb,'BEC'] = becTemp\n",
    "                # print(korea_exported_list.loc[tb]['BEC'] )\n",
    "                \n",
    "                \n",
    "#    for krdata in korea_exported_list:\n",
    "#        if tt['HS'] == kfdata['HS']:\n",
    "#            print(krdata['HS'])\n",
    "\n"
   ]
  },
  {
   "cell_type": "code",
   "execution_count": 54,
   "metadata": {},
   "outputs": [
    {
     "name": "stdout",
     "output_type": "stream",
     "text": [
      "nan\n",
      "nan\n",
      "813202.0\n",
      "813202.0\n",
      "411210.0\n",
      "411210.0\n"
     ]
    },
    {
     "data": {
      "text/plain": [
       "HS                           0\n",
       "Product label                0\n",
       "Exported value in 2012       0\n",
       "Exported value in 2013       0\n",
       "Exported value in 2014       0\n",
       "Exported value in 2015       0\n",
       "Exported value in 2016       0\n",
       "Exported value in 2017       0\n",
       "Exported value in 2018       0\n",
       "Exported value in 2019       0\n",
       "Exported value in 2020       0\n",
       "Exported value in 2021       0\n",
       "Unnamed: 12               5016\n",
       "HS4                          0\n",
       "BEC                          2\n",
       "BEC_Pro                    694\n",
       "BEC_Spec                  1592\n",
       "dtype: int64"
      ]
     },
     "execution_count": 54,
     "metadata": {},
     "output_type": "execute_result"
    }
   ],
   "source": [
    "korea_exported_list.reset_index(drop=True, inplace = True)\n",
    "\n",
    "for i in range(len(add_BEC)):\n",
    "    hsTemp = add_BEC.loc[i,'HS']\n",
    "    becTemp = add_BEC.loc[i,'BEC']\n",
    "    print(becTemp)\n",
    "    # 만약 hs와 bec 값이 0보다 크다면\n",
    "    if hsTemp > 0 and becTemp > 0 :\n",
    "        # 기존 데이터 프레임 hs 값과 add hs값이 같을때\n",
    "        for j in range(len(korea_exported_list)) :\n",
    "            if hsTemp == korea_exported_list.loc[j, 'HS'] :\n",
    "                korea_exported_list.loc[j,'BEC'] = becTemp\n",
    "                print(korea_exported_list.loc[j, 'BEC'])\n",
    "            # else :\n",
    "            #     print(j)\n",
    "\n",
    "korea_exported_list.drop_duplicates(inplace=True)\n",
    "korea_exported_list.isnull().sum()"
   ]
  },
  {
   "cell_type": "code",
   "execution_count": null,
   "metadata": {},
   "outputs": [
    {
     "name": "stderr",
     "output_type": "stream",
     "text": [
      "C:\\Users\\user\\AppData\\Local\\Temp\\ipykernel_20176\\225587490.py:4: FutureWarning: Passing 'suffixes' which cause duplicate columns {'BEC_x'} in the result is deprecated and will raise a MergeError in a future version.\n",
      "  korea_exported_list = pd.merge(korea_exported_list, add_BEC, how='left', on='HS')\n"
     ]
    },
    {
     "data": {
      "text/plain": [
       "HS                           0\n",
       "Product label                2\n",
       "Exported value in 2012       2\n",
       "Exported value in 2013       2\n",
       "Exported value in 2014       2\n",
       "Exported value in 2015       2\n",
       "Exported value in 2016       2\n",
       "Exported value in 2017       2\n",
       "Exported value in 2018       2\n",
       "Exported value in 2019       2\n",
       "Exported value in 2020       2\n",
       "Exported value in 2021       2\n",
       "Unnamed: 12               5018\n",
       "HS4                          2\n",
       "BEC_x                        4\n",
       "BEC_Pro                    696\n",
       "BEC_Spec                  1594\n",
       "BEC_y                     5014\n",
       "BEC_x                     5014\n",
       "BEC_y                     5014\n",
       "dtype: int64"
      ]
     },
     "execution_count": 26,
     "metadata": {},
     "output_type": "execute_result"
    }
   ],
   "source": [
    "\n",
    "\n",
    "korea_exported_list['HS'] = korea_exported_list['HS'].astype('float')\n",
    "\n",
    "\n",
    "korea_exported_list = pd.merge(korea_exported_list, add_BEC, how='left', on='HS')\n",
    "\n",
    "# # korea_exported_list.isnull().sum()\n",
    "# # korea_exported_list.drop_duplicates(inplace=True)\n",
    "\n",
    "# # korea_exported_list.append(add_BEC,sort=False)\n",
    "\n",
    "# korea_exported_list.head()\n",
    "\n",
    "# korea_exported_list.isnull().index\n",
    "# korea_exported_list['HS'][korea_exported_list['BEC'].isnull()]\n",
    "# korea_exported_list['BEC'].isnull()\n",
    "# korea_exported_list['HS'][korea_exported_list['BEC'].isnull()]\n",
    "# korea_exported_list.loc[1015,'BEC']\n",
    "korea_exported_list.isnull().sum()"
   ]
  }
 ],
 "metadata": {
  "kernelspec": {
   "display_name": "Python 3.10.4 64-bit",
   "language": "python",
   "name": "python3"
  },
  "language_info": {
   "codemirror_mode": {
    "name": "ipython",
    "version": 3
   },
   "file_extension": ".py",
   "mimetype": "text/x-python",
   "name": "python",
   "nbconvert_exporter": "python",
   "pygments_lexer": "ipython3",
   "version": "3.10.4"
  },
  "orig_nbformat": 4,
  "vscode": {
   "interpreter": {
    "hash": "0406d19bda1fbea09f583b3d3e71462aea9da7cbc837a10ade34850525f7fa2f"
   }
  }
 },
 "nbformat": 4,
 "nbformat_minor": 2
}
